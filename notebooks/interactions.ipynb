{
 "cells": [
  {
   "cell_type": "markdown",
   "id": "854e4189",
   "metadata": {},
   "source": [
    "# Obter interações"
   ]
  },
  {
   "cell_type": "code",
   "execution_count": 1,
   "id": "7c159cec",
   "metadata": {},
   "outputs": [],
   "source": [
    "import os\n",
    "import glob\n",
    "import pandas as pd"
   ]
  },
  {
   "cell_type": "code",
   "execution_count": 2,
   "id": "c343ea01",
   "metadata": {},
   "outputs": [],
   "source": [
    "def load_data(data_dir):\n",
    "    \"\"\"\n",
    "    Load all the data from the data directory\n",
    "    \"\"\"\n",
    "    data = []\n",
    "    for file in glob.glob(os.path.join(data_dir, '*.csv')):\n",
    "        data.append(pd.read_csv(file))\n",
    "    return pd.concat(data, ignore_index=True)"
   ]
  },
  {
   "cell_type": "code",
   "execution_count": 3,
   "id": "22fdab25",
   "metadata": {},
   "outputs": [],
   "source": [
    "df_train = load_data('../data/train')"
   ]
  },
  {
   "cell_type": "code",
   "execution_count": 4,
   "id": "4cda12dc",
   "metadata": {},
   "outputs": [
    {
     "data": {
      "application/vnd.microsoft.datawrangler.viewer.v0+json": {
       "columns": [
        {
         "name": "index",
         "rawType": "int64",
         "type": "integer"
        },
        {
         "name": "userId",
         "rawType": "object",
         "type": "string"
        },
        {
         "name": "userType",
         "rawType": "object",
         "type": "string"
        },
        {
         "name": "historySize",
         "rawType": "int64",
         "type": "integer"
        },
        {
         "name": "history",
         "rawType": "object",
         "type": "string"
        },
        {
         "name": "timestampHistory",
         "rawType": "object",
         "type": "string"
        },
        {
         "name": "numberOfClicksHistory",
         "rawType": "object",
         "type": "string"
        },
        {
         "name": "timeOnPageHistory",
         "rawType": "object",
         "type": "string"
        },
        {
         "name": "scrollPercentageHistory",
         "rawType": "object",
         "type": "string"
        },
        {
         "name": "pageVisitsCountHistory",
         "rawType": "object",
         "type": "string"
        },
        {
         "name": "timestampHistory_new",
         "rawType": "object",
         "type": "string"
        }
       ],
       "conversionMethod": "pd.DataFrame",
       "ref": "cecf4350-c2a5-4e37-8882-18e70855fded",
       "rows": [
        [
         "0",
         "fbb963d61eb8149e7f43b1bd905457ba5e106a830ddc27288434101e7252ef57",
         "Non-Logged",
         "2",
         "80aa7bb2-adce-4a55-9711-912c407927a1, d9e5f15d-b441-4d8b-bee4-462b106d3916",
         "1657908085200, 1659634203762",
         "0, 0",
         "71998, 115232",
         "81.58, 73.36",
         "1, 1",
         "1657908085200, 1659634203762"
        ],
        [
         "1",
         "17f1083e6079b0f28f7820a6803583d1c1b405c0718b11a18d30b1620f643b23",
         "Non-Logged",
         "2",
         "19ba89fc-1e06-4c5d-9c57-4a3088dc0511, e273dba4-136c-45fb-bdd6-0cc57b13aaf0",
         "1657111508570, 1657481309920",
         "68, 12",
         "131495, 43733",
         "51.74, 35.49",
         "1, 1",
         "1657111508570, 1657481309920"
        ],
        [
         "2",
         "528a8d7a2af73101da8d6709c1ec875b449a5a58749a998ae2d949c10d1772df",
         "Non-Logged",
         "2",
         "59a61a8a-cc52-453f-b1cd-2bd019e9d574, a0562805-c7d1-4ffd-b622-87c50ae006f4",
         "1657823890328, 1660141444328",
         "55, 9",
         "159042, 10336",
         "62.19, 48.28",
         "1, 1",
         "1657823890328, 1660141444328"
        ],
        [
         "3",
         "2dd18b58a634a4e77181a202cf152df6169dfb3e4230ef4dc41ea9216be40698",
         "Non-Logged",
         "2",
         "233f8238-2ce0-470f-a9d5-0e0ac530382a, 037155f4-4db8-4f07-8d0a-3e559605b8ad",
         "1656963373076, 1657091888917",
         "0, 0",
         "193579, 20519",
         "31.03, 31.9",
         "1, 1",
         "1656963373076, 1657091888917"
        ],
        [
         "4",
         "97e1439d485b0630e12818d3df84ff67d08475ef6ebeb08e5354779ad6a30fdb",
         "Logged",
         "2",
         "385044ad-3876-4188-83fa-f560435c1a9c, 2f754502-7014-488b-88c7-d41328d5e80d",
         "1657618607633, 1659536839832",
         "57, 38",
         "220000, 130000",
         "52.65, 53.37",
         "1, 1",
         "1657618607633, 1659536839832"
        ]
       ],
       "shape": {
        "columns": 10,
        "rows": 5
       }
      },
      "text/html": [
       "<div>\n",
       "<style scoped>\n",
       "    .dataframe tbody tr th:only-of-type {\n",
       "        vertical-align: middle;\n",
       "    }\n",
       "\n",
       "    .dataframe tbody tr th {\n",
       "        vertical-align: top;\n",
       "    }\n",
       "\n",
       "    .dataframe thead th {\n",
       "        text-align: right;\n",
       "    }\n",
       "</style>\n",
       "<table border=\"1\" class=\"dataframe\">\n",
       "  <thead>\n",
       "    <tr style=\"text-align: right;\">\n",
       "      <th></th>\n",
       "      <th>userId</th>\n",
       "      <th>userType</th>\n",
       "      <th>historySize</th>\n",
       "      <th>history</th>\n",
       "      <th>timestampHistory</th>\n",
       "      <th>numberOfClicksHistory</th>\n",
       "      <th>timeOnPageHistory</th>\n",
       "      <th>scrollPercentageHistory</th>\n",
       "      <th>pageVisitsCountHistory</th>\n",
       "      <th>timestampHistory_new</th>\n",
       "    </tr>\n",
       "  </thead>\n",
       "  <tbody>\n",
       "    <tr>\n",
       "      <th>0</th>\n",
       "      <td>fbb963d61eb8149e7f43b1bd905457ba5e106a830ddc27...</td>\n",
       "      <td>Non-Logged</td>\n",
       "      <td>2</td>\n",
       "      <td>80aa7bb2-adce-4a55-9711-912c407927a1, d9e5f15d...</td>\n",
       "      <td>1657908085200, 1659634203762</td>\n",
       "      <td>0, 0</td>\n",
       "      <td>71998, 115232</td>\n",
       "      <td>81.58, 73.36</td>\n",
       "      <td>1, 1</td>\n",
       "      <td>1657908085200, 1659634203762</td>\n",
       "    </tr>\n",
       "    <tr>\n",
       "      <th>1</th>\n",
       "      <td>17f1083e6079b0f28f7820a6803583d1c1b405c0718b11...</td>\n",
       "      <td>Non-Logged</td>\n",
       "      <td>2</td>\n",
       "      <td>19ba89fc-1e06-4c5d-9c57-4a3088dc0511, e273dba4...</td>\n",
       "      <td>1657111508570, 1657481309920</td>\n",
       "      <td>68, 12</td>\n",
       "      <td>131495, 43733</td>\n",
       "      <td>51.74, 35.49</td>\n",
       "      <td>1, 1</td>\n",
       "      <td>1657111508570, 1657481309920</td>\n",
       "    </tr>\n",
       "    <tr>\n",
       "      <th>2</th>\n",
       "      <td>528a8d7a2af73101da8d6709c1ec875b449a5a58749a99...</td>\n",
       "      <td>Non-Logged</td>\n",
       "      <td>2</td>\n",
       "      <td>59a61a8a-cc52-453f-b1cd-2bd019e9d574, a0562805...</td>\n",
       "      <td>1657823890328, 1660141444328</td>\n",
       "      <td>55, 9</td>\n",
       "      <td>159042, 10336</td>\n",
       "      <td>62.19, 48.28</td>\n",
       "      <td>1, 1</td>\n",
       "      <td>1657823890328, 1660141444328</td>\n",
       "    </tr>\n",
       "    <tr>\n",
       "      <th>3</th>\n",
       "      <td>2dd18b58a634a4e77181a202cf152df6169dfb3e4230ef...</td>\n",
       "      <td>Non-Logged</td>\n",
       "      <td>2</td>\n",
       "      <td>233f8238-2ce0-470f-a9d5-0e0ac530382a, 037155f4...</td>\n",
       "      <td>1656963373076, 1657091888917</td>\n",
       "      <td>0, 0</td>\n",
       "      <td>193579, 20519</td>\n",
       "      <td>31.03, 31.9</td>\n",
       "      <td>1, 1</td>\n",
       "      <td>1656963373076, 1657091888917</td>\n",
       "    </tr>\n",
       "    <tr>\n",
       "      <th>4</th>\n",
       "      <td>97e1439d485b0630e12818d3df84ff67d08475ef6ebeb0...</td>\n",
       "      <td>Logged</td>\n",
       "      <td>2</td>\n",
       "      <td>385044ad-3876-4188-83fa-f560435c1a9c, 2f754502...</td>\n",
       "      <td>1657618607633, 1659536839832</td>\n",
       "      <td>57, 38</td>\n",
       "      <td>220000, 130000</td>\n",
       "      <td>52.65, 53.37</td>\n",
       "      <td>1, 1</td>\n",
       "      <td>1657618607633, 1659536839832</td>\n",
       "    </tr>\n",
       "  </tbody>\n",
       "</table>\n",
       "</div>"
      ],
      "text/plain": [
       "                                              userId    userType  historySize  \\\n",
       "0  fbb963d61eb8149e7f43b1bd905457ba5e106a830ddc27...  Non-Logged            2   \n",
       "1  17f1083e6079b0f28f7820a6803583d1c1b405c0718b11...  Non-Logged            2   \n",
       "2  528a8d7a2af73101da8d6709c1ec875b449a5a58749a99...  Non-Logged            2   \n",
       "3  2dd18b58a634a4e77181a202cf152df6169dfb3e4230ef...  Non-Logged            2   \n",
       "4  97e1439d485b0630e12818d3df84ff67d08475ef6ebeb0...      Logged            2   \n",
       "\n",
       "                                             history  \\\n",
       "0  80aa7bb2-adce-4a55-9711-912c407927a1, d9e5f15d...   \n",
       "1  19ba89fc-1e06-4c5d-9c57-4a3088dc0511, e273dba4...   \n",
       "2  59a61a8a-cc52-453f-b1cd-2bd019e9d574, a0562805...   \n",
       "3  233f8238-2ce0-470f-a9d5-0e0ac530382a, 037155f4...   \n",
       "4  385044ad-3876-4188-83fa-f560435c1a9c, 2f754502...   \n",
       "\n",
       "               timestampHistory numberOfClicksHistory timeOnPageHistory  \\\n",
       "0  1657908085200, 1659634203762                  0, 0     71998, 115232   \n",
       "1  1657111508570, 1657481309920                68, 12     131495, 43733   \n",
       "2  1657823890328, 1660141444328                 55, 9     159042, 10336   \n",
       "3  1656963373076, 1657091888917                  0, 0     193579, 20519   \n",
       "4  1657618607633, 1659536839832                57, 38    220000, 130000   \n",
       "\n",
       "  scrollPercentageHistory pageVisitsCountHistory          timestampHistory_new  \n",
       "0            81.58, 73.36                   1, 1  1657908085200, 1659634203762  \n",
       "1            51.74, 35.49                   1, 1  1657111508570, 1657481309920  \n",
       "2            62.19, 48.28                   1, 1  1657823890328, 1660141444328  \n",
       "3             31.03, 31.9                   1, 1  1656963373076, 1657091888917  \n",
       "4            52.65, 53.37                   1, 1  1657618607633, 1659536839832  "
      ]
     },
     "execution_count": 4,
     "metadata": {},
     "output_type": "execute_result"
    }
   ],
   "source": [
    "df_train.head()"
   ]
  },
  {
   "cell_type": "markdown",
   "id": "ab87858f",
   "metadata": {},
   "source": [
    "## Verificar o tipo das colunas `history`, `timestampHistory`, `numberOfClicksHistory`, `timeOnPageHistory`, `scrollPercentageHistory` e `pageVisitsCountHistory`"
   ]
  },
  {
   "cell_type": "code",
   "execution_count": 5,
   "id": "e9c9c95c",
   "metadata": {},
   "outputs": [
    {
     "name": "stdout",
     "output_type": "stream",
     "text": [
      "userId                     object\n",
      "userType                   object\n",
      "historySize                 int64\n",
      "history                    object\n",
      "timestampHistory           object\n",
      "numberOfClicksHistory      object\n",
      "timeOnPageHistory          object\n",
      "scrollPercentageHistory    object\n",
      "pageVisitsCountHistory     object\n",
      "timestampHistory_new       object\n",
      "dtype: object\n"
     ]
    }
   ],
   "source": [
    "print(df_train.dtypes)"
   ]
  },
  {
   "cell_type": "code",
   "execution_count": 6,
   "id": "44407e67",
   "metadata": {},
   "outputs": [
    {
     "data": {
      "application/vnd.microsoft.datawrangler.viewer.v0+json": {
       "columns": [
        {
         "name": "index",
         "rawType": "int64",
         "type": "integer"
        },
        {
         "name": "userId",
         "rawType": "object",
         "type": "string"
        },
        {
         "name": "userType",
         "rawType": "object",
         "type": "string"
        },
        {
         "name": "historySize",
         "rawType": "int64",
         "type": "integer"
        },
        {
         "name": "history",
         "rawType": "object",
         "type": "string"
        },
        {
         "name": "timestampHistory",
         "rawType": "object",
         "type": "string"
        },
        {
         "name": "numberOfClicksHistory",
         "rawType": "object",
         "type": "string"
        },
        {
         "name": "timeOnPageHistory",
         "rawType": "object",
         "type": "string"
        },
        {
         "name": "scrollPercentageHistory",
         "rawType": "object",
         "type": "string"
        },
        {
         "name": "pageVisitsCountHistory",
         "rawType": "object",
         "type": "string"
        },
        {
         "name": "timestampHistory_new",
         "rawType": "object",
         "type": "string"
        }
       ],
       "conversionMethod": "pd.DataFrame",
       "ref": "c90d42ec-e74e-43e5-a9d0-618f4b58eff1",
       "rows": [
        [
         "0",
         "fbb963d61eb8149e7f43b1bd905457ba5e106a830ddc27288434101e7252ef57",
         "Non-Logged",
         "2",
         "80aa7bb2-adce-4a55-9711-912c407927a1, d9e5f15d-b441-4d8b-bee4-462b106d3916",
         "1657908085200, 1659634203762",
         "0, 0",
         "71998, 115232",
         "81.58, 73.36",
         "1, 1",
         "1657908085200, 1659634203762"
        ],
        [
         "1",
         "17f1083e6079b0f28f7820a6803583d1c1b405c0718b11a18d30b1620f643b23",
         "Non-Logged",
         "2",
         "19ba89fc-1e06-4c5d-9c57-4a3088dc0511, e273dba4-136c-45fb-bdd6-0cc57b13aaf0",
         "1657111508570, 1657481309920",
         "68, 12",
         "131495, 43733",
         "51.74, 35.49",
         "1, 1",
         "1657111508570, 1657481309920"
        ],
        [
         "2",
         "528a8d7a2af73101da8d6709c1ec875b449a5a58749a998ae2d949c10d1772df",
         "Non-Logged",
         "2",
         "59a61a8a-cc52-453f-b1cd-2bd019e9d574, a0562805-c7d1-4ffd-b622-87c50ae006f4",
         "1657823890328, 1660141444328",
         "55, 9",
         "159042, 10336",
         "62.19, 48.28",
         "1, 1",
         "1657823890328, 1660141444328"
        ],
        [
         "3",
         "2dd18b58a634a4e77181a202cf152df6169dfb3e4230ef4dc41ea9216be40698",
         "Non-Logged",
         "2",
         "233f8238-2ce0-470f-a9d5-0e0ac530382a, 037155f4-4db8-4f07-8d0a-3e559605b8ad",
         "1656963373076, 1657091888917",
         "0, 0",
         "193579, 20519",
         "31.03, 31.9",
         "1, 1",
         "1656963373076, 1657091888917"
        ],
        [
         "4",
         "97e1439d485b0630e12818d3df84ff67d08475ef6ebeb08e5354779ad6a30fdb",
         "Logged",
         "2",
         "385044ad-3876-4188-83fa-f560435c1a9c, 2f754502-7014-488b-88c7-d41328d5e80d",
         "1657618607633, 1659536839832",
         "57, 38",
         "220000, 130000",
         "52.65, 53.37",
         "1, 1",
         "1657618607633, 1659536839832"
        ]
       ],
       "shape": {
        "columns": 10,
        "rows": 5
       }
      },
      "text/html": [
       "<div>\n",
       "<style scoped>\n",
       "    .dataframe tbody tr th:only-of-type {\n",
       "        vertical-align: middle;\n",
       "    }\n",
       "\n",
       "    .dataframe tbody tr th {\n",
       "        vertical-align: top;\n",
       "    }\n",
       "\n",
       "    .dataframe thead th {\n",
       "        text-align: right;\n",
       "    }\n",
       "</style>\n",
       "<table border=\"1\" class=\"dataframe\">\n",
       "  <thead>\n",
       "    <tr style=\"text-align: right;\">\n",
       "      <th></th>\n",
       "      <th>userId</th>\n",
       "      <th>userType</th>\n",
       "      <th>historySize</th>\n",
       "      <th>history</th>\n",
       "      <th>timestampHistory</th>\n",
       "      <th>numberOfClicksHistory</th>\n",
       "      <th>timeOnPageHistory</th>\n",
       "      <th>scrollPercentageHistory</th>\n",
       "      <th>pageVisitsCountHistory</th>\n",
       "      <th>timestampHistory_new</th>\n",
       "    </tr>\n",
       "  </thead>\n",
       "  <tbody>\n",
       "    <tr>\n",
       "      <th>0</th>\n",
       "      <td>fbb963d61eb8149e7f43b1bd905457ba5e106a830ddc27...</td>\n",
       "      <td>Non-Logged</td>\n",
       "      <td>2</td>\n",
       "      <td>80aa7bb2-adce-4a55-9711-912c407927a1, d9e5f15d...</td>\n",
       "      <td>1657908085200, 1659634203762</td>\n",
       "      <td>0, 0</td>\n",
       "      <td>71998, 115232</td>\n",
       "      <td>81.58, 73.36</td>\n",
       "      <td>1, 1</td>\n",
       "      <td>1657908085200, 1659634203762</td>\n",
       "    </tr>\n",
       "    <tr>\n",
       "      <th>1</th>\n",
       "      <td>17f1083e6079b0f28f7820a6803583d1c1b405c0718b11...</td>\n",
       "      <td>Non-Logged</td>\n",
       "      <td>2</td>\n",
       "      <td>19ba89fc-1e06-4c5d-9c57-4a3088dc0511, e273dba4...</td>\n",
       "      <td>1657111508570, 1657481309920</td>\n",
       "      <td>68, 12</td>\n",
       "      <td>131495, 43733</td>\n",
       "      <td>51.74, 35.49</td>\n",
       "      <td>1, 1</td>\n",
       "      <td>1657111508570, 1657481309920</td>\n",
       "    </tr>\n",
       "    <tr>\n",
       "      <th>2</th>\n",
       "      <td>528a8d7a2af73101da8d6709c1ec875b449a5a58749a99...</td>\n",
       "      <td>Non-Logged</td>\n",
       "      <td>2</td>\n",
       "      <td>59a61a8a-cc52-453f-b1cd-2bd019e9d574, a0562805...</td>\n",
       "      <td>1657823890328, 1660141444328</td>\n",
       "      <td>55, 9</td>\n",
       "      <td>159042, 10336</td>\n",
       "      <td>62.19, 48.28</td>\n",
       "      <td>1, 1</td>\n",
       "      <td>1657823890328, 1660141444328</td>\n",
       "    </tr>\n",
       "    <tr>\n",
       "      <th>3</th>\n",
       "      <td>2dd18b58a634a4e77181a202cf152df6169dfb3e4230ef...</td>\n",
       "      <td>Non-Logged</td>\n",
       "      <td>2</td>\n",
       "      <td>233f8238-2ce0-470f-a9d5-0e0ac530382a, 037155f4...</td>\n",
       "      <td>1656963373076, 1657091888917</td>\n",
       "      <td>0, 0</td>\n",
       "      <td>193579, 20519</td>\n",
       "      <td>31.03, 31.9</td>\n",
       "      <td>1, 1</td>\n",
       "      <td>1656963373076, 1657091888917</td>\n",
       "    </tr>\n",
       "    <tr>\n",
       "      <th>4</th>\n",
       "      <td>97e1439d485b0630e12818d3df84ff67d08475ef6ebeb0...</td>\n",
       "      <td>Logged</td>\n",
       "      <td>2</td>\n",
       "      <td>385044ad-3876-4188-83fa-f560435c1a9c, 2f754502...</td>\n",
       "      <td>1657618607633, 1659536839832</td>\n",
       "      <td>57, 38</td>\n",
       "      <td>220000, 130000</td>\n",
       "      <td>52.65, 53.37</td>\n",
       "      <td>1, 1</td>\n",
       "      <td>1657618607633, 1659536839832</td>\n",
       "    </tr>\n",
       "  </tbody>\n",
       "</table>\n",
       "</div>"
      ],
      "text/plain": [
       "                                              userId    userType  historySize  \\\n",
       "0  fbb963d61eb8149e7f43b1bd905457ba5e106a830ddc27...  Non-Logged            2   \n",
       "1  17f1083e6079b0f28f7820a6803583d1c1b405c0718b11...  Non-Logged            2   \n",
       "2  528a8d7a2af73101da8d6709c1ec875b449a5a58749a99...  Non-Logged            2   \n",
       "3  2dd18b58a634a4e77181a202cf152df6169dfb3e4230ef...  Non-Logged            2   \n",
       "4  97e1439d485b0630e12818d3df84ff67d08475ef6ebeb0...      Logged            2   \n",
       "\n",
       "                                             history  \\\n",
       "0  80aa7bb2-adce-4a55-9711-912c407927a1, d9e5f15d...   \n",
       "1  19ba89fc-1e06-4c5d-9c57-4a3088dc0511, e273dba4...   \n",
       "2  59a61a8a-cc52-453f-b1cd-2bd019e9d574, a0562805...   \n",
       "3  233f8238-2ce0-470f-a9d5-0e0ac530382a, 037155f4...   \n",
       "4  385044ad-3876-4188-83fa-f560435c1a9c, 2f754502...   \n",
       "\n",
       "               timestampHistory numberOfClicksHistory timeOnPageHistory  \\\n",
       "0  1657908085200, 1659634203762                  0, 0     71998, 115232   \n",
       "1  1657111508570, 1657481309920                68, 12     131495, 43733   \n",
       "2  1657823890328, 1660141444328                 55, 9     159042, 10336   \n",
       "3  1656963373076, 1657091888917                  0, 0     193579, 20519   \n",
       "4  1657618607633, 1659536839832                57, 38    220000, 130000   \n",
       "\n",
       "  scrollPercentageHistory pageVisitsCountHistory          timestampHistory_new  \n",
       "0            81.58, 73.36                   1, 1  1657908085200, 1659634203762  \n",
       "1            51.74, 35.49                   1, 1  1657111508570, 1657481309920  \n",
       "2            62.19, 48.28                   1, 1  1657823890328, 1660141444328  \n",
       "3             31.03, 31.9                   1, 1  1656963373076, 1657091888917  \n",
       "4            52.65, 53.37                   1, 1  1657618607633, 1659536839832  "
      ]
     },
     "execution_count": 6,
     "metadata": {},
     "output_type": "execute_result"
    }
   ],
   "source": [
    "df_train.head()"
   ]
  },
  {
   "cell_type": "code",
   "execution_count": 7,
   "id": "69a53315",
   "metadata": {},
   "outputs": [],
   "source": [
    "import ast\n",
    "\n",
    "def converter_str_para_lista(df, colunas):\n",
    "    for col in colunas:\n",
    "        df[col] = df[col].apply(lambda x: x.split(\", \"))\n",
    "    return df\n",
    "\n",
    "colunas_listas = [\n",
    "    'history',\n",
    "    'timestampHistory',\n",
    "    'numberOfClicksHistory',\n",
    "    'pageVisitsCountHistory',\n",
    "    'timeOnPageHistory',\n",
    "    'scrollPercentageHistory'\n",
    "]\n",
    "\n",
    "df_train = converter_str_para_lista(df_train, colunas_listas)"
   ]
  },
  {
   "cell_type": "code",
   "execution_count": 8,
   "id": "f4eb90e4",
   "metadata": {},
   "outputs": [
    {
     "data": {
      "application/vnd.microsoft.datawrangler.viewer.v0+json": {
       "columns": [
        {
         "name": "index",
         "rawType": "int64",
         "type": "integer"
        },
        {
         "name": "userId",
         "rawType": "object",
         "type": "string"
        },
        {
         "name": "userType",
         "rawType": "object",
         "type": "string"
        },
        {
         "name": "historySize",
         "rawType": "int64",
         "type": "integer"
        },
        {
         "name": "history",
         "rawType": "object",
         "type": "unknown"
        },
        {
         "name": "timestampHistory",
         "rawType": "object",
         "type": "unknown"
        },
        {
         "name": "numberOfClicksHistory",
         "rawType": "object",
         "type": "unknown"
        },
        {
         "name": "timeOnPageHistory",
         "rawType": "object",
         "type": "unknown"
        },
        {
         "name": "scrollPercentageHistory",
         "rawType": "object",
         "type": "unknown"
        },
        {
         "name": "pageVisitsCountHistory",
         "rawType": "object",
         "type": "unknown"
        },
        {
         "name": "timestampHistory_new",
         "rawType": "object",
         "type": "string"
        }
       ],
       "conversionMethod": "pd.DataFrame",
       "ref": "8ae7ba01-31c7-48fd-99c1-cf21dbe511fe",
       "rows": [
        [
         "0",
         "fbb963d61eb8149e7f43b1bd905457ba5e106a830ddc27288434101e7252ef57",
         "Non-Logged",
         "2",
         "['80aa7bb2-adce-4a55-9711-912c407927a1', 'd9e5f15d-b441-4d8b-bee4-462b106d3916']",
         "['1657908085200', '1659634203762']",
         "['0', '0']",
         "['71998', '115232']",
         "['81.58', '73.36']",
         "['1', '1']",
         "1657908085200, 1659634203762"
        ],
        [
         "1",
         "17f1083e6079b0f28f7820a6803583d1c1b405c0718b11a18d30b1620f643b23",
         "Non-Logged",
         "2",
         "['19ba89fc-1e06-4c5d-9c57-4a3088dc0511', 'e273dba4-136c-45fb-bdd6-0cc57b13aaf0']",
         "['1657111508570', '1657481309920']",
         "['68', '12']",
         "['131495', '43733']",
         "['51.74', '35.49']",
         "['1', '1']",
         "1657111508570, 1657481309920"
        ],
        [
         "2",
         "528a8d7a2af73101da8d6709c1ec875b449a5a58749a998ae2d949c10d1772df",
         "Non-Logged",
         "2",
         "['59a61a8a-cc52-453f-b1cd-2bd019e9d574', 'a0562805-c7d1-4ffd-b622-87c50ae006f4']",
         "['1657823890328', '1660141444328']",
         "['55', '9']",
         "['159042', '10336']",
         "['62.19', '48.28']",
         "['1', '1']",
         "1657823890328, 1660141444328"
        ],
        [
         "3",
         "2dd18b58a634a4e77181a202cf152df6169dfb3e4230ef4dc41ea9216be40698",
         "Non-Logged",
         "2",
         "['233f8238-2ce0-470f-a9d5-0e0ac530382a', '037155f4-4db8-4f07-8d0a-3e559605b8ad']",
         "['1656963373076', '1657091888917']",
         "['0', '0']",
         "['193579', '20519']",
         "['31.03', '31.9']",
         "['1', '1']",
         "1656963373076, 1657091888917"
        ],
        [
         "4",
         "97e1439d485b0630e12818d3df84ff67d08475ef6ebeb08e5354779ad6a30fdb",
         "Logged",
         "2",
         "['385044ad-3876-4188-83fa-f560435c1a9c', '2f754502-7014-488b-88c7-d41328d5e80d']",
         "['1657618607633', '1659536839832']",
         "['57', '38']",
         "['220000', '130000']",
         "['52.65', '53.37']",
         "['1', '1']",
         "1657618607633, 1659536839832"
        ]
       ],
       "shape": {
        "columns": 10,
        "rows": 5
       }
      },
      "text/html": [
       "<div>\n",
       "<style scoped>\n",
       "    .dataframe tbody tr th:only-of-type {\n",
       "        vertical-align: middle;\n",
       "    }\n",
       "\n",
       "    .dataframe tbody tr th {\n",
       "        vertical-align: top;\n",
       "    }\n",
       "\n",
       "    .dataframe thead th {\n",
       "        text-align: right;\n",
       "    }\n",
       "</style>\n",
       "<table border=\"1\" class=\"dataframe\">\n",
       "  <thead>\n",
       "    <tr style=\"text-align: right;\">\n",
       "      <th></th>\n",
       "      <th>userId</th>\n",
       "      <th>userType</th>\n",
       "      <th>historySize</th>\n",
       "      <th>history</th>\n",
       "      <th>timestampHistory</th>\n",
       "      <th>numberOfClicksHistory</th>\n",
       "      <th>timeOnPageHistory</th>\n",
       "      <th>scrollPercentageHistory</th>\n",
       "      <th>pageVisitsCountHistory</th>\n",
       "      <th>timestampHistory_new</th>\n",
       "    </tr>\n",
       "  </thead>\n",
       "  <tbody>\n",
       "    <tr>\n",
       "      <th>0</th>\n",
       "      <td>fbb963d61eb8149e7f43b1bd905457ba5e106a830ddc27...</td>\n",
       "      <td>Non-Logged</td>\n",
       "      <td>2</td>\n",
       "      <td>[80aa7bb2-adce-4a55-9711-912c407927a1, d9e5f15...</td>\n",
       "      <td>[1657908085200, 1659634203762]</td>\n",
       "      <td>[0, 0]</td>\n",
       "      <td>[71998, 115232]</td>\n",
       "      <td>[81.58, 73.36]</td>\n",
       "      <td>[1, 1]</td>\n",
       "      <td>1657908085200, 1659634203762</td>\n",
       "    </tr>\n",
       "    <tr>\n",
       "      <th>1</th>\n",
       "      <td>17f1083e6079b0f28f7820a6803583d1c1b405c0718b11...</td>\n",
       "      <td>Non-Logged</td>\n",
       "      <td>2</td>\n",
       "      <td>[19ba89fc-1e06-4c5d-9c57-4a3088dc0511, e273dba...</td>\n",
       "      <td>[1657111508570, 1657481309920]</td>\n",
       "      <td>[68, 12]</td>\n",
       "      <td>[131495, 43733]</td>\n",
       "      <td>[51.74, 35.49]</td>\n",
       "      <td>[1, 1]</td>\n",
       "      <td>1657111508570, 1657481309920</td>\n",
       "    </tr>\n",
       "    <tr>\n",
       "      <th>2</th>\n",
       "      <td>528a8d7a2af73101da8d6709c1ec875b449a5a58749a99...</td>\n",
       "      <td>Non-Logged</td>\n",
       "      <td>2</td>\n",
       "      <td>[59a61a8a-cc52-453f-b1cd-2bd019e9d574, a056280...</td>\n",
       "      <td>[1657823890328, 1660141444328]</td>\n",
       "      <td>[55, 9]</td>\n",
       "      <td>[159042, 10336]</td>\n",
       "      <td>[62.19, 48.28]</td>\n",
       "      <td>[1, 1]</td>\n",
       "      <td>1657823890328, 1660141444328</td>\n",
       "    </tr>\n",
       "    <tr>\n",
       "      <th>3</th>\n",
       "      <td>2dd18b58a634a4e77181a202cf152df6169dfb3e4230ef...</td>\n",
       "      <td>Non-Logged</td>\n",
       "      <td>2</td>\n",
       "      <td>[233f8238-2ce0-470f-a9d5-0e0ac530382a, 037155f...</td>\n",
       "      <td>[1656963373076, 1657091888917]</td>\n",
       "      <td>[0, 0]</td>\n",
       "      <td>[193579, 20519]</td>\n",
       "      <td>[31.03, 31.9]</td>\n",
       "      <td>[1, 1]</td>\n",
       "      <td>1656963373076, 1657091888917</td>\n",
       "    </tr>\n",
       "    <tr>\n",
       "      <th>4</th>\n",
       "      <td>97e1439d485b0630e12818d3df84ff67d08475ef6ebeb0...</td>\n",
       "      <td>Logged</td>\n",
       "      <td>2</td>\n",
       "      <td>[385044ad-3876-4188-83fa-f560435c1a9c, 2f75450...</td>\n",
       "      <td>[1657618607633, 1659536839832]</td>\n",
       "      <td>[57, 38]</td>\n",
       "      <td>[220000, 130000]</td>\n",
       "      <td>[52.65, 53.37]</td>\n",
       "      <td>[1, 1]</td>\n",
       "      <td>1657618607633, 1659536839832</td>\n",
       "    </tr>\n",
       "  </tbody>\n",
       "</table>\n",
       "</div>"
      ],
      "text/plain": [
       "                                              userId    userType  historySize  \\\n",
       "0  fbb963d61eb8149e7f43b1bd905457ba5e106a830ddc27...  Non-Logged            2   \n",
       "1  17f1083e6079b0f28f7820a6803583d1c1b405c0718b11...  Non-Logged            2   \n",
       "2  528a8d7a2af73101da8d6709c1ec875b449a5a58749a99...  Non-Logged            2   \n",
       "3  2dd18b58a634a4e77181a202cf152df6169dfb3e4230ef...  Non-Logged            2   \n",
       "4  97e1439d485b0630e12818d3df84ff67d08475ef6ebeb0...      Logged            2   \n",
       "\n",
       "                                             history  \\\n",
       "0  [80aa7bb2-adce-4a55-9711-912c407927a1, d9e5f15...   \n",
       "1  [19ba89fc-1e06-4c5d-9c57-4a3088dc0511, e273dba...   \n",
       "2  [59a61a8a-cc52-453f-b1cd-2bd019e9d574, a056280...   \n",
       "3  [233f8238-2ce0-470f-a9d5-0e0ac530382a, 037155f...   \n",
       "4  [385044ad-3876-4188-83fa-f560435c1a9c, 2f75450...   \n",
       "\n",
       "                 timestampHistory numberOfClicksHistory timeOnPageHistory  \\\n",
       "0  [1657908085200, 1659634203762]                [0, 0]   [71998, 115232]   \n",
       "1  [1657111508570, 1657481309920]              [68, 12]   [131495, 43733]   \n",
       "2  [1657823890328, 1660141444328]               [55, 9]   [159042, 10336]   \n",
       "3  [1656963373076, 1657091888917]                [0, 0]   [193579, 20519]   \n",
       "4  [1657618607633, 1659536839832]              [57, 38]  [220000, 130000]   \n",
       "\n",
       "  scrollPercentageHistory pageVisitsCountHistory          timestampHistory_new  \n",
       "0          [81.58, 73.36]                 [1, 1]  1657908085200, 1659634203762  \n",
       "1          [51.74, 35.49]                 [1, 1]  1657111508570, 1657481309920  \n",
       "2          [62.19, 48.28]                 [1, 1]  1657823890328, 1660141444328  \n",
       "3           [31.03, 31.9]                 [1, 1]  1656963373076, 1657091888917  \n",
       "4          [52.65, 53.37]                 [1, 1]  1657618607633, 1659536839832  "
      ]
     },
     "execution_count": 8,
     "metadata": {},
     "output_type": "execute_result"
    }
   ],
   "source": [
    "df_train.head()"
   ]
  },
  {
   "cell_type": "code",
   "execution_count": 9,
   "id": "ffae2402",
   "metadata": {},
   "outputs": [
    {
     "name": "stdout",
     "output_type": "stream",
     "text": [
      "                                              userId    userType  \\\n",
      "0  fbb963d61eb8149e7f43b1bd905457ba5e106a830ddc27...  Non-Logged   \n",
      "1  fbb963d61eb8149e7f43b1bd905457ba5e106a830ddc27...  Non-Logged   \n",
      "2  17f1083e6079b0f28f7820a6803583d1c1b405c0718b11...  Non-Logged   \n",
      "3  17f1083e6079b0f28f7820a6803583d1c1b405c0718b11...  Non-Logged   \n",
      "4  528a8d7a2af73101da8d6709c1ec875b449a5a58749a99...  Non-Logged   \n",
      "\n",
      "                                 itemId      timestamp clicks visits  \n",
      "0  80aa7bb2-adce-4a55-9711-912c407927a1  1657908085200      0      1  \n",
      "1  d9e5f15d-b441-4d8b-bee4-462b106d3916  1659634203762      0      1  \n",
      "2  19ba89fc-1e06-4c5d-9c57-4a3088dc0511  1657111508570     68      1  \n",
      "3  e273dba4-136c-45fb-bdd6-0cc57b13aaf0  1657481309920     12      1  \n",
      "4  59a61a8a-cc52-453f-b1cd-2bd019e9d574  1657823890328     55      1  \n"
     ]
    }
   ],
   "source": [
    "import pandas as pd\n",
    "\n",
    "def explodir_interacoes(df):\n",
    "    # Gera uma lista de dicionários, cada dicionário é (userId, userType, itemId, timestamp, clicks, visits)\n",
    "    registros = []\n",
    "\n",
    "    for idx, row in df.iterrows():\n",
    "        user_id = row['userId']\n",
    "        user_type = row['userType']\n",
    "        history = row['history']\n",
    "        timestamps = row['timestampHistory']\n",
    "        clicks = row['numberOfClicksHistory']\n",
    "        visits = row['pageVisitsCountHistory']\n",
    "\n",
    "        # historySize = row['historySize']  # Pode servir de checagem, mas não é estritamente necessário aqui\n",
    "\n",
    "        # Itera sobre cada item na lista\n",
    "        for i in range(len(history)):\n",
    "            # Monta o dicionário com uma \"interação\"\n",
    "            reg = {\n",
    "                'userId': user_id,\n",
    "                'userType': user_type,\n",
    "                'itemId': history[i],\n",
    "                'timestamp': timestamps[i],\n",
    "                'clicks': clicks[i],\n",
    "                'visits': visits[i]\n",
    "            }\n",
    "            registros.append(reg)\n",
    "\n",
    "    df_interacoes = pd.DataFrame(registros)\n",
    "    return df_interacoes\n",
    "\n",
    "df_interacoes = explodir_interacoes(df_train)\n",
    "print(df_interacoes.head())"
   ]
  },
  {
   "cell_type": "code",
   "execution_count": 10,
   "id": "67998a88",
   "metadata": {},
   "outputs": [
    {
     "data": {
      "application/vnd.microsoft.datawrangler.viewer.v0+json": {
       "columns": [
        {
         "name": "index",
         "rawType": "int64",
         "type": "integer"
        },
        {
         "name": "userId",
         "rawType": "object",
         "type": "string"
        },
        {
         "name": "userType",
         "rawType": "object",
         "type": "string"
        },
        {
         "name": "itemId",
         "rawType": "object",
         "type": "string"
        },
        {
         "name": "timestamp",
         "rawType": "object",
         "type": "string"
        },
        {
         "name": "clicks",
         "rawType": "object",
         "type": "string"
        },
        {
         "name": "visits",
         "rawType": "object",
         "type": "string"
        }
       ],
       "conversionMethod": "pd.DataFrame",
       "ref": "13218729-496d-4791-a536-7ab39cda2562",
       "rows": [
        [
         "0",
         "fbb963d61eb8149e7f43b1bd905457ba5e106a830ddc27288434101e7252ef57",
         "Non-Logged",
         "80aa7bb2-adce-4a55-9711-912c407927a1",
         "1657908085200",
         "0",
         "1"
        ],
        [
         "1",
         "fbb963d61eb8149e7f43b1bd905457ba5e106a830ddc27288434101e7252ef57",
         "Non-Logged",
         "d9e5f15d-b441-4d8b-bee4-462b106d3916",
         "1659634203762",
         "0",
         "1"
        ],
        [
         "2",
         "17f1083e6079b0f28f7820a6803583d1c1b405c0718b11a18d30b1620f643b23",
         "Non-Logged",
         "19ba89fc-1e06-4c5d-9c57-4a3088dc0511",
         "1657111508570",
         "68",
         "1"
        ],
        [
         "3",
         "17f1083e6079b0f28f7820a6803583d1c1b405c0718b11a18d30b1620f643b23",
         "Non-Logged",
         "e273dba4-136c-45fb-bdd6-0cc57b13aaf0",
         "1657481309920",
         "12",
         "1"
        ],
        [
         "4",
         "528a8d7a2af73101da8d6709c1ec875b449a5a58749a998ae2d949c10d1772df",
         "Non-Logged",
         "59a61a8a-cc52-453f-b1cd-2bd019e9d574",
         "1657823890328",
         "55",
         "1"
        ]
       ],
       "shape": {
        "columns": 6,
        "rows": 5
       }
      },
      "text/html": [
       "<div>\n",
       "<style scoped>\n",
       "    .dataframe tbody tr th:only-of-type {\n",
       "        vertical-align: middle;\n",
       "    }\n",
       "\n",
       "    .dataframe tbody tr th {\n",
       "        vertical-align: top;\n",
       "    }\n",
       "\n",
       "    .dataframe thead th {\n",
       "        text-align: right;\n",
       "    }\n",
       "</style>\n",
       "<table border=\"1\" class=\"dataframe\">\n",
       "  <thead>\n",
       "    <tr style=\"text-align: right;\">\n",
       "      <th></th>\n",
       "      <th>userId</th>\n",
       "      <th>userType</th>\n",
       "      <th>itemId</th>\n",
       "      <th>timestamp</th>\n",
       "      <th>clicks</th>\n",
       "      <th>visits</th>\n",
       "    </tr>\n",
       "  </thead>\n",
       "  <tbody>\n",
       "    <tr>\n",
       "      <th>0</th>\n",
       "      <td>fbb963d61eb8149e7f43b1bd905457ba5e106a830ddc27...</td>\n",
       "      <td>Non-Logged</td>\n",
       "      <td>80aa7bb2-adce-4a55-9711-912c407927a1</td>\n",
       "      <td>1657908085200</td>\n",
       "      <td>0</td>\n",
       "      <td>1</td>\n",
       "    </tr>\n",
       "    <tr>\n",
       "      <th>1</th>\n",
       "      <td>fbb963d61eb8149e7f43b1bd905457ba5e106a830ddc27...</td>\n",
       "      <td>Non-Logged</td>\n",
       "      <td>d9e5f15d-b441-4d8b-bee4-462b106d3916</td>\n",
       "      <td>1659634203762</td>\n",
       "      <td>0</td>\n",
       "      <td>1</td>\n",
       "    </tr>\n",
       "    <tr>\n",
       "      <th>2</th>\n",
       "      <td>17f1083e6079b0f28f7820a6803583d1c1b405c0718b11...</td>\n",
       "      <td>Non-Logged</td>\n",
       "      <td>19ba89fc-1e06-4c5d-9c57-4a3088dc0511</td>\n",
       "      <td>1657111508570</td>\n",
       "      <td>68</td>\n",
       "      <td>1</td>\n",
       "    </tr>\n",
       "    <tr>\n",
       "      <th>3</th>\n",
       "      <td>17f1083e6079b0f28f7820a6803583d1c1b405c0718b11...</td>\n",
       "      <td>Non-Logged</td>\n",
       "      <td>e273dba4-136c-45fb-bdd6-0cc57b13aaf0</td>\n",
       "      <td>1657481309920</td>\n",
       "      <td>12</td>\n",
       "      <td>1</td>\n",
       "    </tr>\n",
       "    <tr>\n",
       "      <th>4</th>\n",
       "      <td>528a8d7a2af73101da8d6709c1ec875b449a5a58749a99...</td>\n",
       "      <td>Non-Logged</td>\n",
       "      <td>59a61a8a-cc52-453f-b1cd-2bd019e9d574</td>\n",
       "      <td>1657823890328</td>\n",
       "      <td>55</td>\n",
       "      <td>1</td>\n",
       "    </tr>\n",
       "  </tbody>\n",
       "</table>\n",
       "</div>"
      ],
      "text/plain": [
       "                                              userId    userType  \\\n",
       "0  fbb963d61eb8149e7f43b1bd905457ba5e106a830ddc27...  Non-Logged   \n",
       "1  fbb963d61eb8149e7f43b1bd905457ba5e106a830ddc27...  Non-Logged   \n",
       "2  17f1083e6079b0f28f7820a6803583d1c1b405c0718b11...  Non-Logged   \n",
       "3  17f1083e6079b0f28f7820a6803583d1c1b405c0718b11...  Non-Logged   \n",
       "4  528a8d7a2af73101da8d6709c1ec875b449a5a58749a99...  Non-Logged   \n",
       "\n",
       "                                 itemId      timestamp clicks visits  \n",
       "0  80aa7bb2-adce-4a55-9711-912c407927a1  1657908085200      0      1  \n",
       "1  d9e5f15d-b441-4d8b-bee4-462b106d3916  1659634203762      0      1  \n",
       "2  19ba89fc-1e06-4c5d-9c57-4a3088dc0511  1657111508570     68      1  \n",
       "3  e273dba4-136c-45fb-bdd6-0cc57b13aaf0  1657481309920     12      1  \n",
       "4  59a61a8a-cc52-453f-b1cd-2bd019e9d574  1657823890328     55      1  "
      ]
     },
     "execution_count": 10,
     "metadata": {},
     "output_type": "execute_result"
    }
   ],
   "source": [
    "df_interacoes.head()"
   ]
  },
  {
   "cell_type": "code",
   "execution_count": 11,
   "id": "7caf3d77",
   "metadata": {},
   "outputs": [],
   "source": [
    "df_interacoes.to_csv('../data/intermediary/interactions.csv', index=False)"
   ]
  },
  {
   "cell_type": "code",
   "execution_count": null,
   "id": "3f16fab8",
   "metadata": {},
   "outputs": [],
   "source": []
  }
 ],
 "metadata": {
  "kernelspec": {
   "display_name": "recommendation-system",
   "language": "python",
   "name": "python3"
  },
  "language_info": {
   "codemirror_mode": {
    "name": "ipython",
    "version": 3
   },
   "file_extension": ".py",
   "mimetype": "text/x-python",
   "name": "python",
   "nbconvert_exporter": "python",
   "pygments_lexer": "ipython3",
   "version": "3.13.2"
  }
 },
 "nbformat": 4,
 "nbformat_minor": 5
}
