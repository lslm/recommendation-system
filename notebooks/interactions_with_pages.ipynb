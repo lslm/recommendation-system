{
 "cells": [
  {
   "cell_type": "markdown",
   "metadata": {},
   "source": [
    "# Interações com matérias"
   ]
  },
  {
   "cell_type": "code",
   "execution_count": 3,
   "metadata": {},
   "outputs": [],
   "source": [
    "import os\n",
    "import glob\n",
    "import pandas as pd\n",
    "\n",
    "import numpy as np\n",
    "from scipy.sparse import coo_matrix"
   ]
  },
  {
   "cell_type": "code",
   "execution_count": 4,
   "metadata": {},
   "outputs": [
    {
     "data": {
      "application/vnd.microsoft.datawrangler.viewer.v0+json": {
       "columns": [
        {
         "name": "index",
         "rawType": "int64",
         "type": "integer"
        },
        {
         "name": "userId",
         "rawType": "object",
         "type": "string"
        },
        {
         "name": "userType",
         "rawType": "object",
         "type": "string"
        },
        {
         "name": "itemId",
         "rawType": "object",
         "type": "string"
        },
        {
         "name": "timestamp",
         "rawType": "int64",
         "type": "integer"
        },
        {
         "name": "clicks",
         "rawType": "int64",
         "type": "integer"
        },
        {
         "name": "visits",
         "rawType": "int64",
         "type": "integer"
        }
       ],
       "conversionMethod": "pd.DataFrame",
       "ref": "2916952d-0325-425a-afe2-f5af452d8ac7",
       "rows": [
        [
         "0",
         "fbb963d61eb8149e7f43b1bd905457ba5e106a830ddc27288434101e7252ef57",
         "Non-Logged",
         "80aa7bb2-adce-4a55-9711-912c407927a1",
         "1657908085200",
         "0",
         "1"
        ],
        [
         "1",
         "fbb963d61eb8149e7f43b1bd905457ba5e106a830ddc27288434101e7252ef57",
         "Non-Logged",
         "d9e5f15d-b441-4d8b-bee4-462b106d3916",
         "1659634203762",
         "0",
         "1"
        ],
        [
         "2",
         "17f1083e6079b0f28f7820a6803583d1c1b405c0718b11a18d30b1620f643b23",
         "Non-Logged",
         "19ba89fc-1e06-4c5d-9c57-4a3088dc0511",
         "1657111508570",
         "68",
         "1"
        ],
        [
         "3",
         "17f1083e6079b0f28f7820a6803583d1c1b405c0718b11a18d30b1620f643b23",
         "Non-Logged",
         "e273dba4-136c-45fb-bdd6-0cc57b13aaf0",
         "1657481309920",
         "12",
         "1"
        ],
        [
         "4",
         "528a8d7a2af73101da8d6709c1ec875b449a5a58749a998ae2d949c10d1772df",
         "Non-Logged",
         "59a61a8a-cc52-453f-b1cd-2bd019e9d574",
         "1657823890328",
         "55",
         "1"
        ]
       ],
       "shape": {
        "columns": 6,
        "rows": 5
       }
      },
      "text/html": [
       "<div>\n",
       "<style scoped>\n",
       "    .dataframe tbody tr th:only-of-type {\n",
       "        vertical-align: middle;\n",
       "    }\n",
       "\n",
       "    .dataframe tbody tr th {\n",
       "        vertical-align: top;\n",
       "    }\n",
       "\n",
       "    .dataframe thead th {\n",
       "        text-align: right;\n",
       "    }\n",
       "</style>\n",
       "<table border=\"1\" class=\"dataframe\">\n",
       "  <thead>\n",
       "    <tr style=\"text-align: right;\">\n",
       "      <th></th>\n",
       "      <th>userId</th>\n",
       "      <th>userType</th>\n",
       "      <th>itemId</th>\n",
       "      <th>timestamp</th>\n",
       "      <th>clicks</th>\n",
       "      <th>visits</th>\n",
       "    </tr>\n",
       "  </thead>\n",
       "  <tbody>\n",
       "    <tr>\n",
       "      <th>0</th>\n",
       "      <td>fbb963d61eb8149e7f43b1bd905457ba5e106a830ddc27...</td>\n",
       "      <td>Non-Logged</td>\n",
       "      <td>80aa7bb2-adce-4a55-9711-912c407927a1</td>\n",
       "      <td>1657908085200</td>\n",
       "      <td>0</td>\n",
       "      <td>1</td>\n",
       "    </tr>\n",
       "    <tr>\n",
       "      <th>1</th>\n",
       "      <td>fbb963d61eb8149e7f43b1bd905457ba5e106a830ddc27...</td>\n",
       "      <td>Non-Logged</td>\n",
       "      <td>d9e5f15d-b441-4d8b-bee4-462b106d3916</td>\n",
       "      <td>1659634203762</td>\n",
       "      <td>0</td>\n",
       "      <td>1</td>\n",
       "    </tr>\n",
       "    <tr>\n",
       "      <th>2</th>\n",
       "      <td>17f1083e6079b0f28f7820a6803583d1c1b405c0718b11...</td>\n",
       "      <td>Non-Logged</td>\n",
       "      <td>19ba89fc-1e06-4c5d-9c57-4a3088dc0511</td>\n",
       "      <td>1657111508570</td>\n",
       "      <td>68</td>\n",
       "      <td>1</td>\n",
       "    </tr>\n",
       "    <tr>\n",
       "      <th>3</th>\n",
       "      <td>17f1083e6079b0f28f7820a6803583d1c1b405c0718b11...</td>\n",
       "      <td>Non-Logged</td>\n",
       "      <td>e273dba4-136c-45fb-bdd6-0cc57b13aaf0</td>\n",
       "      <td>1657481309920</td>\n",
       "      <td>12</td>\n",
       "      <td>1</td>\n",
       "    </tr>\n",
       "    <tr>\n",
       "      <th>4</th>\n",
       "      <td>528a8d7a2af73101da8d6709c1ec875b449a5a58749a99...</td>\n",
       "      <td>Non-Logged</td>\n",
       "      <td>59a61a8a-cc52-453f-b1cd-2bd019e9d574</td>\n",
       "      <td>1657823890328</td>\n",
       "      <td>55</td>\n",
       "      <td>1</td>\n",
       "    </tr>\n",
       "  </tbody>\n",
       "</table>\n",
       "</div>"
      ],
      "text/plain": [
       "                                              userId    userType  \\\n",
       "0  fbb963d61eb8149e7f43b1bd905457ba5e106a830ddc27...  Non-Logged   \n",
       "1  fbb963d61eb8149e7f43b1bd905457ba5e106a830ddc27...  Non-Logged   \n",
       "2  17f1083e6079b0f28f7820a6803583d1c1b405c0718b11...  Non-Logged   \n",
       "3  17f1083e6079b0f28f7820a6803583d1c1b405c0718b11...  Non-Logged   \n",
       "4  528a8d7a2af73101da8d6709c1ec875b449a5a58749a99...  Non-Logged   \n",
       "\n",
       "                                 itemId      timestamp  clicks  visits  \n",
       "0  80aa7bb2-adce-4a55-9711-912c407927a1  1657908085200       0       1  \n",
       "1  d9e5f15d-b441-4d8b-bee4-462b106d3916  1659634203762       0       1  \n",
       "2  19ba89fc-1e06-4c5d-9c57-4a3088dc0511  1657111508570      68       1  \n",
       "3  e273dba4-136c-45fb-bdd6-0cc57b13aaf0  1657481309920      12       1  \n",
       "4  59a61a8a-cc52-453f-b1cd-2bd019e9d574  1657823890328      55       1  "
      ]
     },
     "execution_count": 4,
     "metadata": {},
     "output_type": "execute_result"
    }
   ],
   "source": [
    "# Carregar arquivo \"interactions.csv\"\n",
    "df_interactions = pd.read_csv(\"../data/intermediary/interactions.csv\")\n",
    "df_interactions.head()"
   ]
  },
  {
   "cell_type": "code",
   "execution_count": 5,
   "metadata": {},
   "outputs": [
    {
     "data": {
      "application/vnd.microsoft.datawrangler.viewer.v0+json": {
       "columns": [
        {
         "name": "index",
         "rawType": "int64",
         "type": "integer"
        },
        {
         "name": "page",
         "rawType": "object",
         "type": "string"
        },
        {
         "name": "url",
         "rawType": "object",
         "type": "string"
        },
        {
         "name": "issued",
         "rawType": "object",
         "type": "string"
        },
        {
         "name": "modified",
         "rawType": "object",
         "type": "string"
        },
        {
         "name": "title",
         "rawType": "object",
         "type": "string"
        },
        {
         "name": "body",
         "rawType": "object",
         "type": "string"
        },
        {
         "name": "caption",
         "rawType": "object",
         "type": "string"
        }
       ],
       "conversionMethod": "pd.DataFrame",
       "ref": "822f4fd8-b737-4126-ad0f-15d418df3086",
       "rows": [
        [
         "0",
         "7371a9b5-5824-4c57-8704-00a74feebe79",
         "http://g1.globo.com/al/alagoas/noticia/2018/09/13/corpo-de-motorista-por-aplicativo-e-encontrado-em-canavial-em-roteiro-al.ghtml",
         "2018-09-13 14:52:55+00:00",
         "2018-09-14 16:14:49+00:00",
         "Corpo de motorista da Uber é encontrado em canavial em Roteiro, AL",
         "Corpo de motorista de aplicativo desaparecido é encontrado\nO corpo de um motorista cadastrado da Uber, aplicativo de transporte particular de passageiros, foi encontrado em um canavial em Roteiro, Litoral Sul de Alagoas, na manhã desta quinta-feira (13). \nA vítima foi identificada como Antônio Vitor Neto, 21. Segundo a polícia, ele foi atingido por um tiro na nuca e teve o carro roubado.\nAo G1, o posicionamento da Uber sobre o caso foi que a vítima tinha cadastro no aplicativo, mas nunca chegou a realizar viagens ou a trabalhar como motorista através da plataforma. \nAmigos de Antônio Neto disseram que ele dirigia um carro de modelo Celta e cor vermelha. As características e o número das placas batem com o veículo encontrado nesta manhã em Massagueira que, segundo a polícia, foi usado em um outro homicídio.\nDe acordo com a 1ª Companhia Independente (1ª CIA) de São Miguel dos Campos, Antônio Vitor foi solicitado para fazer uma corrida de Maceió para Marechal Deodoro, e, em seguida, outra de Marechal Deodoro para Roteiro na quarta (12). \n“Depois que ele chegou em Roteiro, ele perdeu o sinal e foi encontrado hoje, morto”, disse o tenente Aurélio, da 1ª Cia.\nOs institutos Médico Legal (IML) e de Criminalística (IC) foram encaminhados ao local para realizar os procedimentos cabíveis. \nCorpo é encontrado em canavial no interior de Alagoas\nReprodução/TV Gazeta\nVeja mais notícias da região no G1 Alagoas",
         "Segundo a polícia, Antônio Vitor foi solicitado para duas corridas e depois disso, desapareceu. "
        ],
        [
         "1",
         "7a5ea08f-4583-49e2-ba52-a71999443f7b",
         "http://g1.globo.com/am/amazonas/noticia/detento-recapturado-apos-fuga-por-tunel-volta-para-cdpm-2-em-manaus.ghtml",
         "2018-05-20 20:42:40+00:00",
         "2018-05-20 20:42:40+00:00",
         "Detento recapturado após fuga por túnel volta para CDPM 2, em Manaus",
         "Detento disse que passou nome falso ao dar entrada em presídio; ele é o 1º dos 35 foragidos a ser recapturado\nPatrick Marques/G1\nMaruan Mota de Oliveira, um dos 35 presos que fugiram do Centro de Detenção Provisória 2 (CDPM 2) por um túnel, no dia 12 de maio, voltou para o presídio no sábado (19). Na unidade prisional, ele tinha registro com o nome, Josué Mota de Oliveira, divulgado na lista de foragidos.\nO preso foi o único dos fugitivos a ser recapturado, após uma semana do ocorrido. Ele foi preso na sexta-feira (18), perto do Terminal 1, no Centro de Manaus, quando deixava um hotel nas proximidades. \nMaruan foi preso pelo crime de roubo e porte ilegal de arma de fogo. Após retornar ao sistema prisional, o Departamento de Inteligência Penitenciária (Dipen) colheu o depoimento dele sobre a fuga. \nPosteriormente, o homem será ouvido também pela Secretaria de Administração Penitenciária (Seap) no conselho disciplinar e pela Polícia Civil para o inquérito policial que foi aberto para apurar a fuga.\nO registro da fuga será incluído na certidão carcerária de Maruan, onde constam todas as trangressões dos internos que são avaliadas pelo poder judiciário. Outras medidas disciplinares serão aplicadas após a conclusão do conselho disciplinar, segundo a Seap.\nFuga\nA fuga ocorreu por meio de um túnel, encontrado próximo a área externa do pavilhão 5 do CDPM 2. O presídio fica situado no km 8 da rodovia BR-174, que liga Manaus a Boa Vista. Com o episódio, o número de foragidos do sistema prisional da capital passa de 90.\nNo mesmo dia da fuga, a Secretária de Segurança Pública do Amazonas (SSP-AM) iniciou uma operação para recapturar os presos. Os efetivos da Polícia Militar, Polícia Civil, Secretaria Executiva Adjunta de Operações (Seaop) e Secretaria Executiva Adjunta de Inteligência (Seai) participam da ação.\nA Seap deve abrir um procedimento administrativo para apurar as circunstâncias da fuga. Em pronunciamento sobre o caso, na segunda-feira (14), o secretário da pasta, Cleitman Coelho, assumiu uma possível facilitação por parte de servidores da cadeia para a fuga dos presos.",
         "Ele tinha registro em presídio com nome falso. Apenas um dos 35 presos que escaparam da unidade prisional foi recapturado após uma semana."
        ],
        [
         "2",
         "6afc8bbb-4f36-43d5-8a44-a2917df5621a",
         "http://g1.globo.com/ap/amapa/noticia/audios-mostram-conversa-entre-bandidos-durante-tentativa-de-fuga-em-presidio-no-amapa.ghtml",
         "2017-07-30 00:37:17+00:00",
         "2017-07-30 00:48:42+00:00",
         "Áudios mostram conversa entre bandidos durante tentativa de fuga em presídio no Amapá",
         "Áudios mostram possível conversa entre bandidos na tentativa de fuga no Iapen\nAgentes penitenciários encontraram uma conversa pelo Whatsapp que chamou a atenção. Em áudios, um bandido e um detento comentam sobre o ataque que ocorreu durante uma tentativa de fuga do Instituto de Administração Penitenciário do Amapá (Iapen), no dia 21. A conversa estava em um dos 24 celulares apreendidos em revista realizada na sexta-feira (28) dentro do presídio. \n“Quem puder dar apoio aqui no cadeião, tentativa de fuga. Estão atirando na penitenciária máxima na G4, na G5. O guerreiro da G5 foi alvejado no Braço [sic]”, diz trecho de um dos áudios enviados para a Rede Amazônica no Amapá. \nNo dia do ataque, um agente foi baleado no braço direito após disparos de criminosos que tentaram prestar apoio para os internos que tinham planejado a fuga. Uma escada feita com cordas foi encontrada jogada no muro do presídio. Nenhum interno conseguiu fugir. \nConversa estava em celular apreendido durante revista no Iapen\nReprodução\nA fuga também seria através de um buraco feito no muro durante uma obra inacabada da instituição. Um preso ficou ferido ao tentar passar pelo buraco, mas ele só foi identificado durante uma contagem nominal. \nO confronto aconteceu no pavilhão F3, destinado ao regime fechado, entre as guaritas G4 e G5, que estavam com vigilância. Os agentes não tinham coletes à prova de balas.\nOutro trecho da conversa pelo Whataspp diz: “Foi uma meia-noite. Foi mais de 30 disparos em cima da G4 e G5. Eles fizeram só se abrigar [sic]”. \nPara o Sindicato dos Agentes e Educadores Penitenciários do Amapá (Sinapen), falta mais segurança para os trabalhadores, como equipamentos de proteção e reforço no número de agentes para a demanda de internos. Seriam necessários cerca de 200 coletes à prova de balas e capacetes, além da contratação de 300 servidores. \nAinda segundo o sindicato, a direção do Iapen informou que fez a compra de três coletes e emprestou mais oito da Polícia Militar (PM) e outros equipamentos ainda devem ser adquiridos. No entanto, a categoria diz que não é suficiente.\nAgente foi baleado quando fazia vigilância em guarita\nJorge Abreu/G1\n*Com informações da Rede Amazônica no Amapá\nTem alguma notícia para compartilhar? Envie para o VC no G1 AP ou por Whatsapp, nos números (96) 99178-9663 e 99115-6081.",
         "Revista realizada na sexta-feira (28) no Iapen apreendeu 24 celulares e drogas. Em um dos aparelhos, agentes encontraram a troca de mensagens entre detento e bandido."
        ],
        [
         "3",
         "5cc3bd27-80c7-457d-a807-2e8e7fddf031",
         "http://g1.globo.com/ap/amapa/noticia/2020/11/06/fotos-apagao-no-amapa.ghtml",
         "2020-11-06 12:54:00+00:00",
         "2020-11-12 21:22:52+00:00",
         "FOTOS: Apagão no Amapá ",
         "Moradores da capital do Amapá, em Macapá, fazem protestos \nMaksuel Martins/Estadão Conteúdo\nSem água, mãe e filha tomam banho e lavam roupa usando baldes em Macapá\nRede Amazônica/Reprodução\nMoradores buscam Rio Amazonas, na orla de Macapá, para fugir do calor em meio a apagão no Amapá\nRafael Aleixo/Arquivo Pessoal\nAto no Centro de Macapá reivindicou melhorias para energia do Amapá\nCaio Coutinho/G1\nFogo em pneus e pedaços de madeira no meio da BR-210, em Macapá\nRonaldo Brito/Rede Amazônica\nProtesto na Zona Norte de Macapá teve queima de pneus\nRonaldo Brito/Rede Amazônica\nAto incendiou pneus na BR-210, na Zona Norte de Macapá\nReprodução\nAto no Centro de Macapá reivindicou melhorias para energia do Amapá\nCaio Coutinho/G1\nAto no Centro de Macapá reivindicou melhorias para energia do Amapá\nCaio Coutinho/G1\nAto no Centro de Macapá reivindicou melhorias para energia do Amapá\nCaio Coutinho/G1\nAto no Centro de Macapá reivindicou melhorias para energia do Amapá\nCaio Coutinho/G1\nMoradores de Macapá reclamam que o sistema de rodízio de energia não está funcionando corretamente\nGloboNews/Reprodução\nApagão no Centro de Macapá\nMaksuel Martins/Fotoarena/Estadão Conteúdo\nInvestigação da Polícia Civil no gerador queimado \nJN\nApagão tem filas em postos de gasolina e procura por água potável\nJorge Júnior/Rede Amazônica\nApagão tem filas em postos de gasolina e procura por água potável\nJorge Júnior/Rede Amazônica\nBanhistas na orla do bairro Cidade Nova em meio a apagão no Amapá\nRede Amazônica/Reprodução\nApagão no Amapá\nAlbenir Sousa/Rede Amazônica\nMacapaenses foram até o aeroporto da cidade em busca de energia\nRede Amazônica/Reprodução\nIncêndio atingiu subestação de energia durante chuva em Macapá\nReprodução\nHotéis de Macapá lotaram durante apagão no Amapá\nRede Amazônica/Reprodução\nMacapaenses correram para supermercado em busca de energia para carregarem celulares\nRafaella Bittencourt/Rede Amazônica\nPessoas ocupam shoppings e aeroporto em busca de energia em Macaá\nWedson Castro/Rede Amazônica\nHotéis de Macapá lotaram durante apagão no Amapá\nRede Amazônica/Reprodução\nLocal que pegou fogo em subestação e deixou Amapá sem energia\nArquivo Pessoal\nMacapá e outros municípios ficaram no escuro na madrugada\nRede Amazônica/Reprodução\nAssim como em Santana, conjuntos semafóricos foram desligados em todo o estado por falta de energia\nRede Amazônica/Reprodução\nRedes de telecomunicações sofreram interrupções ao longo do dia \nRede Amazônica/Reprodução\nPessoas lotaram supermercados que ficaram abertos ao longo do dia\nRafaella Bittencourt/Rede Amazônica\nMacapaenses buscaram supermercado para carregarem celulares\nRafaella Bittencourt/Rede Amazônica\nVelas e óleos foram alguns dos itens mais procurados por macapaenses em supermercados durante apagão\nRafaella Bittencourt/Rede Amazônica\nMacapaenses buscaram supermercados durante apagão em busca de velas e fósforos\nRafaella Bittencourt/Rede Amazônica\nFilas se formaram em postos de combustíveis de Macapá durante apagão\nVictor Vidigal/G1 \nMaternidade também sofreu com apagão em Macapá\nVictor Vidigal/G1\nIncêndio atinge subestação de energia durante chuva na Zona Norte de Macapá\nReprodução\nVeja o plantão de últimas notícias do G1 Amapá\nInitial plugin text\nASSISTA abaixo o que foi destaque no AP:",
         "Incêndio em subestação de energia deixa 13 dos 16 municípios do estado sem energia elétrica desde a noite de terça-feira (3)."
        ],
        [
         "4",
         "d6956177-db96-42f5-9f68-dd0d6e930661",
         "http://g1.globo.com/ap/amapa/noticia/2019/05/27/profissionais-da-educacao-no-ap-paralisam-atividades-por-falta-de-reajustes-salariais.ghtml",
         "2019-05-27 13:43:03+00:00",
         "2019-05-27 18:19:06+00:00",
         "Profissionais da educação no AP paralisam atividades por falta de reajustes salariais",
         "Profissionais da educação paralisam atividades por falta de reajustes salariais; grupo se reuniu na Praça da Bandeira, em Macapá\nCarlos Alberto Jr/G1\nProfissionais da educação da rede pública do Amapá iniciaram nesta segunda-feira (27) uma paralisação, com previsão para durar 15 dias. Segundo o Sindicato dos Servidores Públicos em Educação no Amapá (Sinsepeap), que mobiliza a paralisação, há escolas em todo o estado sem aulas; só em Macapá, 80% das escolas estariam afetadas.\nO ato é uma reação ao anúncio do Governo do Estado do Amapá (GEA) da não concessão de ajustes salariais. O Sinsepeap ainda cita negativas do governo em abrir mesa de negociação com a categoria. Um grupo se concentrou na Praça da Bandeira, no Centro de Macapá, das 9h às 11h50.\nEm nota, o GEA afirmou que \"mantém o diálogo permanente com todas as categorias de servidores públicos, dentro da Agenda do Servidor\", e que já assinou \"44 leis que implementaram gratificações, progressões e incorporações ao funcionalismo\".\nNa mesma nota, a Seed declarou que nenhuma escola parou as atividades e que algumas instituições tiveram faltas pontuais de professores.\nA Seed afirmou ainda que, em conjunto com o Sinsepeap, deve elaborar calendário de reposição das aulas visando garantir o cumprimento do ano letivo para que a comunidade escolar não seja prejudicada.\nNa sexta-feira (24), através de ação ajuizada pelo GEA, o Tribunal de Justiça do Amapá (Tjap) determinou que o Sinsepeap se abstivesse de realizar a paralisação, para garantir a regularidade e continuidade da prestação dos serviços de educação, sob pena de multa diário no valor de R$ 300 mil em caso de descumprimento.\nMesmo com decisão judicial barrando movimento, grupo de professores paralisaram atividades no Amapá\nCarlos Alberto Jr/G1\nPor volta das 11h40, os líderes do sindicato, que estavam em frente ao Palácio do Setentrião, foram notificados por um oficial de Justiça, que culminou na suspensão do ato desta segunda-feira. O Sinsepeap informou que, na terça-feira (28), a categoria vai se reunir em nova assembleia para definir se a paralisação das atividades serão mantidas ou não.\nAtuando como pedagoga há 24 anos, Odiléa da Silva, que atua na Escola Estadual Maria Ivone de Menezes, no bairro Perpétuo Socorro, na capital, cita insatisfação com a administração pública em relação às questões salariais assim como condições estruturais das escolas.\n“Hoje saímos de casa pela falta de reajuste, mas também por outros problemas, que são desde as estruturas da escola até o sucateamento do ensino. Não dá para educar sem a estrutura mínima e o educador não pode trabalhar sem conseguir pagar as contas”, disse Odiléa.\nOdiléa da Silva, pedagoga, disse que paralisação também é por problemas de falta de estrutura das escolas\nCarlos Alberto Jr/G1\nO secretário geral do sindicato, Otávio Brito, informou que a paralisação envolve profissionais da rede estadual de todos os municípios.\nJustiça\nO GEA ajuizou na sexta-feira uma ação em caráter de urgência na Justiça contra o Sinsepeap, para impedir a suspensão das atividades em salas de aula. Na ação, o Estado justificou que o sindicato não comprovou o preenchimento dos requisitos legais para a realização do movimento grevista.\nNa decisão, o desembargador Rommel Araújo de Oliveira citou que o movimento grevista deflagrado pelos servidores públicos “deve pautar-se em requisitos específicos, tomadas por base as Leis de números 7.701/88 e 7.783/1989, em respeito ao interesse público e à continuidade dos serviços prestados pela Administração”.\nOliveira entendeu que esta paralisação do Sinsepeap fere ao artigo 4º da lei de greve, porque na ata da assembleia geral não retrata a posição dos profissionais quanto à deflagração de greve, visto que no documento constam apenas duas assinaturas.\nPara ler mais notícias do estado, acesse o G1 Amapá.",
         "Ato comprometeu aulas em escolas nesta segunda, diz Sinsepeap; Seed nega. Tjap determinou que paralisação não ocorresse, sob pena de multa de R$ 300 mil/dia."
        ]
       ],
       "shape": {
        "columns": 7,
        "rows": 5
       }
      },
      "text/html": [
       "<div>\n",
       "<style scoped>\n",
       "    .dataframe tbody tr th:only-of-type {\n",
       "        vertical-align: middle;\n",
       "    }\n",
       "\n",
       "    .dataframe tbody tr th {\n",
       "        vertical-align: top;\n",
       "    }\n",
       "\n",
       "    .dataframe thead th {\n",
       "        text-align: right;\n",
       "    }\n",
       "</style>\n",
       "<table border=\"1\" class=\"dataframe\">\n",
       "  <thead>\n",
       "    <tr style=\"text-align: right;\">\n",
       "      <th></th>\n",
       "      <th>page</th>\n",
       "      <th>url</th>\n",
       "      <th>issued</th>\n",
       "      <th>modified</th>\n",
       "      <th>title</th>\n",
       "      <th>body</th>\n",
       "      <th>caption</th>\n",
       "    </tr>\n",
       "  </thead>\n",
       "  <tbody>\n",
       "    <tr>\n",
       "      <th>0</th>\n",
       "      <td>7371a9b5-5824-4c57-8704-00a74feebe79</td>\n",
       "      <td>http://g1.globo.com/al/alagoas/noticia/2018/09...</td>\n",
       "      <td>2018-09-13 14:52:55+00:00</td>\n",
       "      <td>2018-09-14 16:14:49+00:00</td>\n",
       "      <td>Corpo de motorista da Uber é encontrado em can...</td>\n",
       "      <td>Corpo de motorista de aplicativo desaparecido ...</td>\n",
       "      <td>Segundo a polícia, Antônio Vitor foi solicitad...</td>\n",
       "    </tr>\n",
       "    <tr>\n",
       "      <th>1</th>\n",
       "      <td>7a5ea08f-4583-49e2-ba52-a71999443f7b</td>\n",
       "      <td>http://g1.globo.com/am/amazonas/noticia/detent...</td>\n",
       "      <td>2018-05-20 20:42:40+00:00</td>\n",
       "      <td>2018-05-20 20:42:40+00:00</td>\n",
       "      <td>Detento recapturado após fuga por túnel volta ...</td>\n",
       "      <td>Detento disse que passou nome falso ao dar ent...</td>\n",
       "      <td>Ele tinha registro em presídio com nome falso....</td>\n",
       "    </tr>\n",
       "    <tr>\n",
       "      <th>2</th>\n",
       "      <td>6afc8bbb-4f36-43d5-8a44-a2917df5621a</td>\n",
       "      <td>http://g1.globo.com/ap/amapa/noticia/audios-mo...</td>\n",
       "      <td>2017-07-30 00:37:17+00:00</td>\n",
       "      <td>2017-07-30 00:48:42+00:00</td>\n",
       "      <td>Áudios mostram conversa entre bandidos durante...</td>\n",
       "      <td>Áudios mostram possível conversa entre bandido...</td>\n",
       "      <td>Revista realizada na sexta-feira (28) no Iapen...</td>\n",
       "    </tr>\n",
       "    <tr>\n",
       "      <th>3</th>\n",
       "      <td>5cc3bd27-80c7-457d-a807-2e8e7fddf031</td>\n",
       "      <td>http://g1.globo.com/ap/amapa/noticia/2020/11/0...</td>\n",
       "      <td>2020-11-06 12:54:00+00:00</td>\n",
       "      <td>2020-11-12 21:22:52+00:00</td>\n",
       "      <td>FOTOS: Apagão no Amapá</td>\n",
       "      <td>Moradores da capital do Amapá, em Macapá, faze...</td>\n",
       "      <td>Incêndio em subestação de energia deixa 13 dos...</td>\n",
       "    </tr>\n",
       "    <tr>\n",
       "      <th>4</th>\n",
       "      <td>d6956177-db96-42f5-9f68-dd0d6e930661</td>\n",
       "      <td>http://g1.globo.com/ap/amapa/noticia/2019/05/2...</td>\n",
       "      <td>2019-05-27 13:43:03+00:00</td>\n",
       "      <td>2019-05-27 18:19:06+00:00</td>\n",
       "      <td>Profissionais da educação no AP paralisam ativ...</td>\n",
       "      <td>Profissionais da educação paralisam atividades...</td>\n",
       "      <td>Ato comprometeu aulas em escolas nesta segunda...</td>\n",
       "    </tr>\n",
       "  </tbody>\n",
       "</table>\n",
       "</div>"
      ],
      "text/plain": [
       "                                   page  \\\n",
       "0  7371a9b5-5824-4c57-8704-00a74feebe79   \n",
       "1  7a5ea08f-4583-49e2-ba52-a71999443f7b   \n",
       "2  6afc8bbb-4f36-43d5-8a44-a2917df5621a   \n",
       "3  5cc3bd27-80c7-457d-a807-2e8e7fddf031   \n",
       "4  d6956177-db96-42f5-9f68-dd0d6e930661   \n",
       "\n",
       "                                                 url  \\\n",
       "0  http://g1.globo.com/al/alagoas/noticia/2018/09...   \n",
       "1  http://g1.globo.com/am/amazonas/noticia/detent...   \n",
       "2  http://g1.globo.com/ap/amapa/noticia/audios-mo...   \n",
       "3  http://g1.globo.com/ap/amapa/noticia/2020/11/0...   \n",
       "4  http://g1.globo.com/ap/amapa/noticia/2019/05/2...   \n",
       "\n",
       "                      issued                   modified  \\\n",
       "0  2018-09-13 14:52:55+00:00  2018-09-14 16:14:49+00:00   \n",
       "1  2018-05-20 20:42:40+00:00  2018-05-20 20:42:40+00:00   \n",
       "2  2017-07-30 00:37:17+00:00  2017-07-30 00:48:42+00:00   \n",
       "3  2020-11-06 12:54:00+00:00  2020-11-12 21:22:52+00:00   \n",
       "4  2019-05-27 13:43:03+00:00  2019-05-27 18:19:06+00:00   \n",
       "\n",
       "                                               title  \\\n",
       "0  Corpo de motorista da Uber é encontrado em can...   \n",
       "1  Detento recapturado após fuga por túnel volta ...   \n",
       "2  Áudios mostram conversa entre bandidos durante...   \n",
       "3                            FOTOS: Apagão no Amapá    \n",
       "4  Profissionais da educação no AP paralisam ativ...   \n",
       "\n",
       "                                                body  \\\n",
       "0  Corpo de motorista de aplicativo desaparecido ...   \n",
       "1  Detento disse que passou nome falso ao dar ent...   \n",
       "2  Áudios mostram possível conversa entre bandido...   \n",
       "3  Moradores da capital do Amapá, em Macapá, faze...   \n",
       "4  Profissionais da educação paralisam atividades...   \n",
       "\n",
       "                                             caption  \n",
       "0  Segundo a polícia, Antônio Vitor foi solicitad...  \n",
       "1  Ele tinha registro em presídio com nome falso....  \n",
       "2  Revista realizada na sexta-feira (28) no Iapen...  \n",
       "3  Incêndio em subestação de energia deixa 13 dos...  \n",
       "4  Ato comprometeu aulas em escolas nesta segunda...  "
      ]
     },
     "execution_count": 5,
     "metadata": {},
     "output_type": "execute_result"
    }
   ],
   "source": [
    "# Carregar todos os arquivos \"items\" da pasta \"../data/items\" e junta-los em um único DataFrame\n",
    "items = []\n",
    "for file in glob.glob(\"../data/items/*.csv\"):\n",
    "    items.append(pd.read_csv(file))\n",
    "df_items = pd.concat(items)\n",
    "\n",
    "# Salvar o DataFrame em um arquivo \"items.csv\"\n",
    "df_items.to_csv(\"../data/intermediary/items.csv\", index=False)\n",
    "\n",
    "df_items.head()"
   ]
  },
  {
   "cell_type": "code",
   "execution_count": 6,
   "metadata": {},
   "outputs": [
    {
     "data": {
      "application/vnd.microsoft.datawrangler.viewer.v0+json": {
       "columns": [
        {
         "name": "index",
         "rawType": "int64",
         "type": "integer"
        },
        {
         "name": "itemId",
         "rawType": "object",
         "type": "string"
        },
        {
         "name": "url",
         "rawType": "object",
         "type": "string"
        },
        {
         "name": "issued",
         "rawType": "object",
         "type": "string"
        },
        {
         "name": "modified",
         "rawType": "object",
         "type": "string"
        },
        {
         "name": "title",
         "rawType": "object",
         "type": "string"
        },
        {
         "name": "body",
         "rawType": "object",
         "type": "string"
        },
        {
         "name": "caption",
         "rawType": "object",
         "type": "string"
        }
       ],
       "conversionMethod": "pd.DataFrame",
       "ref": "c87ac3a4-2ccb-4d9e-b46a-c6db7073debe",
       "rows": [
        [
         "0",
         "7371a9b5-5824-4c57-8704-00a74feebe79",
         "http://g1.globo.com/al/alagoas/noticia/2018/09/13/corpo-de-motorista-por-aplicativo-e-encontrado-em-canavial-em-roteiro-al.ghtml",
         "2018-09-13 14:52:55+00:00",
         "2018-09-14 16:14:49+00:00",
         "Corpo de motorista da Uber é encontrado em canavial em Roteiro, AL",
         "Corpo de motorista de aplicativo desaparecido é encontrado\nO corpo de um motorista cadastrado da Uber, aplicativo de transporte particular de passageiros, foi encontrado em um canavial em Roteiro, Litoral Sul de Alagoas, na manhã desta quinta-feira (13). \nA vítima foi identificada como Antônio Vitor Neto, 21. Segundo a polícia, ele foi atingido por um tiro na nuca e teve o carro roubado.\nAo G1, o posicionamento da Uber sobre o caso foi que a vítima tinha cadastro no aplicativo, mas nunca chegou a realizar viagens ou a trabalhar como motorista através da plataforma. \nAmigos de Antônio Neto disseram que ele dirigia um carro de modelo Celta e cor vermelha. As características e o número das placas batem com o veículo encontrado nesta manhã em Massagueira que, segundo a polícia, foi usado em um outro homicídio.\nDe acordo com a 1ª Companhia Independente (1ª CIA) de São Miguel dos Campos, Antônio Vitor foi solicitado para fazer uma corrida de Maceió para Marechal Deodoro, e, em seguida, outra de Marechal Deodoro para Roteiro na quarta (12). \n“Depois que ele chegou em Roteiro, ele perdeu o sinal e foi encontrado hoje, morto”, disse o tenente Aurélio, da 1ª Cia.\nOs institutos Médico Legal (IML) e de Criminalística (IC) foram encaminhados ao local para realizar os procedimentos cabíveis. \nCorpo é encontrado em canavial no interior de Alagoas\nReprodução/TV Gazeta\nVeja mais notícias da região no G1 Alagoas",
         "Segundo a polícia, Antônio Vitor foi solicitado para duas corridas e depois disso, desapareceu. "
        ],
        [
         "1",
         "7a5ea08f-4583-49e2-ba52-a71999443f7b",
         "http://g1.globo.com/am/amazonas/noticia/detento-recapturado-apos-fuga-por-tunel-volta-para-cdpm-2-em-manaus.ghtml",
         "2018-05-20 20:42:40+00:00",
         "2018-05-20 20:42:40+00:00",
         "Detento recapturado após fuga por túnel volta para CDPM 2, em Manaus",
         "Detento disse que passou nome falso ao dar entrada em presídio; ele é o 1º dos 35 foragidos a ser recapturado\nPatrick Marques/G1\nMaruan Mota de Oliveira, um dos 35 presos que fugiram do Centro de Detenção Provisória 2 (CDPM 2) por um túnel, no dia 12 de maio, voltou para o presídio no sábado (19). Na unidade prisional, ele tinha registro com o nome, Josué Mota de Oliveira, divulgado na lista de foragidos.\nO preso foi o único dos fugitivos a ser recapturado, após uma semana do ocorrido. Ele foi preso na sexta-feira (18), perto do Terminal 1, no Centro de Manaus, quando deixava um hotel nas proximidades. \nMaruan foi preso pelo crime de roubo e porte ilegal de arma de fogo. Após retornar ao sistema prisional, o Departamento de Inteligência Penitenciária (Dipen) colheu o depoimento dele sobre a fuga. \nPosteriormente, o homem será ouvido também pela Secretaria de Administração Penitenciária (Seap) no conselho disciplinar e pela Polícia Civil para o inquérito policial que foi aberto para apurar a fuga.\nO registro da fuga será incluído na certidão carcerária de Maruan, onde constam todas as trangressões dos internos que são avaliadas pelo poder judiciário. Outras medidas disciplinares serão aplicadas após a conclusão do conselho disciplinar, segundo a Seap.\nFuga\nA fuga ocorreu por meio de um túnel, encontrado próximo a área externa do pavilhão 5 do CDPM 2. O presídio fica situado no km 8 da rodovia BR-174, que liga Manaus a Boa Vista. Com o episódio, o número de foragidos do sistema prisional da capital passa de 90.\nNo mesmo dia da fuga, a Secretária de Segurança Pública do Amazonas (SSP-AM) iniciou uma operação para recapturar os presos. Os efetivos da Polícia Militar, Polícia Civil, Secretaria Executiva Adjunta de Operações (Seaop) e Secretaria Executiva Adjunta de Inteligência (Seai) participam da ação.\nA Seap deve abrir um procedimento administrativo para apurar as circunstâncias da fuga. Em pronunciamento sobre o caso, na segunda-feira (14), o secretário da pasta, Cleitman Coelho, assumiu uma possível facilitação por parte de servidores da cadeia para a fuga dos presos.",
         "Ele tinha registro em presídio com nome falso. Apenas um dos 35 presos que escaparam da unidade prisional foi recapturado após uma semana."
        ],
        [
         "2",
         "6afc8bbb-4f36-43d5-8a44-a2917df5621a",
         "http://g1.globo.com/ap/amapa/noticia/audios-mostram-conversa-entre-bandidos-durante-tentativa-de-fuga-em-presidio-no-amapa.ghtml",
         "2017-07-30 00:37:17+00:00",
         "2017-07-30 00:48:42+00:00",
         "Áudios mostram conversa entre bandidos durante tentativa de fuga em presídio no Amapá",
         "Áudios mostram possível conversa entre bandidos na tentativa de fuga no Iapen\nAgentes penitenciários encontraram uma conversa pelo Whatsapp que chamou a atenção. Em áudios, um bandido e um detento comentam sobre o ataque que ocorreu durante uma tentativa de fuga do Instituto de Administração Penitenciário do Amapá (Iapen), no dia 21. A conversa estava em um dos 24 celulares apreendidos em revista realizada na sexta-feira (28) dentro do presídio. \n“Quem puder dar apoio aqui no cadeião, tentativa de fuga. Estão atirando na penitenciária máxima na G4, na G5. O guerreiro da G5 foi alvejado no Braço [sic]”, diz trecho de um dos áudios enviados para a Rede Amazônica no Amapá. \nNo dia do ataque, um agente foi baleado no braço direito após disparos de criminosos que tentaram prestar apoio para os internos que tinham planejado a fuga. Uma escada feita com cordas foi encontrada jogada no muro do presídio. Nenhum interno conseguiu fugir. \nConversa estava em celular apreendido durante revista no Iapen\nReprodução\nA fuga também seria através de um buraco feito no muro durante uma obra inacabada da instituição. Um preso ficou ferido ao tentar passar pelo buraco, mas ele só foi identificado durante uma contagem nominal. \nO confronto aconteceu no pavilhão F3, destinado ao regime fechado, entre as guaritas G4 e G5, que estavam com vigilância. Os agentes não tinham coletes à prova de balas.\nOutro trecho da conversa pelo Whataspp diz: “Foi uma meia-noite. Foi mais de 30 disparos em cima da G4 e G5. Eles fizeram só se abrigar [sic]”. \nPara o Sindicato dos Agentes e Educadores Penitenciários do Amapá (Sinapen), falta mais segurança para os trabalhadores, como equipamentos de proteção e reforço no número de agentes para a demanda de internos. Seriam necessários cerca de 200 coletes à prova de balas e capacetes, além da contratação de 300 servidores. \nAinda segundo o sindicato, a direção do Iapen informou que fez a compra de três coletes e emprestou mais oito da Polícia Militar (PM) e outros equipamentos ainda devem ser adquiridos. No entanto, a categoria diz que não é suficiente.\nAgente foi baleado quando fazia vigilância em guarita\nJorge Abreu/G1\n*Com informações da Rede Amazônica no Amapá\nTem alguma notícia para compartilhar? Envie para o VC no G1 AP ou por Whatsapp, nos números (96) 99178-9663 e 99115-6081.",
         "Revista realizada na sexta-feira (28) no Iapen apreendeu 24 celulares e drogas. Em um dos aparelhos, agentes encontraram a troca de mensagens entre detento e bandido."
        ],
        [
         "3",
         "5cc3bd27-80c7-457d-a807-2e8e7fddf031",
         "http://g1.globo.com/ap/amapa/noticia/2020/11/06/fotos-apagao-no-amapa.ghtml",
         "2020-11-06 12:54:00+00:00",
         "2020-11-12 21:22:52+00:00",
         "FOTOS: Apagão no Amapá ",
         "Moradores da capital do Amapá, em Macapá, fazem protestos \nMaksuel Martins/Estadão Conteúdo\nSem água, mãe e filha tomam banho e lavam roupa usando baldes em Macapá\nRede Amazônica/Reprodução\nMoradores buscam Rio Amazonas, na orla de Macapá, para fugir do calor em meio a apagão no Amapá\nRafael Aleixo/Arquivo Pessoal\nAto no Centro de Macapá reivindicou melhorias para energia do Amapá\nCaio Coutinho/G1\nFogo em pneus e pedaços de madeira no meio da BR-210, em Macapá\nRonaldo Brito/Rede Amazônica\nProtesto na Zona Norte de Macapá teve queima de pneus\nRonaldo Brito/Rede Amazônica\nAto incendiou pneus na BR-210, na Zona Norte de Macapá\nReprodução\nAto no Centro de Macapá reivindicou melhorias para energia do Amapá\nCaio Coutinho/G1\nAto no Centro de Macapá reivindicou melhorias para energia do Amapá\nCaio Coutinho/G1\nAto no Centro de Macapá reivindicou melhorias para energia do Amapá\nCaio Coutinho/G1\nAto no Centro de Macapá reivindicou melhorias para energia do Amapá\nCaio Coutinho/G1\nMoradores de Macapá reclamam que o sistema de rodízio de energia não está funcionando corretamente\nGloboNews/Reprodução\nApagão no Centro de Macapá\nMaksuel Martins/Fotoarena/Estadão Conteúdo\nInvestigação da Polícia Civil no gerador queimado \nJN\nApagão tem filas em postos de gasolina e procura por água potável\nJorge Júnior/Rede Amazônica\nApagão tem filas em postos de gasolina e procura por água potável\nJorge Júnior/Rede Amazônica\nBanhistas na orla do bairro Cidade Nova em meio a apagão no Amapá\nRede Amazônica/Reprodução\nApagão no Amapá\nAlbenir Sousa/Rede Amazônica\nMacapaenses foram até o aeroporto da cidade em busca de energia\nRede Amazônica/Reprodução\nIncêndio atingiu subestação de energia durante chuva em Macapá\nReprodução\nHotéis de Macapá lotaram durante apagão no Amapá\nRede Amazônica/Reprodução\nMacapaenses correram para supermercado em busca de energia para carregarem celulares\nRafaella Bittencourt/Rede Amazônica\nPessoas ocupam shoppings e aeroporto em busca de energia em Macaá\nWedson Castro/Rede Amazônica\nHotéis de Macapá lotaram durante apagão no Amapá\nRede Amazônica/Reprodução\nLocal que pegou fogo em subestação e deixou Amapá sem energia\nArquivo Pessoal\nMacapá e outros municípios ficaram no escuro na madrugada\nRede Amazônica/Reprodução\nAssim como em Santana, conjuntos semafóricos foram desligados em todo o estado por falta de energia\nRede Amazônica/Reprodução\nRedes de telecomunicações sofreram interrupções ao longo do dia \nRede Amazônica/Reprodução\nPessoas lotaram supermercados que ficaram abertos ao longo do dia\nRafaella Bittencourt/Rede Amazônica\nMacapaenses buscaram supermercado para carregarem celulares\nRafaella Bittencourt/Rede Amazônica\nVelas e óleos foram alguns dos itens mais procurados por macapaenses em supermercados durante apagão\nRafaella Bittencourt/Rede Amazônica\nMacapaenses buscaram supermercados durante apagão em busca de velas e fósforos\nRafaella Bittencourt/Rede Amazônica\nFilas se formaram em postos de combustíveis de Macapá durante apagão\nVictor Vidigal/G1 \nMaternidade também sofreu com apagão em Macapá\nVictor Vidigal/G1\nIncêndio atinge subestação de energia durante chuva na Zona Norte de Macapá\nReprodução\nVeja o plantão de últimas notícias do G1 Amapá\nInitial plugin text\nASSISTA abaixo o que foi destaque no AP:",
         "Incêndio em subestação de energia deixa 13 dos 16 municípios do estado sem energia elétrica desde a noite de terça-feira (3)."
        ],
        [
         "4",
         "d6956177-db96-42f5-9f68-dd0d6e930661",
         "http://g1.globo.com/ap/amapa/noticia/2019/05/27/profissionais-da-educacao-no-ap-paralisam-atividades-por-falta-de-reajustes-salariais.ghtml",
         "2019-05-27 13:43:03+00:00",
         "2019-05-27 18:19:06+00:00",
         "Profissionais da educação no AP paralisam atividades por falta de reajustes salariais",
         "Profissionais da educação paralisam atividades por falta de reajustes salariais; grupo se reuniu na Praça da Bandeira, em Macapá\nCarlos Alberto Jr/G1\nProfissionais da educação da rede pública do Amapá iniciaram nesta segunda-feira (27) uma paralisação, com previsão para durar 15 dias. Segundo o Sindicato dos Servidores Públicos em Educação no Amapá (Sinsepeap), que mobiliza a paralisação, há escolas em todo o estado sem aulas; só em Macapá, 80% das escolas estariam afetadas.\nO ato é uma reação ao anúncio do Governo do Estado do Amapá (GEA) da não concessão de ajustes salariais. O Sinsepeap ainda cita negativas do governo em abrir mesa de negociação com a categoria. Um grupo se concentrou na Praça da Bandeira, no Centro de Macapá, das 9h às 11h50.\nEm nota, o GEA afirmou que \"mantém o diálogo permanente com todas as categorias de servidores públicos, dentro da Agenda do Servidor\", e que já assinou \"44 leis que implementaram gratificações, progressões e incorporações ao funcionalismo\".\nNa mesma nota, a Seed declarou que nenhuma escola parou as atividades e que algumas instituições tiveram faltas pontuais de professores.\nA Seed afirmou ainda que, em conjunto com o Sinsepeap, deve elaborar calendário de reposição das aulas visando garantir o cumprimento do ano letivo para que a comunidade escolar não seja prejudicada.\nNa sexta-feira (24), através de ação ajuizada pelo GEA, o Tribunal de Justiça do Amapá (Tjap) determinou que o Sinsepeap se abstivesse de realizar a paralisação, para garantir a regularidade e continuidade da prestação dos serviços de educação, sob pena de multa diário no valor de R$ 300 mil em caso de descumprimento.\nMesmo com decisão judicial barrando movimento, grupo de professores paralisaram atividades no Amapá\nCarlos Alberto Jr/G1\nPor volta das 11h40, os líderes do sindicato, que estavam em frente ao Palácio do Setentrião, foram notificados por um oficial de Justiça, que culminou na suspensão do ato desta segunda-feira. O Sinsepeap informou que, na terça-feira (28), a categoria vai se reunir em nova assembleia para definir se a paralisação das atividades serão mantidas ou não.\nAtuando como pedagoga há 24 anos, Odiléa da Silva, que atua na Escola Estadual Maria Ivone de Menezes, no bairro Perpétuo Socorro, na capital, cita insatisfação com a administração pública em relação às questões salariais assim como condições estruturais das escolas.\n“Hoje saímos de casa pela falta de reajuste, mas também por outros problemas, que são desde as estruturas da escola até o sucateamento do ensino. Não dá para educar sem a estrutura mínima e o educador não pode trabalhar sem conseguir pagar as contas”, disse Odiléa.\nOdiléa da Silva, pedagoga, disse que paralisação também é por problemas de falta de estrutura das escolas\nCarlos Alberto Jr/G1\nO secretário geral do sindicato, Otávio Brito, informou que a paralisação envolve profissionais da rede estadual de todos os municípios.\nJustiça\nO GEA ajuizou na sexta-feira uma ação em caráter de urgência na Justiça contra o Sinsepeap, para impedir a suspensão das atividades em salas de aula. Na ação, o Estado justificou que o sindicato não comprovou o preenchimento dos requisitos legais para a realização do movimento grevista.\nNa decisão, o desembargador Rommel Araújo de Oliveira citou que o movimento grevista deflagrado pelos servidores públicos “deve pautar-se em requisitos específicos, tomadas por base as Leis de números 7.701/88 e 7.783/1989, em respeito ao interesse público e à continuidade dos serviços prestados pela Administração”.\nOliveira entendeu que esta paralisação do Sinsepeap fere ao artigo 4º da lei de greve, porque na ata da assembleia geral não retrata a posição dos profissionais quanto à deflagração de greve, visto que no documento constam apenas duas assinaturas.\nPara ler mais notícias do estado, acesse o G1 Amapá.",
         "Ato comprometeu aulas em escolas nesta segunda, diz Sinsepeap; Seed nega. Tjap determinou que paralisação não ocorresse, sob pena de multa de R$ 300 mil/dia."
        ]
       ],
       "shape": {
        "columns": 7,
        "rows": 5
       }
      },
      "text/html": [
       "<div>\n",
       "<style scoped>\n",
       "    .dataframe tbody tr th:only-of-type {\n",
       "        vertical-align: middle;\n",
       "    }\n",
       "\n",
       "    .dataframe tbody tr th {\n",
       "        vertical-align: top;\n",
       "    }\n",
       "\n",
       "    .dataframe thead th {\n",
       "        text-align: right;\n",
       "    }\n",
       "</style>\n",
       "<table border=\"1\" class=\"dataframe\">\n",
       "  <thead>\n",
       "    <tr style=\"text-align: right;\">\n",
       "      <th></th>\n",
       "      <th>itemId</th>\n",
       "      <th>url</th>\n",
       "      <th>issued</th>\n",
       "      <th>modified</th>\n",
       "      <th>title</th>\n",
       "      <th>body</th>\n",
       "      <th>caption</th>\n",
       "    </tr>\n",
       "  </thead>\n",
       "  <tbody>\n",
       "    <tr>\n",
       "      <th>0</th>\n",
       "      <td>7371a9b5-5824-4c57-8704-00a74feebe79</td>\n",
       "      <td>http://g1.globo.com/al/alagoas/noticia/2018/09...</td>\n",
       "      <td>2018-09-13 14:52:55+00:00</td>\n",
       "      <td>2018-09-14 16:14:49+00:00</td>\n",
       "      <td>Corpo de motorista da Uber é encontrado em can...</td>\n",
       "      <td>Corpo de motorista de aplicativo desaparecido ...</td>\n",
       "      <td>Segundo a polícia, Antônio Vitor foi solicitad...</td>\n",
       "    </tr>\n",
       "    <tr>\n",
       "      <th>1</th>\n",
       "      <td>7a5ea08f-4583-49e2-ba52-a71999443f7b</td>\n",
       "      <td>http://g1.globo.com/am/amazonas/noticia/detent...</td>\n",
       "      <td>2018-05-20 20:42:40+00:00</td>\n",
       "      <td>2018-05-20 20:42:40+00:00</td>\n",
       "      <td>Detento recapturado após fuga por túnel volta ...</td>\n",
       "      <td>Detento disse que passou nome falso ao dar ent...</td>\n",
       "      <td>Ele tinha registro em presídio com nome falso....</td>\n",
       "    </tr>\n",
       "    <tr>\n",
       "      <th>2</th>\n",
       "      <td>6afc8bbb-4f36-43d5-8a44-a2917df5621a</td>\n",
       "      <td>http://g1.globo.com/ap/amapa/noticia/audios-mo...</td>\n",
       "      <td>2017-07-30 00:37:17+00:00</td>\n",
       "      <td>2017-07-30 00:48:42+00:00</td>\n",
       "      <td>Áudios mostram conversa entre bandidos durante...</td>\n",
       "      <td>Áudios mostram possível conversa entre bandido...</td>\n",
       "      <td>Revista realizada na sexta-feira (28) no Iapen...</td>\n",
       "    </tr>\n",
       "    <tr>\n",
       "      <th>3</th>\n",
       "      <td>5cc3bd27-80c7-457d-a807-2e8e7fddf031</td>\n",
       "      <td>http://g1.globo.com/ap/amapa/noticia/2020/11/0...</td>\n",
       "      <td>2020-11-06 12:54:00+00:00</td>\n",
       "      <td>2020-11-12 21:22:52+00:00</td>\n",
       "      <td>FOTOS: Apagão no Amapá</td>\n",
       "      <td>Moradores da capital do Amapá, em Macapá, faze...</td>\n",
       "      <td>Incêndio em subestação de energia deixa 13 dos...</td>\n",
       "    </tr>\n",
       "    <tr>\n",
       "      <th>4</th>\n",
       "      <td>d6956177-db96-42f5-9f68-dd0d6e930661</td>\n",
       "      <td>http://g1.globo.com/ap/amapa/noticia/2019/05/2...</td>\n",
       "      <td>2019-05-27 13:43:03+00:00</td>\n",
       "      <td>2019-05-27 18:19:06+00:00</td>\n",
       "      <td>Profissionais da educação no AP paralisam ativ...</td>\n",
       "      <td>Profissionais da educação paralisam atividades...</td>\n",
       "      <td>Ato comprometeu aulas em escolas nesta segunda...</td>\n",
       "    </tr>\n",
       "  </tbody>\n",
       "</table>\n",
       "</div>"
      ],
      "text/plain": [
       "                                 itemId  \\\n",
       "0  7371a9b5-5824-4c57-8704-00a74feebe79   \n",
       "1  7a5ea08f-4583-49e2-ba52-a71999443f7b   \n",
       "2  6afc8bbb-4f36-43d5-8a44-a2917df5621a   \n",
       "3  5cc3bd27-80c7-457d-a807-2e8e7fddf031   \n",
       "4  d6956177-db96-42f5-9f68-dd0d6e930661   \n",
       "\n",
       "                                                 url  \\\n",
       "0  http://g1.globo.com/al/alagoas/noticia/2018/09...   \n",
       "1  http://g1.globo.com/am/amazonas/noticia/detent...   \n",
       "2  http://g1.globo.com/ap/amapa/noticia/audios-mo...   \n",
       "3  http://g1.globo.com/ap/amapa/noticia/2020/11/0...   \n",
       "4  http://g1.globo.com/ap/amapa/noticia/2019/05/2...   \n",
       "\n",
       "                      issued                   modified  \\\n",
       "0  2018-09-13 14:52:55+00:00  2018-09-14 16:14:49+00:00   \n",
       "1  2018-05-20 20:42:40+00:00  2018-05-20 20:42:40+00:00   \n",
       "2  2017-07-30 00:37:17+00:00  2017-07-30 00:48:42+00:00   \n",
       "3  2020-11-06 12:54:00+00:00  2020-11-12 21:22:52+00:00   \n",
       "4  2019-05-27 13:43:03+00:00  2019-05-27 18:19:06+00:00   \n",
       "\n",
       "                                               title  \\\n",
       "0  Corpo de motorista da Uber é encontrado em can...   \n",
       "1  Detento recapturado após fuga por túnel volta ...   \n",
       "2  Áudios mostram conversa entre bandidos durante...   \n",
       "3                            FOTOS: Apagão no Amapá    \n",
       "4  Profissionais da educação no AP paralisam ativ...   \n",
       "\n",
       "                                                body  \\\n",
       "0  Corpo de motorista de aplicativo desaparecido ...   \n",
       "1  Detento disse que passou nome falso ao dar ent...   \n",
       "2  Áudios mostram possível conversa entre bandido...   \n",
       "3  Moradores da capital do Amapá, em Macapá, faze...   \n",
       "4  Profissionais da educação paralisam atividades...   \n",
       "\n",
       "                                             caption  \n",
       "0  Segundo a polícia, Antônio Vitor foi solicitad...  \n",
       "1  Ele tinha registro em presídio com nome falso....  \n",
       "2  Revista realizada na sexta-feira (28) no Iapen...  \n",
       "3  Incêndio em subestação de energia deixa 13 dos...  \n",
       "4  Ato comprometeu aulas em escolas nesta segunda...  "
      ]
     },
     "execution_count": 6,
     "metadata": {},
     "output_type": "execute_result"
    }
   ],
   "source": [
    "# Renomear coluna \"page\" para \"itemId\" para facilitar a junção dos DataFrames\n",
    "df_items.rename(columns={\"page\": \"itemId\"}, inplace=True)\n",
    "df_items.head()"
   ]
  },
  {
   "cell_type": "code",
   "execution_count": 7,
   "metadata": {},
   "outputs": [
    {
     "data": {
      "application/vnd.microsoft.datawrangler.viewer.v0+json": {
       "columns": [
        {
         "name": "index",
         "rawType": "int64",
         "type": "integer"
        },
        {
         "name": "userId",
         "rawType": "object",
         "type": "string"
        },
        {
         "name": "userType",
         "rawType": "object",
         "type": "string"
        },
        {
         "name": "itemId",
         "rawType": "object",
         "type": "string"
        },
        {
         "name": "timestamp",
         "rawType": "int64",
         "type": "integer"
        },
        {
         "name": "clicks",
         "rawType": "int64",
         "type": "integer"
        },
        {
         "name": "visits",
         "rawType": "int64",
         "type": "integer"
        },
        {
         "name": "url",
         "rawType": "object",
         "type": "string"
        },
        {
         "name": "issued",
         "rawType": "object",
         "type": "string"
        },
        {
         "name": "modified",
         "rawType": "object",
         "type": "string"
        },
        {
         "name": "title",
         "rawType": "object",
         "type": "string"
        },
        {
         "name": "body",
         "rawType": "object",
         "type": "string"
        },
        {
         "name": "caption",
         "rawType": "object",
         "type": "string"
        }
       ],
       "conversionMethod": "pd.DataFrame",
       "ref": "7ffec4db-a60b-4e22-8d62-e4bb01b6062d",
       "rows": [
        [
         "0",
         "fbb963d61eb8149e7f43b1bd905457ba5e106a830ddc27288434101e7252ef57",
         "Non-Logged",
         "80aa7bb2-adce-4a55-9711-912c407927a1",
         "1657908085200",
         "0",
         "1",
         "http://g1.globo.com/politica/noticia/2022/08/03/camara-aprova-projeto-que-acaba-com-saida-temporaria-de-presos-entidades-criticam.ghtml",
         "2022-08-03 21:32:51+00:00",
         "2022-09-19 19:58:15+00:00",
         "Câmara aprova projeto que acaba com saída temporária de presos; entidades criticam",
         "A Câmara dos Deputados aprovou nesta quarta-feira (3) um projeto de lei que acaba com a possibilidade de saída temporária de presos, conhecida popularmente como \"saidinha\". Organizações ligadas aos direitos humanos criticam a medida (veja mais abaixo). O texto retorna ao Senado, que aprovou outro conteúdo da proposta em 2013. \nA matéria foi analisada nesta quarta-feira após uma manobra do presidente da Câmara, Arthur Lira (PP-AL), que apensou o texto aprovado pelos senadores a um projeto do ano passado que exigia a realização de exame criminológico para a concessão da saída temporária. Esse texto já tinha a urgência aprovada e, por isso, a matéria pode ser levada diretamente ao plenário, encurtando os debates. \nA saída temporária é concedida pela Justiça como forma de ressocialização dos presos e manutenção de vínculo deles com o mundo fora do sistema prisional. \nHoje, a legislação permite o benefício a presos do regime semiaberto que já tenham cumprido o mínimo de 1/6 da pena, se for primário, e 1/4, se for reincidente. Além disso, é preciso apresentar comportamento adequado. \nPopulação carcerária diminui, mas Brasil ainda registra superlotação nos presídios\nA autorização tem prazo de até sete dias e pode ser concedida cinco vezes ao ano.\nQuando foi aprovado no Senado, em 2013, o projeto era bem mais enxuto e apenas restringia as possibilidades de saída temporária - que só poderia ser concedida uma vez ao ano e para presos primários. \nDesde a aprovação do pacote anticrime, em 2019, o preso condenado por crime hediondo com morte não tem mais direito à saída temporária. \nO relator da matéria, deputado Capitão Derrite (PL-SP), afirma em seu parecer que a saída temporária \"causa a todos um sentimento de impunidade diante da percepção de que as pessoas condenadas não cumprem suas penas, e o pior, de que o crime compensa\". \n\"A saída temporária não traz qualquer produto ou ganho efetivo à sociedade, além de que, na verdade, prejudica o combate ao crime, eis que grande parte dos condenados cometem novos crimes quando estão fora dos estabelecimentos penais desfrutando do benefício\", escreveu.\nEntidades criticam\nEntidades ligadas aos direitos humanos defendem o benefício. Segundo nota da Rede Justiça Criminal, a saída temporária \"é um importante instrumento para a manutenção de laços familiares, inserção e permanência no mercado de trabalho e acesso a outras oportunidades.\" \nA organização afirma que \"banir a saída temporária é uma resposta falaciosa e que se baseia apenas no sensacionalismo\".\n\"É falso dizer que as saídas temporárias propiciam fugas ou aumento da delinquência de forma massiva. Os dados comprovam que somente um número reduzido de apenados não retornam às suas atividades prisionais. Segundo Infopen de 2019, a taxa de fugas em geral no sistema prisional, sejam elas por saídas temporárias, transferências ou outras razões, corresponde a apenas 0,99%.\"\nAinda segundo a instituição, em 2019, apenas 20,17% da população prisional teve direito à saída temporária.\nA Rede Justiça Criminal relembra, ainda, a alteração aplicada após a aprovação do pacote anticrime, em 2019, que proibiu as saídas temporárias para condenados por crimes hediondos. \"A mudança é recente e não é urgente uma nova alteração em tão pouco tempo\". \nExame criminológico\nO texto também deixa explícito que o preso só terá direito à progressão de regime se tiver boa conduta carcerária, comprovada pelo diretor da prisão, e após o resultado de um \"exame criminológico\". \nPara entrar no regime aberto, seus antecedentes e o resultado do exame criminológico devem indicar que o preso irá \"ajustar-se, com autodisciplina, baixa periculosidade, e senso de responsabilidade, ao novo regime\". A lei atual não faz menção específica ao exame criminológico, nem a indícios de baixa periculosidade. \nTornozeleira eletrônica\nDerrite também incluiu em seu parecer três novas situações em que a Justiça pode determinar a fiscalização por meio de tornozeleira eletrônica:\nlivramento condicional; \nexecução da pena nos regimes aberto e semiaberto; e\nrestrição de direitos relativa à proibição de frequentar lugares específicos\nHoje, a tornozeleira eletrônica pode ser utilizada para monitoramento das saídas temporárias do regime semiaberto e durante a prisão domiciliar. \nCalamidade pública\nNa mesma sessão, os deputados também aprovaram um projeto que estabelece hipótese de aumento de pena para os crimes de furto e roubo e cria uma forma “qualificada” para os delitos de furto e peculato. O texto vai ao Senado. \nA forma qualificada de um crime é configurada quando um delito é cometido com a ocorrência de outros resultados alheios ao crime principal.\nO Código Penal já estabelece pena de 2 a 8 anos e multa para furtos em que o criminoso se utiliza de abuso de confiança, por exemplo. \nO texto inclui nesse rol quem comete furto em meio a incêndio, naufrágio, inundação, desastre, durante estado de calamidade pública, epidemia ou pandemia. \nSe o bem furtado for insumo ou equipamento médico, hospitalar, terapêutico, sanitário ou vacinal, durante estado de calamidade pública, epidemia ou pandemia, o projeto permite aumento de pena de um terço até a metade. \nSe em vez de furto houver roubo nas situações previstas acima, a pena poderá ser aumentada em um terço e poderá chegar a dois terços se a violência ou grave ameaça, que caracteriza o crime de roubo:\nfor exercida com emprego de arma de fogo de uso restrito ou proibido;\nse a subtração for de bem, insumo ou equipamento médico, hospitalar, terapêutico, sanitário ou vacinal, durante estado de calamidade pública, epidemia ou pandemia.\nNo caso do crime de peculato, definido como apropriação, por funcionário público, de dinheiro, valor ou qualquer outro bem móvel em proveito próprio ou de terceiros, a pena, que hoje varia de 2 a 12 anos, sobe para 3 a 13 anos se a apropriação, o desvio ou a subtração, durante estado de calamidade, epidemia ou pandemia, for insumos médicos e terapêuticos.",
         "Relator defende que 'saidinhas' causam 'sentimento de impunidade'; organizações ligadas aos direitos humanos dizem que medida é 'falaciosa e se baseia no sensacionalismo'. Texto volta ao Senado. "
        ],
        [
         "1",
         "fbb963d61eb8149e7f43b1bd905457ba5e106a830ddc27288434101e7252ef57",
         "Non-Logged",
         "d9e5f15d-b441-4d8b-bee4-462b106d3916",
         "1659634203762",
         "0",
         "1",
         "http://g1.globo.com/sp/sao-paulo/noticia/2021/11/06/primeiro-dia-do-parque-augusta-em-sp-tem-cachorrodromo-agitado-vacinacao-contra-covid-e-protesto-de-servidores-municipais.ghtml",
         "2021-11-06 20:35:20+00:00",
         "2021-11-06 23:23:25+00:00",
         "Primeiro dia do Parque Augusta em SP tem 'cachorródromo' agitado, vacinação contra Covid e protesto de servidores municipais",
         "Cachorródromo na inauguração do Parque Augusta, no centro da cidade de São Paulo, neste sábado (6). \nFELIPE RAU/ESTADÃO CONTEÚDO\nO primeiro dia de funcionamento do Parque Augusta, no Centro de São Paulo, neste sábado (6), foi marcado pelo grande movimento de frequentadores ao longo do dia e por uma manifestação de servidores municipais na abertura do parque.\nO Parque Augusta – Prefeito Bruno Covas foi inaugurado pelo sucessor do tucano, Ricardo Nunes (MDB), por volta das 9h da manhã, sob protestos de funcionários públicos contrários às mudanças no sistema previdenciário municipal. \nDurante a tarde, o movimento foi grande em espaços como o cachorródromo, uma área cercada do parque com estrutura para pets. Até quem não tinha animalzinho ficou no pedaço para assistir às brincadeiras.\nUma tenda de vacinação contra a Covid-19 foi montada no parque para a aplicação de doses de reforço nos grupos prioritários e da segunda dose para pessoas que ainda não completaram o esquema vacinal. \nPosto de vacinação contra a Covid-19 no novo Parque Augusta, na cidade de São Paulo (SP), neste sábado (6) \nALLISON SALES/FUTURA PRESS/ESTADÃO CONTEÚDO\nEm meio à área de 23 mil metros quadrados, outro espaço com grande procura neste sábado foi o playground, que tem piso adaptado e brinquedos que são acessíveis a crianças de várias idades e também com deficiências. \nA inauguração colocou fim a uma polêmica antiga acerca do destino do espaço. A área de 23 mil metros quadrados pertencia a duas construtoras que pretendiam levantar três torres no local. A comunidade protestou para que fosse o espaço fosse destinado ao público, uma demanda dos moradores da região desde os anos 1980. \nPlayground do Parque Augusta, no centro da cidade de São Paulo, neste sábado (6), primeiro dia de funcionamento do Parque Augusta-Prefeito Bruno Covas \nFELIPE RAU/ESTADÃO CONTEÚDO\nEm 2019, as construtoras fizeram um acordo com a Prefeitura, por meio de uma mediação do Ministério Público, e trocaram a área por títulos de potencial construtivo para levantar empreendimentos em outras áreas. \nO acordo definiu que as obras do parque seriam custeadas pelas empresa. Segundo a prefeitura,  foram investidos cerca de R$ 11 milhões.\nParque Augusta abre ao público neste sábado (6)\nO Parque Augusta\nInauguração do Parque Municipal Augusta Prefeito Bruno Covas, no centro de São Paulo, neste sábado (6).   \nROBERTO CASIMIRO/FOTOARENA/ESTADÃO CONTEÚDO\nO parque conta ainda com um bosque e uma arquibancada para apresentações, além de um deck elevado e equipamentos de ginástica para idosos. \nO local também tem um redário e um espaço para a prática de slackline. A restaurada Casa das Araras — tombada pelo Conselho Municipal de Preservação do Patrimônio Histórico, Cultural e Ambiental da Cidade de São Paulo (Conpresp)— deve abrigar ainda eventos e pequenas exposições.\nBosque do Parque Augusta, na região central de São Paulo\nMarcelo Brandt/g1\nO projeto do parque foi feito de acordo com o novo Plano Diretor da cidade, que determina uma Taxa de Permeabilidade mínima de 90% para este tipo de construção. Por isso, somente 10% da área do parque pôde ser impermeabilizada; o restante do espaço é coberto por grama ou outros revestimentos permeáveis.\nO espaço está localizado em um quarteirão entre as ruas Augusta, Consolação, Caio Prado e Marquês de Paranaguá, na região Central de São Paulo. A entrada é gratuita e deve ser feita pelo número 200 da Rua Augusta. A área verde fica perto de pontos como a Avenida Nove de Julho e a Rua da Consolação, e a estação de Metrô mais próxima é a Higienópolis-Mackenzie, da Linha 4-Amarela. \nNegociação difícil\nAs obras do Parque Augusta começaram em outubro de 2019. Em dezembro daquele ano, a Prefeitura de São Paulo apresentou ao Ministério Público (MP) o projeto do parque. Mas, em janeiro de 2020, o Instituto do Patrimônio Histórico e Artístico Nacional (Iphan) solicitou à Prefeitura a paralisação das obras para investigar um sítio arqueológico encontrado nas escavações que poderia conter vestígios de populações indígenas. As obras foram retomadas após um acordo para acompanhamento arqueológico\nParque Augusta, na região central de São Paulo\nMarcelo Brandt/g1\nO terreno do Parque Augusta pertencia as construtoras Setin e Cyrela, que doaram o local à municipalidade. A escritura foi assinada em abril de 2019.\nPara que a doação fosse realizada, a Prefeitura de São Paulo e as construtoras firmaram um acordo. Os termos da negociação previam a transferência do terreno por doação ao município em troca de quatro declarações de potencial construtivo passível de transferência - ou seja, as empresas poderão construir empreendimentos imobiliários. em outras áreas.\nEm novembro do ano passado, a Justiça extinguiu a última ação popular que impedia que o acordo para a criação do Parque Augusta fosse concluído e saísse do papel.  \nVÍDEOS: Tudo sobre São Paulo e região metropolitana",
         "Local foi inaugurado pelo prefeito Ricardo Nunes (MDB) sob protestos de funcionários públicos contrários às mudanças no sistema previdenciário municipal. Durante a tarde, movimento foi grande no espaço de 23 mil metros quadrados."
        ],
        [
         "2",
         "17f1083e6079b0f28f7820a6803583d1c1b405c0718b11a18d30b1620f643b23",
         "Non-Logged",
         "19ba89fc-1e06-4c5d-9c57-4a3088dc0511",
         "1657111508570",
         "68",
         "1",
         "http://g1.globo.com/rn/rio-grande-do-norte/noticia/2022/07/09/jovem-de-21-anos-e-morto-e-mae-e-baleada-durante-assalto-dentro-de-casa-em-natal.ghtml",
         "2022-07-09 14:15:29+00:00",
         "2022-07-10 12:12:21+00:00",
         "Jovem de 21 anos é morto e mãe é baleada durante assalto dentro de casa em Natal",
         "João Victor Queiroz Munai Dantas, de 21 anos, morreu após sofrer três tiros em assalto dentro de casa, em Natal\nCedida\nUm jovem de 21 anos morreu após ser atingido por três tiros no abdômem, durante um assalto dentro de casa, na madrugada deste sábado (9). O caso aconteceu Cidade Satélite, na Zona Sul de Natal. A mãe dele também foi baleada e está internada no Hospital Walfredo Gurgel, após passar por cirurgia.\nO rapaz foi identificada como João Victor Queiroz Munay Dantas, de 21 anos. Ele trabalhava como técnico em eletrotécnica e fazia especialização em em Energia Eólica. \nA morte foi confirmada ao g1 RN pelo próprio pai da vítima, o engenheiro elétrico e professor Silvano Munay. \n\"Era meu tudo\", diz pai de jovem assassinado\nSegundo a Polícia Militar, o criminoso é suspeito de outro assassinato que aconteceu minutos antes em Cidade da Esperança. Após o assassinato de João Victor, ele chegou a ser perseguido pela equipe do 9º Batalhão da PM, mas conseguiu fugir.\nO crime\nSegundo Munay, a polícia informou que um criminoso invadiu a casa onde o filho e a ex-esposa dele moravam para tentar roubar a moto de João Victor. \nSegundo informações da Polícia Militar repassadas ao g1, o bandido teria matado outra pessoa no bairro Cidade da Esperança, na Zona Oeste de Natal, estava em fuga em um carro modelo Ford Ka e resolveu rouar a moto para trocar de veículo. As circunstâncias desse primeiro homicídio não foram esclarecidas pela PM.\n\"Depois que ele entrou, o cachorro começou a latir e ele esfaqueou o cachorro. Com o barulho, o meu filho foi ver o que estava acontecendo e tentou proteger a mãe. Ele deu três tiros no abdômem do meu filho e também baleou a mãe dele no braço\", contou Munay. \nO jovem e a mãe foram socorrido para o Hospital Walfredo Gurgel, onde passaram por cirurgia, no entanto, a família recebeu a confirmação da morte do jovem ainda durante a manhã. Os médicos inforamaram aos familiares que ele teve uma parada cardíaca após a cirurgia e não resistiu. \nAlém de João Victor e da sua mãe, a avó dele e uma prima de 8 anos de idade estavam no imóvel e não ficaram feridas.\nPM diz que suspeito fugia de outro crime\nO comandante do 9º Batalhão da Polícia Militar,  coronel Givanildo Gomes, informou que as viaturas da unidade foram acionadas para atender uma ocorrência de disparos de arma de fogo no Conjunto Cidade Satélite e, ao chegar ao local, se depararam com um veículo Ford Ka de cor branca abandonado. Na revista, os militares encontraram uma pistola Cal. 380.\nAinda de acordo com a PM, os policiais foram informados por vizinhos que o homem que estava no carro invadiu a casa e atirou contra duas vítimas, usando a moto na fuga em direção ao bairro Planalto. As duas pessoas baleadas já tinham sido socorridas pelo Serviço de Atendimento Móvel de Urgência.\nO criminoso ainda chegou a abandonar a moto e roubar uma caminhonete. A Polícia Militar iniciou uma perseguição, mas o suspeito abandonou o veículo e conseguiu fugir a pé por uma área de morro e mata fechada.\nEle teria matado uma outra pessoa na proximidades da Rodoviária de Natal, retirando o corpo da vítima do carro e deixando na via, antes de seguir em direção à Cidade Satélite, onde abandonou o veículo.\nVeja os vídeos mais assistidos no g1 RN",
         "Caso aconteceu na madrugada deste sábado (9) no conjunto Cidade Satélite, na Zona Sul de Natal. Criminoso conseguiu fugir. "
        ],
        [
         "3",
         "17f1083e6079b0f28f7820a6803583d1c1b405c0718b11a18d30b1620f643b23",
         "Non-Logged",
         "e273dba4-136c-45fb-bdd6-0cc57b13aaf0",
         "1657481309920",
         "12",
         "1",
         "http://g1.globo.com/mundo/noticia/2022/06/04/jubileu-da-rainha-elizabeth-2a-como-harry-e-meghan-foram-recebidos-em-celebracao-apos-polemicas.ghtml",
         "2022-06-04 11:12:43+00:00",
         "2022-06-04 11:18:12+00:00",
         "Jubileu da rainha Elizabeth 2ª: como Harry e Meghan foram recebidos em celebração após polêmicas",
         "Meghan Markle e Harry na chega à missa oficial pelos 70 anos do reinado de Elizabeth II, em Londres, em 3 de junho de 2022.\nReuters\nDificilmente seria discreta a participação do príncipe Harry e de Meghan Markle nas celebrações do jubileu de platina da rainha Elizabeth II, em Londres. Afinal, o casal não era visto junto no Reino Unido havia dois anos, após deixar o país em circunstâncias controversas.\nCompartilhe esta notícia no WhatsApp\nCompartilhe esta notícia no Telegram\nOs dois pareciam tensos quando saíram do carro para entrar na catedral St. Paul, para uma celebração em homenagem à rainha. Harry e Meghan seguravam firmemente a mão um do outro. Meghan ajustou a gola do seu casaco Dior. \nEles conversaram um com o outro, mas dava para perceber que agiam com cautela. Uma multidão estava do lado de fora da catedral na sexta (3) para o culto de Ação de Graças- um dos eventos da agenda de comemorações pelos 70 anos de reinado de Elizabeth 2ª. \nA maior parte do público era formada por dedicados apoiadores da família real. Será que eles receberiam bem o príncipe Harry e Meghan? \nEm março de 2021, o casal deu uma entrevista à apresentadora americana Oprah Winfrey, na qual falaram sobre seus relacionamentos com outros membros da realeza, racismo e como a saúde mental de Meghan foi prejudicada durante o período que em viveu no Reino Unido. \nEntre as afirmações, está a de que um integrante da família real demonstrou preocupação com a cor da pele do bebê do casal e a de que Meghan chegou a ter pensamentos suicidas, mas foi impedida de procurar ajuda.\nA mudança do casal para os Estados Unidos e esta entrevista esfriaram a relação já conturbada deles com o restante da família real. Por isso, não se sabia como o público reagiria à presença de Harry e Meghan nas comemorações do jubileu. \nMas a recepção foi positiva. \nAplausos\nEnquanto eles subiam os degraus da catedral St.Paul, a multidão aplaudia. Foi uma resposta calorosa e espontânea ao casal, que fazia sua  primeira aparição juntos num evento da realeza desde 2020.\nDois anos atrás, eles estiveram numa cerimônia religiosa na Abadia de Westminster, em março. Naquela ocasião, o clima estava mais sombrio. O atrito na família real era evidente e foi registrado pelas câmeras. O príncipe William e o príncipe Harry mal trocaram um olhar, embora estivessem sentados próximos um do outro. \nA coreografia dos eventos reais é sempre cuidadosa e precisa- e a sexta-feira (3) não foi exceção.\nO príncipe Harry e Meghan estavam sentados no lado oposto do corredor ao príncipe William e Kate, evitando qualquer contato visual desconfortável ou imagens que pudessem captar uma atmosfera carregada. \nEles se sentaram ao lado da princesa Eugenie e seu marido, Jack Brooksbank. Os casais são próximos. Eugenie, Jack e o filho pequeno dos dois, visitaram Harry e Meghan na Califórnia, em fevereiro.\nDo outro lado deles estava Lady Sarah Chatto- a filha da princesa Margaret e sobrinha muito querida da rainha Elizabeth 2ª. Uma presença calma e reconfortante. Este era um plano seguro de distribuição assentos. \nBreve vaia na saída da catedral \nQuando o casal deixou a catedral, houve uma vaia estranha vinda da multidão, mas ela foi abafada por muitos aplausos. Não houve hostilidade real.\nEm meio à pompa, cerimônias, festas e reflexões deste fim de semana, o jubileu de platina também é sobre uma família com todas as suas falhas e tensões.\nA rainha teve que assistir de casa, mas ela já havia deixado claro que, quaisquer que fossem os problemas e as polêmicas, seu neto príncipe Harry, e sua esposa, Meghan, eram muito bem-vindos nas comemorações oficiais dos seus 70 anos de reinado. \nO primeiro obstáculo público do breve retorno de Harry e Meghan ao dever real foi superado com sucesso.",
         "O duque e a duquesa de Sussex sentaram do lado oposto do principe William e Kate, para evitar fotos que demonstrassem 'desconforto'."
        ],
        [
         "4",
         "528a8d7a2af73101da8d6709c1ec875b449a5a58749a998ae2d949c10d1772df",
         "Non-Logged",
         "59a61a8a-cc52-453f-b1cd-2bd019e9d574",
         "1657823890328",
         "55",
         "1",
         "http://g1.globo.com/pr/parana/noticia/2021/10/20/taxa-para-emissao-da-2a-via-do-rg-pode-ser-paga-por-pix-no-parana.ghtml",
         "2021-10-20 11:17:14+00:00",
         "2021-10-20 20:27:48+00:00",
         "Taxa para emissão da 2ª via do RG pode ser paga por Pix, no Paraná ",
         "Taxa para emissão do RG poderá ser paga por PIX no Paraná\nO pagamento da taxa para emissão da 2ª via da carteira de identidade agora pode ser feito por Pix no Paraná, de acordo com a Polícia Civil. Não há cobrança para a emissão da 1ª via do RG.\nSegundo a polícia, o pagamento por Pix é feito após a leitura do QR Code que consta na guia de recolhimento, de R$ 38,30. Para isso, basta abrir o aplicativo do banco, escolher a opção \"pagar com Pix\" e fazer a leitura do código.\nTaxa para emissão da 2ª via do RG pode ser paga por Pix, no Paraná\nPolícia Civil/Divulgação\nA emissão do documento deve ser feita exclusivamente no site da Polícia Civil. \nCom o novo sistema, a guia pode ser paga em qualquer banco, inclusive os digitais, não se restringindo aos conveniados com o Governo do Paraná. \nO pagamento da taxa via Pix será quitado no prazo de 24 horas, após a consolidação das informações de recolhimento.\nVídeos mais assistidos do g1 Paraná:\nVeja mais notícias do estado no g1 Paraná. ",
         "Guia de pagamento, de R$ 38,30, é gerada logo após o agendamento pela internet; não há cobrança para a emissão da 1ª via da carteira de identidade. "
        ]
       ],
       "shape": {
        "columns": 12,
        "rows": 5
       }
      },
      "text/html": [
       "<div>\n",
       "<style scoped>\n",
       "    .dataframe tbody tr th:only-of-type {\n",
       "        vertical-align: middle;\n",
       "    }\n",
       "\n",
       "    .dataframe tbody tr th {\n",
       "        vertical-align: top;\n",
       "    }\n",
       "\n",
       "    .dataframe thead th {\n",
       "        text-align: right;\n",
       "    }\n",
       "</style>\n",
       "<table border=\"1\" class=\"dataframe\">\n",
       "  <thead>\n",
       "    <tr style=\"text-align: right;\">\n",
       "      <th></th>\n",
       "      <th>userId</th>\n",
       "      <th>userType</th>\n",
       "      <th>itemId</th>\n",
       "      <th>timestamp</th>\n",
       "      <th>clicks</th>\n",
       "      <th>visits</th>\n",
       "      <th>url</th>\n",
       "      <th>issued</th>\n",
       "      <th>modified</th>\n",
       "      <th>title</th>\n",
       "      <th>body</th>\n",
       "      <th>caption</th>\n",
       "    </tr>\n",
       "  </thead>\n",
       "  <tbody>\n",
       "    <tr>\n",
       "      <th>0</th>\n",
       "      <td>fbb963d61eb8149e7f43b1bd905457ba5e106a830ddc27...</td>\n",
       "      <td>Non-Logged</td>\n",
       "      <td>80aa7bb2-adce-4a55-9711-912c407927a1</td>\n",
       "      <td>1657908085200</td>\n",
       "      <td>0</td>\n",
       "      <td>1</td>\n",
       "      <td>http://g1.globo.com/politica/noticia/2022/08/0...</td>\n",
       "      <td>2022-08-03 21:32:51+00:00</td>\n",
       "      <td>2022-09-19 19:58:15+00:00</td>\n",
       "      <td>Câmara aprova projeto que acaba com saída temp...</td>\n",
       "      <td>A Câmara dos Deputados aprovou nesta quarta-fe...</td>\n",
       "      <td>Relator defende que 'saidinhas' causam 'sentim...</td>\n",
       "    </tr>\n",
       "    <tr>\n",
       "      <th>1</th>\n",
       "      <td>fbb963d61eb8149e7f43b1bd905457ba5e106a830ddc27...</td>\n",
       "      <td>Non-Logged</td>\n",
       "      <td>d9e5f15d-b441-4d8b-bee4-462b106d3916</td>\n",
       "      <td>1659634203762</td>\n",
       "      <td>0</td>\n",
       "      <td>1</td>\n",
       "      <td>http://g1.globo.com/sp/sao-paulo/noticia/2021/...</td>\n",
       "      <td>2021-11-06 20:35:20+00:00</td>\n",
       "      <td>2021-11-06 23:23:25+00:00</td>\n",
       "      <td>Primeiro dia do Parque Augusta em SP tem 'cach...</td>\n",
       "      <td>Cachorródromo na inauguração do Parque Augusta...</td>\n",
       "      <td>Local foi inaugurado pelo prefeito Ricardo Nun...</td>\n",
       "    </tr>\n",
       "    <tr>\n",
       "      <th>2</th>\n",
       "      <td>17f1083e6079b0f28f7820a6803583d1c1b405c0718b11...</td>\n",
       "      <td>Non-Logged</td>\n",
       "      <td>19ba89fc-1e06-4c5d-9c57-4a3088dc0511</td>\n",
       "      <td>1657111508570</td>\n",
       "      <td>68</td>\n",
       "      <td>1</td>\n",
       "      <td>http://g1.globo.com/rn/rio-grande-do-norte/not...</td>\n",
       "      <td>2022-07-09 14:15:29+00:00</td>\n",
       "      <td>2022-07-10 12:12:21+00:00</td>\n",
       "      <td>Jovem de 21 anos é morto e mãe é baleada duran...</td>\n",
       "      <td>João Victor Queiroz Munai Dantas, de 21 anos, ...</td>\n",
       "      <td>Caso aconteceu na madrugada deste sábado (9) n...</td>\n",
       "    </tr>\n",
       "    <tr>\n",
       "      <th>3</th>\n",
       "      <td>17f1083e6079b0f28f7820a6803583d1c1b405c0718b11...</td>\n",
       "      <td>Non-Logged</td>\n",
       "      <td>e273dba4-136c-45fb-bdd6-0cc57b13aaf0</td>\n",
       "      <td>1657481309920</td>\n",
       "      <td>12</td>\n",
       "      <td>1</td>\n",
       "      <td>http://g1.globo.com/mundo/noticia/2022/06/04/j...</td>\n",
       "      <td>2022-06-04 11:12:43+00:00</td>\n",
       "      <td>2022-06-04 11:18:12+00:00</td>\n",
       "      <td>Jubileu da rainha Elizabeth 2ª: como Harry e M...</td>\n",
       "      <td>Meghan Markle e Harry na chega à missa oficial...</td>\n",
       "      <td>O duque e a duquesa de Sussex sentaram do lado...</td>\n",
       "    </tr>\n",
       "    <tr>\n",
       "      <th>4</th>\n",
       "      <td>528a8d7a2af73101da8d6709c1ec875b449a5a58749a99...</td>\n",
       "      <td>Non-Logged</td>\n",
       "      <td>59a61a8a-cc52-453f-b1cd-2bd019e9d574</td>\n",
       "      <td>1657823890328</td>\n",
       "      <td>55</td>\n",
       "      <td>1</td>\n",
       "      <td>http://g1.globo.com/pr/parana/noticia/2021/10/...</td>\n",
       "      <td>2021-10-20 11:17:14+00:00</td>\n",
       "      <td>2021-10-20 20:27:48+00:00</td>\n",
       "      <td>Taxa para emissão da 2ª via do RG pode ser pag...</td>\n",
       "      <td>Taxa para emissão do RG poderá ser paga por PI...</td>\n",
       "      <td>Guia de pagamento, de R$ 38,30, é gerada logo ...</td>\n",
       "    </tr>\n",
       "  </tbody>\n",
       "</table>\n",
       "</div>"
      ],
      "text/plain": [
       "                                              userId    userType  \\\n",
       "0  fbb963d61eb8149e7f43b1bd905457ba5e106a830ddc27...  Non-Logged   \n",
       "1  fbb963d61eb8149e7f43b1bd905457ba5e106a830ddc27...  Non-Logged   \n",
       "2  17f1083e6079b0f28f7820a6803583d1c1b405c0718b11...  Non-Logged   \n",
       "3  17f1083e6079b0f28f7820a6803583d1c1b405c0718b11...  Non-Logged   \n",
       "4  528a8d7a2af73101da8d6709c1ec875b449a5a58749a99...  Non-Logged   \n",
       "\n",
       "                                 itemId      timestamp  clicks  visits  \\\n",
       "0  80aa7bb2-adce-4a55-9711-912c407927a1  1657908085200       0       1   \n",
       "1  d9e5f15d-b441-4d8b-bee4-462b106d3916  1659634203762       0       1   \n",
       "2  19ba89fc-1e06-4c5d-9c57-4a3088dc0511  1657111508570      68       1   \n",
       "3  e273dba4-136c-45fb-bdd6-0cc57b13aaf0  1657481309920      12       1   \n",
       "4  59a61a8a-cc52-453f-b1cd-2bd019e9d574  1657823890328      55       1   \n",
       "\n",
       "                                                 url  \\\n",
       "0  http://g1.globo.com/politica/noticia/2022/08/0...   \n",
       "1  http://g1.globo.com/sp/sao-paulo/noticia/2021/...   \n",
       "2  http://g1.globo.com/rn/rio-grande-do-norte/not...   \n",
       "3  http://g1.globo.com/mundo/noticia/2022/06/04/j...   \n",
       "4  http://g1.globo.com/pr/parana/noticia/2021/10/...   \n",
       "\n",
       "                      issued                   modified  \\\n",
       "0  2022-08-03 21:32:51+00:00  2022-09-19 19:58:15+00:00   \n",
       "1  2021-11-06 20:35:20+00:00  2021-11-06 23:23:25+00:00   \n",
       "2  2022-07-09 14:15:29+00:00  2022-07-10 12:12:21+00:00   \n",
       "3  2022-06-04 11:12:43+00:00  2022-06-04 11:18:12+00:00   \n",
       "4  2021-10-20 11:17:14+00:00  2021-10-20 20:27:48+00:00   \n",
       "\n",
       "                                               title  \\\n",
       "0  Câmara aprova projeto que acaba com saída temp...   \n",
       "1  Primeiro dia do Parque Augusta em SP tem 'cach...   \n",
       "2  Jovem de 21 anos é morto e mãe é baleada duran...   \n",
       "3  Jubileu da rainha Elizabeth 2ª: como Harry e M...   \n",
       "4  Taxa para emissão da 2ª via do RG pode ser pag...   \n",
       "\n",
       "                                                body  \\\n",
       "0  A Câmara dos Deputados aprovou nesta quarta-fe...   \n",
       "1  Cachorródromo na inauguração do Parque Augusta...   \n",
       "2  João Victor Queiroz Munai Dantas, de 21 anos, ...   \n",
       "3  Meghan Markle e Harry na chega à missa oficial...   \n",
       "4  Taxa para emissão do RG poderá ser paga por PI...   \n",
       "\n",
       "                                             caption  \n",
       "0  Relator defende que 'saidinhas' causam 'sentim...  \n",
       "1  Local foi inaugurado pelo prefeito Ricardo Nun...  \n",
       "2  Caso aconteceu na madrugada deste sábado (9) n...  \n",
       "3  O duque e a duquesa de Sussex sentaram do lado...  \n",
       "4  Guia de pagamento, de R$ 38,30, é gerada logo ...  "
      ]
     },
     "execution_count": 7,
     "metadata": {},
     "output_type": "execute_result"
    }
   ],
   "source": [
    "# Merge entre os DataFrames \"df_interactions\" e \"df_items\" utilizando a coluna \"itemId\"\n",
    "df = pd.merge(df_interactions, df_items, on=\"itemId\", how=\"left\")\n",
    "df.head()"
   ]
  },
  {
   "cell_type": "code",
   "execution_count": 8,
   "metadata": {},
   "outputs": [
    {
     "data": {
      "application/vnd.microsoft.datawrangler.viewer.v0+json": {
       "columns": [
        {
         "name": "index",
         "rawType": "int64",
         "type": "integer"
        },
        {
         "name": "userId",
         "rawType": "object",
         "type": "string"
        },
        {
         "name": "userType",
         "rawType": "object",
         "type": "string"
        },
        {
         "name": "itemId",
         "rawType": "object",
         "type": "string"
        },
        {
         "name": "timestamp",
         "rawType": "int64",
         "type": "integer"
        },
        {
         "name": "clicks",
         "rawType": "int64",
         "type": "integer"
        },
        {
         "name": "visits",
         "rawType": "int64",
         "type": "integer"
        },
        {
         "name": "url",
         "rawType": "object",
         "type": "string"
        },
        {
         "name": "issued",
         "rawType": "object",
         "type": "string"
        },
        {
         "name": "modified",
         "rawType": "object",
         "type": "string"
        },
        {
         "name": "title",
         "rawType": "object",
         "type": "string"
        },
        {
         "name": "body",
         "rawType": "object",
         "type": "string"
        },
        {
         "name": "caption",
         "rawType": "object",
         "type": "string"
        }
       ],
       "conversionMethod": "pd.DataFrame",
       "ref": "3fa0bad6-4ed4-47ab-9d2f-3cf12fbde931",
       "rows": [
        [
         "0",
         "fbb963d61eb8149e7f43b1bd905457ba5e106a830ddc27288434101e7252ef57",
         "Non-Logged",
         "80aa7bb2-adce-4a55-9711-912c407927a1",
         "1657908085200",
         "0",
         "1",
         "http://g1.globo.com/politica/noticia/2022/08/03/camara-aprova-projeto-que-acaba-com-saida-temporaria-de-presos-entidades-criticam.ghtml",
         "2022-08-03 21:32:51+00:00",
         "2022-09-19 19:58:15+00:00",
         "Câmara aprova projeto que acaba com saída temporária de presos; entidades criticam",
         "A Câmara dos Deputados aprovou nesta quarta-feira (3) um projeto de lei que acaba com a possibilidade de saída temporária de presos, conhecida popularmente como \"saidinha\". Organizações ligadas aos direitos humanos criticam a medida (veja mais abaixo). O texto retorna ao Senado, que aprovou outro conteúdo da proposta em 2013. \nA matéria foi analisada nesta quarta-feira após uma manobra do presidente da Câmara, Arthur Lira (PP-AL), que apensou o texto aprovado pelos senadores a um projeto do ano passado que exigia a realização de exame criminológico para a concessão da saída temporária. Esse texto já tinha a urgência aprovada e, por isso, a matéria pode ser levada diretamente ao plenário, encurtando os debates. \nA saída temporária é concedida pela Justiça como forma de ressocialização dos presos e manutenção de vínculo deles com o mundo fora do sistema prisional. \nHoje, a legislação permite o benefício a presos do regime semiaberto que já tenham cumprido o mínimo de 1/6 da pena, se for primário, e 1/4, se for reincidente. Além disso, é preciso apresentar comportamento adequado. \nPopulação carcerária diminui, mas Brasil ainda registra superlotação nos presídios\nA autorização tem prazo de até sete dias e pode ser concedida cinco vezes ao ano.\nQuando foi aprovado no Senado, em 2013, o projeto era bem mais enxuto e apenas restringia as possibilidades de saída temporária - que só poderia ser concedida uma vez ao ano e para presos primários. \nDesde a aprovação do pacote anticrime, em 2019, o preso condenado por crime hediondo com morte não tem mais direito à saída temporária. \nO relator da matéria, deputado Capitão Derrite (PL-SP), afirma em seu parecer que a saída temporária \"causa a todos um sentimento de impunidade diante da percepção de que as pessoas condenadas não cumprem suas penas, e o pior, de que o crime compensa\". \n\"A saída temporária não traz qualquer produto ou ganho efetivo à sociedade, além de que, na verdade, prejudica o combate ao crime, eis que grande parte dos condenados cometem novos crimes quando estão fora dos estabelecimentos penais desfrutando do benefício\", escreveu.\nEntidades criticam\nEntidades ligadas aos direitos humanos defendem o benefício. Segundo nota da Rede Justiça Criminal, a saída temporária \"é um importante instrumento para a manutenção de laços familiares, inserção e permanência no mercado de trabalho e acesso a outras oportunidades.\" \nA organização afirma que \"banir a saída temporária é uma resposta falaciosa e que se baseia apenas no sensacionalismo\".\n\"É falso dizer que as saídas temporárias propiciam fugas ou aumento da delinquência de forma massiva. Os dados comprovam que somente um número reduzido de apenados não retornam às suas atividades prisionais. Segundo Infopen de 2019, a taxa de fugas em geral no sistema prisional, sejam elas por saídas temporárias, transferências ou outras razões, corresponde a apenas 0,99%.\"\nAinda segundo a instituição, em 2019, apenas 20,17% da população prisional teve direito à saída temporária.\nA Rede Justiça Criminal relembra, ainda, a alteração aplicada após a aprovação do pacote anticrime, em 2019, que proibiu as saídas temporárias para condenados por crimes hediondos. \"A mudança é recente e não é urgente uma nova alteração em tão pouco tempo\". \nExame criminológico\nO texto também deixa explícito que o preso só terá direito à progressão de regime se tiver boa conduta carcerária, comprovada pelo diretor da prisão, e após o resultado de um \"exame criminológico\". \nPara entrar no regime aberto, seus antecedentes e o resultado do exame criminológico devem indicar que o preso irá \"ajustar-se, com autodisciplina, baixa periculosidade, e senso de responsabilidade, ao novo regime\". A lei atual não faz menção específica ao exame criminológico, nem a indícios de baixa periculosidade. \nTornozeleira eletrônica\nDerrite também incluiu em seu parecer três novas situações em que a Justiça pode determinar a fiscalização por meio de tornozeleira eletrônica:\nlivramento condicional; \nexecução da pena nos regimes aberto e semiaberto; e\nrestrição de direitos relativa à proibição de frequentar lugares específicos\nHoje, a tornozeleira eletrônica pode ser utilizada para monitoramento das saídas temporárias do regime semiaberto e durante a prisão domiciliar. \nCalamidade pública\nNa mesma sessão, os deputados também aprovaram um projeto que estabelece hipótese de aumento de pena para os crimes de furto e roubo e cria uma forma “qualificada” para os delitos de furto e peculato. O texto vai ao Senado. \nA forma qualificada de um crime é configurada quando um delito é cometido com a ocorrência de outros resultados alheios ao crime principal.\nO Código Penal já estabelece pena de 2 a 8 anos e multa para furtos em que o criminoso se utiliza de abuso de confiança, por exemplo. \nO texto inclui nesse rol quem comete furto em meio a incêndio, naufrágio, inundação, desastre, durante estado de calamidade pública, epidemia ou pandemia. \nSe o bem furtado for insumo ou equipamento médico, hospitalar, terapêutico, sanitário ou vacinal, durante estado de calamidade pública, epidemia ou pandemia, o projeto permite aumento de pena de um terço até a metade. \nSe em vez de furto houver roubo nas situações previstas acima, a pena poderá ser aumentada em um terço e poderá chegar a dois terços se a violência ou grave ameaça, que caracteriza o crime de roubo:\nfor exercida com emprego de arma de fogo de uso restrito ou proibido;\nse a subtração for de bem, insumo ou equipamento médico, hospitalar, terapêutico, sanitário ou vacinal, durante estado de calamidade pública, epidemia ou pandemia.\nNo caso do crime de peculato, definido como apropriação, por funcionário público, de dinheiro, valor ou qualquer outro bem móvel em proveito próprio ou de terceiros, a pena, que hoje varia de 2 a 12 anos, sobe para 3 a 13 anos se a apropriação, o desvio ou a subtração, durante estado de calamidade, epidemia ou pandemia, for insumos médicos e terapêuticos.",
         "Relator defende que 'saidinhas' causam 'sentimento de impunidade'; organizações ligadas aos direitos humanos dizem que medida é 'falaciosa e se baseia no sensacionalismo'. Texto volta ao Senado. "
        ],
        [
         "1",
         "fbb963d61eb8149e7f43b1bd905457ba5e106a830ddc27288434101e7252ef57",
         "Non-Logged",
         "d9e5f15d-b441-4d8b-bee4-462b106d3916",
         "1659634203762",
         "0",
         "1",
         "http://g1.globo.com/sp/sao-paulo/noticia/2021/11/06/primeiro-dia-do-parque-augusta-em-sp-tem-cachorrodromo-agitado-vacinacao-contra-covid-e-protesto-de-servidores-municipais.ghtml",
         "2021-11-06 20:35:20+00:00",
         "2021-11-06 23:23:25+00:00",
         "Primeiro dia do Parque Augusta em SP tem 'cachorródromo' agitado, vacinação contra Covid e protesto de servidores municipais",
         "Cachorródromo na inauguração do Parque Augusta, no centro da cidade de São Paulo, neste sábado (6). \nFELIPE RAU/ESTADÃO CONTEÚDO\nO primeiro dia de funcionamento do Parque Augusta, no Centro de São Paulo, neste sábado (6), foi marcado pelo grande movimento de frequentadores ao longo do dia e por uma manifestação de servidores municipais na abertura do parque.\nO Parque Augusta – Prefeito Bruno Covas foi inaugurado pelo sucessor do tucano, Ricardo Nunes (MDB), por volta das 9h da manhã, sob protestos de funcionários públicos contrários às mudanças no sistema previdenciário municipal. \nDurante a tarde, o movimento foi grande em espaços como o cachorródromo, uma área cercada do parque com estrutura para pets. Até quem não tinha animalzinho ficou no pedaço para assistir às brincadeiras.\nUma tenda de vacinação contra a Covid-19 foi montada no parque para a aplicação de doses de reforço nos grupos prioritários e da segunda dose para pessoas que ainda não completaram o esquema vacinal. \nPosto de vacinação contra a Covid-19 no novo Parque Augusta, na cidade de São Paulo (SP), neste sábado (6) \nALLISON SALES/FUTURA PRESS/ESTADÃO CONTEÚDO\nEm meio à área de 23 mil metros quadrados, outro espaço com grande procura neste sábado foi o playground, que tem piso adaptado e brinquedos que são acessíveis a crianças de várias idades e também com deficiências. \nA inauguração colocou fim a uma polêmica antiga acerca do destino do espaço. A área de 23 mil metros quadrados pertencia a duas construtoras que pretendiam levantar três torres no local. A comunidade protestou para que fosse o espaço fosse destinado ao público, uma demanda dos moradores da região desde os anos 1980. \nPlayground do Parque Augusta, no centro da cidade de São Paulo, neste sábado (6), primeiro dia de funcionamento do Parque Augusta-Prefeito Bruno Covas \nFELIPE RAU/ESTADÃO CONTEÚDO\nEm 2019, as construtoras fizeram um acordo com a Prefeitura, por meio de uma mediação do Ministério Público, e trocaram a área por títulos de potencial construtivo para levantar empreendimentos em outras áreas. \nO acordo definiu que as obras do parque seriam custeadas pelas empresa. Segundo a prefeitura,  foram investidos cerca de R$ 11 milhões.\nParque Augusta abre ao público neste sábado (6)\nO Parque Augusta\nInauguração do Parque Municipal Augusta Prefeito Bruno Covas, no centro de São Paulo, neste sábado (6).   \nROBERTO CASIMIRO/FOTOARENA/ESTADÃO CONTEÚDO\nO parque conta ainda com um bosque e uma arquibancada para apresentações, além de um deck elevado e equipamentos de ginástica para idosos. \nO local também tem um redário e um espaço para a prática de slackline. A restaurada Casa das Araras — tombada pelo Conselho Municipal de Preservação do Patrimônio Histórico, Cultural e Ambiental da Cidade de São Paulo (Conpresp)— deve abrigar ainda eventos e pequenas exposições.\nBosque do Parque Augusta, na região central de São Paulo\nMarcelo Brandt/g1\nO projeto do parque foi feito de acordo com o novo Plano Diretor da cidade, que determina uma Taxa de Permeabilidade mínima de 90% para este tipo de construção. Por isso, somente 10% da área do parque pôde ser impermeabilizada; o restante do espaço é coberto por grama ou outros revestimentos permeáveis.\nO espaço está localizado em um quarteirão entre as ruas Augusta, Consolação, Caio Prado e Marquês de Paranaguá, na região Central de São Paulo. A entrada é gratuita e deve ser feita pelo número 200 da Rua Augusta. A área verde fica perto de pontos como a Avenida Nove de Julho e a Rua da Consolação, e a estação de Metrô mais próxima é a Higienópolis-Mackenzie, da Linha 4-Amarela. \nNegociação difícil\nAs obras do Parque Augusta começaram em outubro de 2019. Em dezembro daquele ano, a Prefeitura de São Paulo apresentou ao Ministério Público (MP) o projeto do parque. Mas, em janeiro de 2020, o Instituto do Patrimônio Histórico e Artístico Nacional (Iphan) solicitou à Prefeitura a paralisação das obras para investigar um sítio arqueológico encontrado nas escavações que poderia conter vestígios de populações indígenas. As obras foram retomadas após um acordo para acompanhamento arqueológico\nParque Augusta, na região central de São Paulo\nMarcelo Brandt/g1\nO terreno do Parque Augusta pertencia as construtoras Setin e Cyrela, que doaram o local à municipalidade. A escritura foi assinada em abril de 2019.\nPara que a doação fosse realizada, a Prefeitura de São Paulo e as construtoras firmaram um acordo. Os termos da negociação previam a transferência do terreno por doação ao município em troca de quatro declarações de potencial construtivo passível de transferência - ou seja, as empresas poderão construir empreendimentos imobiliários. em outras áreas.\nEm novembro do ano passado, a Justiça extinguiu a última ação popular que impedia que o acordo para a criação do Parque Augusta fosse concluído e saísse do papel.  \nVÍDEOS: Tudo sobre São Paulo e região metropolitana",
         "Local foi inaugurado pelo prefeito Ricardo Nunes (MDB) sob protestos de funcionários públicos contrários às mudanças no sistema previdenciário municipal. Durante a tarde, movimento foi grande no espaço de 23 mil metros quadrados."
        ],
        [
         "2",
         "17f1083e6079b0f28f7820a6803583d1c1b405c0718b11a18d30b1620f643b23",
         "Non-Logged",
         "19ba89fc-1e06-4c5d-9c57-4a3088dc0511",
         "1657111508570",
         "68",
         "1",
         "http://g1.globo.com/rn/rio-grande-do-norte/noticia/2022/07/09/jovem-de-21-anos-e-morto-e-mae-e-baleada-durante-assalto-dentro-de-casa-em-natal.ghtml",
         "2022-07-09 14:15:29+00:00",
         "2022-07-10 12:12:21+00:00",
         "Jovem de 21 anos é morto e mãe é baleada durante assalto dentro de casa em Natal",
         "João Victor Queiroz Munai Dantas, de 21 anos, morreu após sofrer três tiros em assalto dentro de casa, em Natal\nCedida\nUm jovem de 21 anos morreu após ser atingido por três tiros no abdômem, durante um assalto dentro de casa, na madrugada deste sábado (9). O caso aconteceu Cidade Satélite, na Zona Sul de Natal. A mãe dele também foi baleada e está internada no Hospital Walfredo Gurgel, após passar por cirurgia.\nO rapaz foi identificada como João Victor Queiroz Munay Dantas, de 21 anos. Ele trabalhava como técnico em eletrotécnica e fazia especialização em em Energia Eólica. \nA morte foi confirmada ao g1 RN pelo próprio pai da vítima, o engenheiro elétrico e professor Silvano Munay. \n\"Era meu tudo\", diz pai de jovem assassinado\nSegundo a Polícia Militar, o criminoso é suspeito de outro assassinato que aconteceu minutos antes em Cidade da Esperança. Após o assassinato de João Victor, ele chegou a ser perseguido pela equipe do 9º Batalhão da PM, mas conseguiu fugir.\nO crime\nSegundo Munay, a polícia informou que um criminoso invadiu a casa onde o filho e a ex-esposa dele moravam para tentar roubar a moto de João Victor. \nSegundo informações da Polícia Militar repassadas ao g1, o bandido teria matado outra pessoa no bairro Cidade da Esperança, na Zona Oeste de Natal, estava em fuga em um carro modelo Ford Ka e resolveu rouar a moto para trocar de veículo. As circunstâncias desse primeiro homicídio não foram esclarecidas pela PM.\n\"Depois que ele entrou, o cachorro começou a latir e ele esfaqueou o cachorro. Com o barulho, o meu filho foi ver o que estava acontecendo e tentou proteger a mãe. Ele deu três tiros no abdômem do meu filho e também baleou a mãe dele no braço\", contou Munay. \nO jovem e a mãe foram socorrido para o Hospital Walfredo Gurgel, onde passaram por cirurgia, no entanto, a família recebeu a confirmação da morte do jovem ainda durante a manhã. Os médicos inforamaram aos familiares que ele teve uma parada cardíaca após a cirurgia e não resistiu. \nAlém de João Victor e da sua mãe, a avó dele e uma prima de 8 anos de idade estavam no imóvel e não ficaram feridas.\nPM diz que suspeito fugia de outro crime\nO comandante do 9º Batalhão da Polícia Militar,  coronel Givanildo Gomes, informou que as viaturas da unidade foram acionadas para atender uma ocorrência de disparos de arma de fogo no Conjunto Cidade Satélite e, ao chegar ao local, se depararam com um veículo Ford Ka de cor branca abandonado. Na revista, os militares encontraram uma pistola Cal. 380.\nAinda de acordo com a PM, os policiais foram informados por vizinhos que o homem que estava no carro invadiu a casa e atirou contra duas vítimas, usando a moto na fuga em direção ao bairro Planalto. As duas pessoas baleadas já tinham sido socorridas pelo Serviço de Atendimento Móvel de Urgência.\nO criminoso ainda chegou a abandonar a moto e roubar uma caminhonete. A Polícia Militar iniciou uma perseguição, mas o suspeito abandonou o veículo e conseguiu fugir a pé por uma área de morro e mata fechada.\nEle teria matado uma outra pessoa na proximidades da Rodoviária de Natal, retirando o corpo da vítima do carro e deixando na via, antes de seguir em direção à Cidade Satélite, onde abandonou o veículo.\nVeja os vídeos mais assistidos no g1 RN",
         "Caso aconteceu na madrugada deste sábado (9) no conjunto Cidade Satélite, na Zona Sul de Natal. Criminoso conseguiu fugir. "
        ],
        [
         "3",
         "17f1083e6079b0f28f7820a6803583d1c1b405c0718b11a18d30b1620f643b23",
         "Non-Logged",
         "e273dba4-136c-45fb-bdd6-0cc57b13aaf0",
         "1657481309920",
         "12",
         "1",
         "http://g1.globo.com/mundo/noticia/2022/06/04/jubileu-da-rainha-elizabeth-2a-como-harry-e-meghan-foram-recebidos-em-celebracao-apos-polemicas.ghtml",
         "2022-06-04 11:12:43+00:00",
         "2022-06-04 11:18:12+00:00",
         "Jubileu da rainha Elizabeth 2ª: como Harry e Meghan foram recebidos em celebração após polêmicas",
         "Meghan Markle e Harry na chega à missa oficial pelos 70 anos do reinado de Elizabeth II, em Londres, em 3 de junho de 2022.\nReuters\nDificilmente seria discreta a participação do príncipe Harry e de Meghan Markle nas celebrações do jubileu de platina da rainha Elizabeth II, em Londres. Afinal, o casal não era visto junto no Reino Unido havia dois anos, após deixar o país em circunstâncias controversas.\nCompartilhe esta notícia no WhatsApp\nCompartilhe esta notícia no Telegram\nOs dois pareciam tensos quando saíram do carro para entrar na catedral St. Paul, para uma celebração em homenagem à rainha. Harry e Meghan seguravam firmemente a mão um do outro. Meghan ajustou a gola do seu casaco Dior. \nEles conversaram um com o outro, mas dava para perceber que agiam com cautela. Uma multidão estava do lado de fora da catedral na sexta (3) para o culto de Ação de Graças- um dos eventos da agenda de comemorações pelos 70 anos de reinado de Elizabeth 2ª. \nA maior parte do público era formada por dedicados apoiadores da família real. Será que eles receberiam bem o príncipe Harry e Meghan? \nEm março de 2021, o casal deu uma entrevista à apresentadora americana Oprah Winfrey, na qual falaram sobre seus relacionamentos com outros membros da realeza, racismo e como a saúde mental de Meghan foi prejudicada durante o período que em viveu no Reino Unido. \nEntre as afirmações, está a de que um integrante da família real demonstrou preocupação com a cor da pele do bebê do casal e a de que Meghan chegou a ter pensamentos suicidas, mas foi impedida de procurar ajuda.\nA mudança do casal para os Estados Unidos e esta entrevista esfriaram a relação já conturbada deles com o restante da família real. Por isso, não se sabia como o público reagiria à presença de Harry e Meghan nas comemorações do jubileu. \nMas a recepção foi positiva. \nAplausos\nEnquanto eles subiam os degraus da catedral St.Paul, a multidão aplaudia. Foi uma resposta calorosa e espontânea ao casal, que fazia sua  primeira aparição juntos num evento da realeza desde 2020.\nDois anos atrás, eles estiveram numa cerimônia religiosa na Abadia de Westminster, em março. Naquela ocasião, o clima estava mais sombrio. O atrito na família real era evidente e foi registrado pelas câmeras. O príncipe William e o príncipe Harry mal trocaram um olhar, embora estivessem sentados próximos um do outro. \nA coreografia dos eventos reais é sempre cuidadosa e precisa- e a sexta-feira (3) não foi exceção.\nO príncipe Harry e Meghan estavam sentados no lado oposto do corredor ao príncipe William e Kate, evitando qualquer contato visual desconfortável ou imagens que pudessem captar uma atmosfera carregada. \nEles se sentaram ao lado da princesa Eugenie e seu marido, Jack Brooksbank. Os casais são próximos. Eugenie, Jack e o filho pequeno dos dois, visitaram Harry e Meghan na Califórnia, em fevereiro.\nDo outro lado deles estava Lady Sarah Chatto- a filha da princesa Margaret e sobrinha muito querida da rainha Elizabeth 2ª. Uma presença calma e reconfortante. Este era um plano seguro de distribuição assentos. \nBreve vaia na saída da catedral \nQuando o casal deixou a catedral, houve uma vaia estranha vinda da multidão, mas ela foi abafada por muitos aplausos. Não houve hostilidade real.\nEm meio à pompa, cerimônias, festas e reflexões deste fim de semana, o jubileu de platina também é sobre uma família com todas as suas falhas e tensões.\nA rainha teve que assistir de casa, mas ela já havia deixado claro que, quaisquer que fossem os problemas e as polêmicas, seu neto príncipe Harry, e sua esposa, Meghan, eram muito bem-vindos nas comemorações oficiais dos seus 70 anos de reinado. \nO primeiro obstáculo público do breve retorno de Harry e Meghan ao dever real foi superado com sucesso.",
         "O duque e a duquesa de Sussex sentaram do lado oposto do principe William e Kate, para evitar fotos que demonstrassem 'desconforto'."
        ],
        [
         "4",
         "528a8d7a2af73101da8d6709c1ec875b449a5a58749a998ae2d949c10d1772df",
         "Non-Logged",
         "59a61a8a-cc52-453f-b1cd-2bd019e9d574",
         "1657823890328",
         "55",
         "1",
         "http://g1.globo.com/pr/parana/noticia/2021/10/20/taxa-para-emissao-da-2a-via-do-rg-pode-ser-paga-por-pix-no-parana.ghtml",
         "2021-10-20 11:17:14+00:00",
         "2021-10-20 20:27:48+00:00",
         "Taxa para emissão da 2ª via do RG pode ser paga por Pix, no Paraná ",
         "Taxa para emissão do RG poderá ser paga por PIX no Paraná\nO pagamento da taxa para emissão da 2ª via da carteira de identidade agora pode ser feito por Pix no Paraná, de acordo com a Polícia Civil. Não há cobrança para a emissão da 1ª via do RG.\nSegundo a polícia, o pagamento por Pix é feito após a leitura do QR Code que consta na guia de recolhimento, de R$ 38,30. Para isso, basta abrir o aplicativo do banco, escolher a opção \"pagar com Pix\" e fazer a leitura do código.\nTaxa para emissão da 2ª via do RG pode ser paga por Pix, no Paraná\nPolícia Civil/Divulgação\nA emissão do documento deve ser feita exclusivamente no site da Polícia Civil. \nCom o novo sistema, a guia pode ser paga em qualquer banco, inclusive os digitais, não se restringindo aos conveniados com o Governo do Paraná. \nO pagamento da taxa via Pix será quitado no prazo de 24 horas, após a consolidação das informações de recolhimento.\nVídeos mais assistidos do g1 Paraná:\nVeja mais notícias do estado no g1 Paraná. ",
         "Guia de pagamento, de R$ 38,30, é gerada logo após o agendamento pela internet; não há cobrança para a emissão da 1ª via da carteira de identidade. "
        ]
       ],
       "shape": {
        "columns": 12,
        "rows": 5
       }
      },
      "text/html": [
       "<div>\n",
       "<style scoped>\n",
       "    .dataframe tbody tr th:only-of-type {\n",
       "        vertical-align: middle;\n",
       "    }\n",
       "\n",
       "    .dataframe tbody tr th {\n",
       "        vertical-align: top;\n",
       "    }\n",
       "\n",
       "    .dataframe thead th {\n",
       "        text-align: right;\n",
       "    }\n",
       "</style>\n",
       "<table border=\"1\" class=\"dataframe\">\n",
       "  <thead>\n",
       "    <tr style=\"text-align: right;\">\n",
       "      <th></th>\n",
       "      <th>userId</th>\n",
       "      <th>userType</th>\n",
       "      <th>itemId</th>\n",
       "      <th>timestamp</th>\n",
       "      <th>clicks</th>\n",
       "      <th>visits</th>\n",
       "      <th>url</th>\n",
       "      <th>issued</th>\n",
       "      <th>modified</th>\n",
       "      <th>title</th>\n",
       "      <th>body</th>\n",
       "      <th>caption</th>\n",
       "    </tr>\n",
       "  </thead>\n",
       "  <tbody>\n",
       "    <tr>\n",
       "      <th>0</th>\n",
       "      <td>fbb963d61eb8149e7f43b1bd905457ba5e106a830ddc27...</td>\n",
       "      <td>Non-Logged</td>\n",
       "      <td>80aa7bb2-adce-4a55-9711-912c407927a1</td>\n",
       "      <td>1657908085200</td>\n",
       "      <td>0</td>\n",
       "      <td>1</td>\n",
       "      <td>http://g1.globo.com/politica/noticia/2022/08/0...</td>\n",
       "      <td>2022-08-03 21:32:51+00:00</td>\n",
       "      <td>2022-09-19 19:58:15+00:00</td>\n",
       "      <td>Câmara aprova projeto que acaba com saída temp...</td>\n",
       "      <td>A Câmara dos Deputados aprovou nesta quarta-fe...</td>\n",
       "      <td>Relator defende que 'saidinhas' causam 'sentim...</td>\n",
       "    </tr>\n",
       "    <tr>\n",
       "      <th>1</th>\n",
       "      <td>fbb963d61eb8149e7f43b1bd905457ba5e106a830ddc27...</td>\n",
       "      <td>Non-Logged</td>\n",
       "      <td>d9e5f15d-b441-4d8b-bee4-462b106d3916</td>\n",
       "      <td>1659634203762</td>\n",
       "      <td>0</td>\n",
       "      <td>1</td>\n",
       "      <td>http://g1.globo.com/sp/sao-paulo/noticia/2021/...</td>\n",
       "      <td>2021-11-06 20:35:20+00:00</td>\n",
       "      <td>2021-11-06 23:23:25+00:00</td>\n",
       "      <td>Primeiro dia do Parque Augusta em SP tem 'cach...</td>\n",
       "      <td>Cachorródromo na inauguração do Parque Augusta...</td>\n",
       "      <td>Local foi inaugurado pelo prefeito Ricardo Nun...</td>\n",
       "    </tr>\n",
       "    <tr>\n",
       "      <th>2</th>\n",
       "      <td>17f1083e6079b0f28f7820a6803583d1c1b405c0718b11...</td>\n",
       "      <td>Non-Logged</td>\n",
       "      <td>19ba89fc-1e06-4c5d-9c57-4a3088dc0511</td>\n",
       "      <td>1657111508570</td>\n",
       "      <td>68</td>\n",
       "      <td>1</td>\n",
       "      <td>http://g1.globo.com/rn/rio-grande-do-norte/not...</td>\n",
       "      <td>2022-07-09 14:15:29+00:00</td>\n",
       "      <td>2022-07-10 12:12:21+00:00</td>\n",
       "      <td>Jovem de 21 anos é morto e mãe é baleada duran...</td>\n",
       "      <td>João Victor Queiroz Munai Dantas, de 21 anos, ...</td>\n",
       "      <td>Caso aconteceu na madrugada deste sábado (9) n...</td>\n",
       "    </tr>\n",
       "    <tr>\n",
       "      <th>3</th>\n",
       "      <td>17f1083e6079b0f28f7820a6803583d1c1b405c0718b11...</td>\n",
       "      <td>Non-Logged</td>\n",
       "      <td>e273dba4-136c-45fb-bdd6-0cc57b13aaf0</td>\n",
       "      <td>1657481309920</td>\n",
       "      <td>12</td>\n",
       "      <td>1</td>\n",
       "      <td>http://g1.globo.com/mundo/noticia/2022/06/04/j...</td>\n",
       "      <td>2022-06-04 11:12:43+00:00</td>\n",
       "      <td>2022-06-04 11:18:12+00:00</td>\n",
       "      <td>Jubileu da rainha Elizabeth 2ª: como Harry e M...</td>\n",
       "      <td>Meghan Markle e Harry na chega à missa oficial...</td>\n",
       "      <td>O duque e a duquesa de Sussex sentaram do lado...</td>\n",
       "    </tr>\n",
       "    <tr>\n",
       "      <th>4</th>\n",
       "      <td>528a8d7a2af73101da8d6709c1ec875b449a5a58749a99...</td>\n",
       "      <td>Non-Logged</td>\n",
       "      <td>59a61a8a-cc52-453f-b1cd-2bd019e9d574</td>\n",
       "      <td>1657823890328</td>\n",
       "      <td>55</td>\n",
       "      <td>1</td>\n",
       "      <td>http://g1.globo.com/pr/parana/noticia/2021/10/...</td>\n",
       "      <td>2021-10-20 11:17:14+00:00</td>\n",
       "      <td>2021-10-20 20:27:48+00:00</td>\n",
       "      <td>Taxa para emissão da 2ª via do RG pode ser pag...</td>\n",
       "      <td>Taxa para emissão do RG poderá ser paga por PI...</td>\n",
       "      <td>Guia de pagamento, de R$ 38,30, é gerada logo ...</td>\n",
       "    </tr>\n",
       "  </tbody>\n",
       "</table>\n",
       "</div>"
      ],
      "text/plain": [
       "                                              userId    userType  \\\n",
       "0  fbb963d61eb8149e7f43b1bd905457ba5e106a830ddc27...  Non-Logged   \n",
       "1  fbb963d61eb8149e7f43b1bd905457ba5e106a830ddc27...  Non-Logged   \n",
       "2  17f1083e6079b0f28f7820a6803583d1c1b405c0718b11...  Non-Logged   \n",
       "3  17f1083e6079b0f28f7820a6803583d1c1b405c0718b11...  Non-Logged   \n",
       "4  528a8d7a2af73101da8d6709c1ec875b449a5a58749a99...  Non-Logged   \n",
       "\n",
       "                                 itemId      timestamp  clicks  visits  \\\n",
       "0  80aa7bb2-adce-4a55-9711-912c407927a1  1657908085200       0       1   \n",
       "1  d9e5f15d-b441-4d8b-bee4-462b106d3916  1659634203762       0       1   \n",
       "2  19ba89fc-1e06-4c5d-9c57-4a3088dc0511  1657111508570      68       1   \n",
       "3  e273dba4-136c-45fb-bdd6-0cc57b13aaf0  1657481309920      12       1   \n",
       "4  59a61a8a-cc52-453f-b1cd-2bd019e9d574  1657823890328      55       1   \n",
       "\n",
       "                                                 url  \\\n",
       "0  http://g1.globo.com/politica/noticia/2022/08/0...   \n",
       "1  http://g1.globo.com/sp/sao-paulo/noticia/2021/...   \n",
       "2  http://g1.globo.com/rn/rio-grande-do-norte/not...   \n",
       "3  http://g1.globo.com/mundo/noticia/2022/06/04/j...   \n",
       "4  http://g1.globo.com/pr/parana/noticia/2021/10/...   \n",
       "\n",
       "                      issued                   modified  \\\n",
       "0  2022-08-03 21:32:51+00:00  2022-09-19 19:58:15+00:00   \n",
       "1  2021-11-06 20:35:20+00:00  2021-11-06 23:23:25+00:00   \n",
       "2  2022-07-09 14:15:29+00:00  2022-07-10 12:12:21+00:00   \n",
       "3  2022-06-04 11:12:43+00:00  2022-06-04 11:18:12+00:00   \n",
       "4  2021-10-20 11:17:14+00:00  2021-10-20 20:27:48+00:00   \n",
       "\n",
       "                                               title  \\\n",
       "0  Câmara aprova projeto que acaba com saída temp...   \n",
       "1  Primeiro dia do Parque Augusta em SP tem 'cach...   \n",
       "2  Jovem de 21 anos é morto e mãe é baleada duran...   \n",
       "3  Jubileu da rainha Elizabeth 2ª: como Harry e M...   \n",
       "4  Taxa para emissão da 2ª via do RG pode ser pag...   \n",
       "\n",
       "                                                body  \\\n",
       "0  A Câmara dos Deputados aprovou nesta quarta-fe...   \n",
       "1  Cachorródromo na inauguração do Parque Augusta...   \n",
       "2  João Victor Queiroz Munai Dantas, de 21 anos, ...   \n",
       "3  Meghan Markle e Harry na chega à missa oficial...   \n",
       "4  Taxa para emissão do RG poderá ser paga por PI...   \n",
       "\n",
       "                                             caption  \n",
       "0  Relator defende que 'saidinhas' causam 'sentim...  \n",
       "1  Local foi inaugurado pelo prefeito Ricardo Nun...  \n",
       "2  Caso aconteceu na madrugada deste sábado (9) n...  \n",
       "3  O duque e a duquesa de Sussex sentaram do lado...  \n",
       "4  Guia de pagamento, de R$ 38,30, é gerada logo ...  "
      ]
     },
     "execution_count": 8,
     "metadata": {},
     "output_type": "execute_result"
    }
   ],
   "source": [
    "# Tratar valores nulos\n",
    "df['title'] = df['title'].fillna('Título Desconhecido')\n",
    "df['body'] = df['body'].fillna('Body Desconhecido')\n",
    "\n",
    "df.head()"
   ]
  },
  {
   "cell_type": "code",
   "execution_count": 9,
   "metadata": {},
   "outputs": [
    {
     "data": {
      "application/vnd.microsoft.datawrangler.viewer.v0+json": {
       "columns": [
        {
         "name": "index",
         "rawType": "int64",
         "type": "integer"
        },
        {
         "name": "userId",
         "rawType": "object",
         "type": "string"
        },
        {
         "name": "userType",
         "rawType": "object",
         "type": "string"
        },
        {
         "name": "itemId",
         "rawType": "object",
         "type": "string"
        },
        {
         "name": "timestamp",
         "rawType": "object",
         "type": "string"
        },
        {
         "name": "clicks",
         "rawType": "int64",
         "type": "integer"
        },
        {
         "name": "visits",
         "rawType": "int64",
         "type": "integer"
        },
        {
         "name": "url",
         "rawType": "object",
         "type": "string"
        },
        {
         "name": "issued",
         "rawType": "datetime64[ns, UTC]",
         "type": "unknown"
        },
        {
         "name": "modified",
         "rawType": "datetime64[ns, UTC]",
         "type": "unknown"
        },
        {
         "name": "title",
         "rawType": "object",
         "type": "string"
        },
        {
         "name": "body",
         "rawType": "object",
         "type": "string"
        },
        {
         "name": "caption",
         "rawType": "object",
         "type": "string"
        }
       ],
       "conversionMethod": "pd.DataFrame",
       "ref": "1082e5d4-cd56-4970-bd61-d9ef0be0333b",
       "rows": [
        [
         "0",
         "fbb963d61eb8149e7f43b1bd905457ba5e106a830ddc27288434101e7252ef57",
         "Non-Logged",
         "80aa7bb2-adce-4a55-9711-912c407927a1",
         "15-07-2022 18:01:25",
         "0",
         "1",
         "http://g1.globo.com/politica/noticia/2022/08/03/camara-aprova-projeto-que-acaba-com-saida-temporaria-de-presos-entidades-criticam.ghtml",
         "2022-08-03 21:32:51+00:00",
         "2022-09-19 19:58:15+00:00",
         "Câmara aprova projeto que acaba com saída temporária de presos; entidades criticam",
         "A Câmara dos Deputados aprovou nesta quarta-feira (3) um projeto de lei que acaba com a possibilidade de saída temporária de presos, conhecida popularmente como \"saidinha\". Organizações ligadas aos direitos humanos criticam a medida (veja mais abaixo). O texto retorna ao Senado, que aprovou outro conteúdo da proposta em 2013. \nA matéria foi analisada nesta quarta-feira após uma manobra do presidente da Câmara, Arthur Lira (PP-AL), que apensou o texto aprovado pelos senadores a um projeto do ano passado que exigia a realização de exame criminológico para a concessão da saída temporária. Esse texto já tinha a urgência aprovada e, por isso, a matéria pode ser levada diretamente ao plenário, encurtando os debates. \nA saída temporária é concedida pela Justiça como forma de ressocialização dos presos e manutenção de vínculo deles com o mundo fora do sistema prisional. \nHoje, a legislação permite o benefício a presos do regime semiaberto que já tenham cumprido o mínimo de 1/6 da pena, se for primário, e 1/4, se for reincidente. Além disso, é preciso apresentar comportamento adequado. \nPopulação carcerária diminui, mas Brasil ainda registra superlotação nos presídios\nA autorização tem prazo de até sete dias e pode ser concedida cinco vezes ao ano.\nQuando foi aprovado no Senado, em 2013, o projeto era bem mais enxuto e apenas restringia as possibilidades de saída temporária - que só poderia ser concedida uma vez ao ano e para presos primários. \nDesde a aprovação do pacote anticrime, em 2019, o preso condenado por crime hediondo com morte não tem mais direito à saída temporária. \nO relator da matéria, deputado Capitão Derrite (PL-SP), afirma em seu parecer que a saída temporária \"causa a todos um sentimento de impunidade diante da percepção de que as pessoas condenadas não cumprem suas penas, e o pior, de que o crime compensa\". \n\"A saída temporária não traz qualquer produto ou ganho efetivo à sociedade, além de que, na verdade, prejudica o combate ao crime, eis que grande parte dos condenados cometem novos crimes quando estão fora dos estabelecimentos penais desfrutando do benefício\", escreveu.\nEntidades criticam\nEntidades ligadas aos direitos humanos defendem o benefício. Segundo nota da Rede Justiça Criminal, a saída temporária \"é um importante instrumento para a manutenção de laços familiares, inserção e permanência no mercado de trabalho e acesso a outras oportunidades.\" \nA organização afirma que \"banir a saída temporária é uma resposta falaciosa e que se baseia apenas no sensacionalismo\".\n\"É falso dizer que as saídas temporárias propiciam fugas ou aumento da delinquência de forma massiva. Os dados comprovam que somente um número reduzido de apenados não retornam às suas atividades prisionais. Segundo Infopen de 2019, a taxa de fugas em geral no sistema prisional, sejam elas por saídas temporárias, transferências ou outras razões, corresponde a apenas 0,99%.\"\nAinda segundo a instituição, em 2019, apenas 20,17% da população prisional teve direito à saída temporária.\nA Rede Justiça Criminal relembra, ainda, a alteração aplicada após a aprovação do pacote anticrime, em 2019, que proibiu as saídas temporárias para condenados por crimes hediondos. \"A mudança é recente e não é urgente uma nova alteração em tão pouco tempo\". \nExame criminológico\nO texto também deixa explícito que o preso só terá direito à progressão de regime se tiver boa conduta carcerária, comprovada pelo diretor da prisão, e após o resultado de um \"exame criminológico\". \nPara entrar no regime aberto, seus antecedentes e o resultado do exame criminológico devem indicar que o preso irá \"ajustar-se, com autodisciplina, baixa periculosidade, e senso de responsabilidade, ao novo regime\". A lei atual não faz menção específica ao exame criminológico, nem a indícios de baixa periculosidade. \nTornozeleira eletrônica\nDerrite também incluiu em seu parecer três novas situações em que a Justiça pode determinar a fiscalização por meio de tornozeleira eletrônica:\nlivramento condicional; \nexecução da pena nos regimes aberto e semiaberto; e\nrestrição de direitos relativa à proibição de frequentar lugares específicos\nHoje, a tornozeleira eletrônica pode ser utilizada para monitoramento das saídas temporárias do regime semiaberto e durante a prisão domiciliar. \nCalamidade pública\nNa mesma sessão, os deputados também aprovaram um projeto que estabelece hipótese de aumento de pena para os crimes de furto e roubo e cria uma forma “qualificada” para os delitos de furto e peculato. O texto vai ao Senado. \nA forma qualificada de um crime é configurada quando um delito é cometido com a ocorrência de outros resultados alheios ao crime principal.\nO Código Penal já estabelece pena de 2 a 8 anos e multa para furtos em que o criminoso se utiliza de abuso de confiança, por exemplo. \nO texto inclui nesse rol quem comete furto em meio a incêndio, naufrágio, inundação, desastre, durante estado de calamidade pública, epidemia ou pandemia. \nSe o bem furtado for insumo ou equipamento médico, hospitalar, terapêutico, sanitário ou vacinal, durante estado de calamidade pública, epidemia ou pandemia, o projeto permite aumento de pena de um terço até a metade. \nSe em vez de furto houver roubo nas situações previstas acima, a pena poderá ser aumentada em um terço e poderá chegar a dois terços se a violência ou grave ameaça, que caracteriza o crime de roubo:\nfor exercida com emprego de arma de fogo de uso restrito ou proibido;\nse a subtração for de bem, insumo ou equipamento médico, hospitalar, terapêutico, sanitário ou vacinal, durante estado de calamidade pública, epidemia ou pandemia.\nNo caso do crime de peculato, definido como apropriação, por funcionário público, de dinheiro, valor ou qualquer outro bem móvel em proveito próprio ou de terceiros, a pena, que hoje varia de 2 a 12 anos, sobe para 3 a 13 anos se a apropriação, o desvio ou a subtração, durante estado de calamidade, epidemia ou pandemia, for insumos médicos e terapêuticos.",
         "Relator defende que 'saidinhas' causam 'sentimento de impunidade'; organizações ligadas aos direitos humanos dizem que medida é 'falaciosa e se baseia no sensacionalismo'. Texto volta ao Senado. "
        ],
        [
         "1",
         "fbb963d61eb8149e7f43b1bd905457ba5e106a830ddc27288434101e7252ef57",
         "Non-Logged",
         "d9e5f15d-b441-4d8b-bee4-462b106d3916",
         "04-08-2022 17:30:03",
         "0",
         "1",
         "http://g1.globo.com/sp/sao-paulo/noticia/2021/11/06/primeiro-dia-do-parque-augusta-em-sp-tem-cachorrodromo-agitado-vacinacao-contra-covid-e-protesto-de-servidores-municipais.ghtml",
         "2021-11-06 20:35:20+00:00",
         "2021-11-06 23:23:25+00:00",
         "Primeiro dia do Parque Augusta em SP tem 'cachorródromo' agitado, vacinação contra Covid e protesto de servidores municipais",
         "Cachorródromo na inauguração do Parque Augusta, no centro da cidade de São Paulo, neste sábado (6). \nFELIPE RAU/ESTADÃO CONTEÚDO\nO primeiro dia de funcionamento do Parque Augusta, no Centro de São Paulo, neste sábado (6), foi marcado pelo grande movimento de frequentadores ao longo do dia e por uma manifestação de servidores municipais na abertura do parque.\nO Parque Augusta – Prefeito Bruno Covas foi inaugurado pelo sucessor do tucano, Ricardo Nunes (MDB), por volta das 9h da manhã, sob protestos de funcionários públicos contrários às mudanças no sistema previdenciário municipal. \nDurante a tarde, o movimento foi grande em espaços como o cachorródromo, uma área cercada do parque com estrutura para pets. Até quem não tinha animalzinho ficou no pedaço para assistir às brincadeiras.\nUma tenda de vacinação contra a Covid-19 foi montada no parque para a aplicação de doses de reforço nos grupos prioritários e da segunda dose para pessoas que ainda não completaram o esquema vacinal. \nPosto de vacinação contra a Covid-19 no novo Parque Augusta, na cidade de São Paulo (SP), neste sábado (6) \nALLISON SALES/FUTURA PRESS/ESTADÃO CONTEÚDO\nEm meio à área de 23 mil metros quadrados, outro espaço com grande procura neste sábado foi o playground, que tem piso adaptado e brinquedos que são acessíveis a crianças de várias idades e também com deficiências. \nA inauguração colocou fim a uma polêmica antiga acerca do destino do espaço. A área de 23 mil metros quadrados pertencia a duas construtoras que pretendiam levantar três torres no local. A comunidade protestou para que fosse o espaço fosse destinado ao público, uma demanda dos moradores da região desde os anos 1980. \nPlayground do Parque Augusta, no centro da cidade de São Paulo, neste sábado (6), primeiro dia de funcionamento do Parque Augusta-Prefeito Bruno Covas \nFELIPE RAU/ESTADÃO CONTEÚDO\nEm 2019, as construtoras fizeram um acordo com a Prefeitura, por meio de uma mediação do Ministério Público, e trocaram a área por títulos de potencial construtivo para levantar empreendimentos em outras áreas. \nO acordo definiu que as obras do parque seriam custeadas pelas empresa. Segundo a prefeitura,  foram investidos cerca de R$ 11 milhões.\nParque Augusta abre ao público neste sábado (6)\nO Parque Augusta\nInauguração do Parque Municipal Augusta Prefeito Bruno Covas, no centro de São Paulo, neste sábado (6).   \nROBERTO CASIMIRO/FOTOARENA/ESTADÃO CONTEÚDO\nO parque conta ainda com um bosque e uma arquibancada para apresentações, além de um deck elevado e equipamentos de ginástica para idosos. \nO local também tem um redário e um espaço para a prática de slackline. A restaurada Casa das Araras — tombada pelo Conselho Municipal de Preservação do Patrimônio Histórico, Cultural e Ambiental da Cidade de São Paulo (Conpresp)— deve abrigar ainda eventos e pequenas exposições.\nBosque do Parque Augusta, na região central de São Paulo\nMarcelo Brandt/g1\nO projeto do parque foi feito de acordo com o novo Plano Diretor da cidade, que determina uma Taxa de Permeabilidade mínima de 90% para este tipo de construção. Por isso, somente 10% da área do parque pôde ser impermeabilizada; o restante do espaço é coberto por grama ou outros revestimentos permeáveis.\nO espaço está localizado em um quarteirão entre as ruas Augusta, Consolação, Caio Prado e Marquês de Paranaguá, na região Central de São Paulo. A entrada é gratuita e deve ser feita pelo número 200 da Rua Augusta. A área verde fica perto de pontos como a Avenida Nove de Julho e a Rua da Consolação, e a estação de Metrô mais próxima é a Higienópolis-Mackenzie, da Linha 4-Amarela. \nNegociação difícil\nAs obras do Parque Augusta começaram em outubro de 2019. Em dezembro daquele ano, a Prefeitura de São Paulo apresentou ao Ministério Público (MP) o projeto do parque. Mas, em janeiro de 2020, o Instituto do Patrimônio Histórico e Artístico Nacional (Iphan) solicitou à Prefeitura a paralisação das obras para investigar um sítio arqueológico encontrado nas escavações que poderia conter vestígios de populações indígenas. As obras foram retomadas após um acordo para acompanhamento arqueológico\nParque Augusta, na região central de São Paulo\nMarcelo Brandt/g1\nO terreno do Parque Augusta pertencia as construtoras Setin e Cyrela, que doaram o local à municipalidade. A escritura foi assinada em abril de 2019.\nPara que a doação fosse realizada, a Prefeitura de São Paulo e as construtoras firmaram um acordo. Os termos da negociação previam a transferência do terreno por doação ao município em troca de quatro declarações de potencial construtivo passível de transferência - ou seja, as empresas poderão construir empreendimentos imobiliários. em outras áreas.\nEm novembro do ano passado, a Justiça extinguiu a última ação popular que impedia que o acordo para a criação do Parque Augusta fosse concluído e saísse do papel.  \nVÍDEOS: Tudo sobre São Paulo e região metropolitana",
         "Local foi inaugurado pelo prefeito Ricardo Nunes (MDB) sob protestos de funcionários públicos contrários às mudanças no sistema previdenciário municipal. Durante a tarde, movimento foi grande no espaço de 23 mil metros quadrados."
        ],
        [
         "2",
         "17f1083e6079b0f28f7820a6803583d1c1b405c0718b11a18d30b1620f643b23",
         "Non-Logged",
         "19ba89fc-1e06-4c5d-9c57-4a3088dc0511",
         "06-07-2022 12:45:08",
         "68",
         "1",
         "http://g1.globo.com/rn/rio-grande-do-norte/noticia/2022/07/09/jovem-de-21-anos-e-morto-e-mae-e-baleada-durante-assalto-dentro-de-casa-em-natal.ghtml",
         "2022-07-09 14:15:29+00:00",
         "2022-07-10 12:12:21+00:00",
         "Jovem de 21 anos é morto e mãe é baleada durante assalto dentro de casa em Natal",
         "João Victor Queiroz Munai Dantas, de 21 anos, morreu após sofrer três tiros em assalto dentro de casa, em Natal\nCedida\nUm jovem de 21 anos morreu após ser atingido por três tiros no abdômem, durante um assalto dentro de casa, na madrugada deste sábado (9). O caso aconteceu Cidade Satélite, na Zona Sul de Natal. A mãe dele também foi baleada e está internada no Hospital Walfredo Gurgel, após passar por cirurgia.\nO rapaz foi identificada como João Victor Queiroz Munay Dantas, de 21 anos. Ele trabalhava como técnico em eletrotécnica e fazia especialização em em Energia Eólica. \nA morte foi confirmada ao g1 RN pelo próprio pai da vítima, o engenheiro elétrico e professor Silvano Munay. \n\"Era meu tudo\", diz pai de jovem assassinado\nSegundo a Polícia Militar, o criminoso é suspeito de outro assassinato que aconteceu minutos antes em Cidade da Esperança. Após o assassinato de João Victor, ele chegou a ser perseguido pela equipe do 9º Batalhão da PM, mas conseguiu fugir.\nO crime\nSegundo Munay, a polícia informou que um criminoso invadiu a casa onde o filho e a ex-esposa dele moravam para tentar roubar a moto de João Victor. \nSegundo informações da Polícia Militar repassadas ao g1, o bandido teria matado outra pessoa no bairro Cidade da Esperança, na Zona Oeste de Natal, estava em fuga em um carro modelo Ford Ka e resolveu rouar a moto para trocar de veículo. As circunstâncias desse primeiro homicídio não foram esclarecidas pela PM.\n\"Depois que ele entrou, o cachorro começou a latir e ele esfaqueou o cachorro. Com o barulho, o meu filho foi ver o que estava acontecendo e tentou proteger a mãe. Ele deu três tiros no abdômem do meu filho e também baleou a mãe dele no braço\", contou Munay. \nO jovem e a mãe foram socorrido para o Hospital Walfredo Gurgel, onde passaram por cirurgia, no entanto, a família recebeu a confirmação da morte do jovem ainda durante a manhã. Os médicos inforamaram aos familiares que ele teve uma parada cardíaca após a cirurgia e não resistiu. \nAlém de João Victor e da sua mãe, a avó dele e uma prima de 8 anos de idade estavam no imóvel e não ficaram feridas.\nPM diz que suspeito fugia de outro crime\nO comandante do 9º Batalhão da Polícia Militar,  coronel Givanildo Gomes, informou que as viaturas da unidade foram acionadas para atender uma ocorrência de disparos de arma de fogo no Conjunto Cidade Satélite e, ao chegar ao local, se depararam com um veículo Ford Ka de cor branca abandonado. Na revista, os militares encontraram uma pistola Cal. 380.\nAinda de acordo com a PM, os policiais foram informados por vizinhos que o homem que estava no carro invadiu a casa e atirou contra duas vítimas, usando a moto na fuga em direção ao bairro Planalto. As duas pessoas baleadas já tinham sido socorridas pelo Serviço de Atendimento Móvel de Urgência.\nO criminoso ainda chegou a abandonar a moto e roubar uma caminhonete. A Polícia Militar iniciou uma perseguição, mas o suspeito abandonou o veículo e conseguiu fugir a pé por uma área de morro e mata fechada.\nEle teria matado uma outra pessoa na proximidades da Rodoviária de Natal, retirando o corpo da vítima do carro e deixando na via, antes de seguir em direção à Cidade Satélite, onde abandonou o veículo.\nVeja os vídeos mais assistidos no g1 RN",
         "Caso aconteceu na madrugada deste sábado (9) no conjunto Cidade Satélite, na Zona Sul de Natal. Criminoso conseguiu fugir. "
        ],
        [
         "3",
         "17f1083e6079b0f28f7820a6803583d1c1b405c0718b11a18d30b1620f643b23",
         "Non-Logged",
         "e273dba4-136c-45fb-bdd6-0cc57b13aaf0",
         "10-07-2022 19:28:29",
         "12",
         "1",
         "http://g1.globo.com/mundo/noticia/2022/06/04/jubileu-da-rainha-elizabeth-2a-como-harry-e-meghan-foram-recebidos-em-celebracao-apos-polemicas.ghtml",
         "2022-06-04 11:12:43+00:00",
         "2022-06-04 11:18:12+00:00",
         "Jubileu da rainha Elizabeth 2ª: como Harry e Meghan foram recebidos em celebração após polêmicas",
         "Meghan Markle e Harry na chega à missa oficial pelos 70 anos do reinado de Elizabeth II, em Londres, em 3 de junho de 2022.\nReuters\nDificilmente seria discreta a participação do príncipe Harry e de Meghan Markle nas celebrações do jubileu de platina da rainha Elizabeth II, em Londres. Afinal, o casal não era visto junto no Reino Unido havia dois anos, após deixar o país em circunstâncias controversas.\nCompartilhe esta notícia no WhatsApp\nCompartilhe esta notícia no Telegram\nOs dois pareciam tensos quando saíram do carro para entrar na catedral St. Paul, para uma celebração em homenagem à rainha. Harry e Meghan seguravam firmemente a mão um do outro. Meghan ajustou a gola do seu casaco Dior. \nEles conversaram um com o outro, mas dava para perceber que agiam com cautela. Uma multidão estava do lado de fora da catedral na sexta (3) para o culto de Ação de Graças- um dos eventos da agenda de comemorações pelos 70 anos de reinado de Elizabeth 2ª. \nA maior parte do público era formada por dedicados apoiadores da família real. Será que eles receberiam bem o príncipe Harry e Meghan? \nEm março de 2021, o casal deu uma entrevista à apresentadora americana Oprah Winfrey, na qual falaram sobre seus relacionamentos com outros membros da realeza, racismo e como a saúde mental de Meghan foi prejudicada durante o período que em viveu no Reino Unido. \nEntre as afirmações, está a de que um integrante da família real demonstrou preocupação com a cor da pele do bebê do casal e a de que Meghan chegou a ter pensamentos suicidas, mas foi impedida de procurar ajuda.\nA mudança do casal para os Estados Unidos e esta entrevista esfriaram a relação já conturbada deles com o restante da família real. Por isso, não se sabia como o público reagiria à presença de Harry e Meghan nas comemorações do jubileu. \nMas a recepção foi positiva. \nAplausos\nEnquanto eles subiam os degraus da catedral St.Paul, a multidão aplaudia. Foi uma resposta calorosa e espontânea ao casal, que fazia sua  primeira aparição juntos num evento da realeza desde 2020.\nDois anos atrás, eles estiveram numa cerimônia religiosa na Abadia de Westminster, em março. Naquela ocasião, o clima estava mais sombrio. O atrito na família real era evidente e foi registrado pelas câmeras. O príncipe William e o príncipe Harry mal trocaram um olhar, embora estivessem sentados próximos um do outro. \nA coreografia dos eventos reais é sempre cuidadosa e precisa- e a sexta-feira (3) não foi exceção.\nO príncipe Harry e Meghan estavam sentados no lado oposto do corredor ao príncipe William e Kate, evitando qualquer contato visual desconfortável ou imagens que pudessem captar uma atmosfera carregada. \nEles se sentaram ao lado da princesa Eugenie e seu marido, Jack Brooksbank. Os casais são próximos. Eugenie, Jack e o filho pequeno dos dois, visitaram Harry e Meghan na Califórnia, em fevereiro.\nDo outro lado deles estava Lady Sarah Chatto- a filha da princesa Margaret e sobrinha muito querida da rainha Elizabeth 2ª. Uma presença calma e reconfortante. Este era um plano seguro de distribuição assentos. \nBreve vaia na saída da catedral \nQuando o casal deixou a catedral, houve uma vaia estranha vinda da multidão, mas ela foi abafada por muitos aplausos. Não houve hostilidade real.\nEm meio à pompa, cerimônias, festas e reflexões deste fim de semana, o jubileu de platina também é sobre uma família com todas as suas falhas e tensões.\nA rainha teve que assistir de casa, mas ela já havia deixado claro que, quaisquer que fossem os problemas e as polêmicas, seu neto príncipe Harry, e sua esposa, Meghan, eram muito bem-vindos nas comemorações oficiais dos seus 70 anos de reinado. \nO primeiro obstáculo público do breve retorno de Harry e Meghan ao dever real foi superado com sucesso.",
         "O duque e a duquesa de Sussex sentaram do lado oposto do principe William e Kate, para evitar fotos que demonstrassem 'desconforto'."
        ],
        [
         "4",
         "528a8d7a2af73101da8d6709c1ec875b449a5a58749a998ae2d949c10d1772df",
         "Non-Logged",
         "59a61a8a-cc52-453f-b1cd-2bd019e9d574",
         "14-07-2022 18:38:10",
         "55",
         "1",
         "http://g1.globo.com/pr/parana/noticia/2021/10/20/taxa-para-emissao-da-2a-via-do-rg-pode-ser-paga-por-pix-no-parana.ghtml",
         "2021-10-20 11:17:14+00:00",
         "2021-10-20 20:27:48+00:00",
         "Taxa para emissão da 2ª via do RG pode ser paga por Pix, no Paraná ",
         "Taxa para emissão do RG poderá ser paga por PIX no Paraná\nO pagamento da taxa para emissão da 2ª via da carteira de identidade agora pode ser feito por Pix no Paraná, de acordo com a Polícia Civil. Não há cobrança para a emissão da 1ª via do RG.\nSegundo a polícia, o pagamento por Pix é feito após a leitura do QR Code que consta na guia de recolhimento, de R$ 38,30. Para isso, basta abrir o aplicativo do banco, escolher a opção \"pagar com Pix\" e fazer a leitura do código.\nTaxa para emissão da 2ª via do RG pode ser paga por Pix, no Paraná\nPolícia Civil/Divulgação\nA emissão do documento deve ser feita exclusivamente no site da Polícia Civil. \nCom o novo sistema, a guia pode ser paga em qualquer banco, inclusive os digitais, não se restringindo aos conveniados com o Governo do Paraná. \nO pagamento da taxa via Pix será quitado no prazo de 24 horas, após a consolidação das informações de recolhimento.\nVídeos mais assistidos do g1 Paraná:\nVeja mais notícias do estado no g1 Paraná. ",
         "Guia de pagamento, de R$ 38,30, é gerada logo após o agendamento pela internet; não há cobrança para a emissão da 1ª via da carteira de identidade. "
        ]
       ],
       "shape": {
        "columns": 12,
        "rows": 5
       }
      },
      "text/html": [
       "<div>\n",
       "<style scoped>\n",
       "    .dataframe tbody tr th:only-of-type {\n",
       "        vertical-align: middle;\n",
       "    }\n",
       "\n",
       "    .dataframe tbody tr th {\n",
       "        vertical-align: top;\n",
       "    }\n",
       "\n",
       "    .dataframe thead th {\n",
       "        text-align: right;\n",
       "    }\n",
       "</style>\n",
       "<table border=\"1\" class=\"dataframe\">\n",
       "  <thead>\n",
       "    <tr style=\"text-align: right;\">\n",
       "      <th></th>\n",
       "      <th>userId</th>\n",
       "      <th>userType</th>\n",
       "      <th>itemId</th>\n",
       "      <th>timestamp</th>\n",
       "      <th>clicks</th>\n",
       "      <th>visits</th>\n",
       "      <th>url</th>\n",
       "      <th>issued</th>\n",
       "      <th>modified</th>\n",
       "      <th>title</th>\n",
       "      <th>body</th>\n",
       "      <th>caption</th>\n",
       "    </tr>\n",
       "  </thead>\n",
       "  <tbody>\n",
       "    <tr>\n",
       "      <th>0</th>\n",
       "      <td>fbb963d61eb8149e7f43b1bd905457ba5e106a830ddc27...</td>\n",
       "      <td>Non-Logged</td>\n",
       "      <td>80aa7bb2-adce-4a55-9711-912c407927a1</td>\n",
       "      <td>15-07-2022 18:01:25</td>\n",
       "      <td>0</td>\n",
       "      <td>1</td>\n",
       "      <td>http://g1.globo.com/politica/noticia/2022/08/0...</td>\n",
       "      <td>2022-08-03 21:32:51+00:00</td>\n",
       "      <td>2022-09-19 19:58:15+00:00</td>\n",
       "      <td>Câmara aprova projeto que acaba com saída temp...</td>\n",
       "      <td>A Câmara dos Deputados aprovou nesta quarta-fe...</td>\n",
       "      <td>Relator defende que 'saidinhas' causam 'sentim...</td>\n",
       "    </tr>\n",
       "    <tr>\n",
       "      <th>1</th>\n",
       "      <td>fbb963d61eb8149e7f43b1bd905457ba5e106a830ddc27...</td>\n",
       "      <td>Non-Logged</td>\n",
       "      <td>d9e5f15d-b441-4d8b-bee4-462b106d3916</td>\n",
       "      <td>04-08-2022 17:30:03</td>\n",
       "      <td>0</td>\n",
       "      <td>1</td>\n",
       "      <td>http://g1.globo.com/sp/sao-paulo/noticia/2021/...</td>\n",
       "      <td>2021-11-06 20:35:20+00:00</td>\n",
       "      <td>2021-11-06 23:23:25+00:00</td>\n",
       "      <td>Primeiro dia do Parque Augusta em SP tem 'cach...</td>\n",
       "      <td>Cachorródromo na inauguração do Parque Augusta...</td>\n",
       "      <td>Local foi inaugurado pelo prefeito Ricardo Nun...</td>\n",
       "    </tr>\n",
       "    <tr>\n",
       "      <th>2</th>\n",
       "      <td>17f1083e6079b0f28f7820a6803583d1c1b405c0718b11...</td>\n",
       "      <td>Non-Logged</td>\n",
       "      <td>19ba89fc-1e06-4c5d-9c57-4a3088dc0511</td>\n",
       "      <td>06-07-2022 12:45:08</td>\n",
       "      <td>68</td>\n",
       "      <td>1</td>\n",
       "      <td>http://g1.globo.com/rn/rio-grande-do-norte/not...</td>\n",
       "      <td>2022-07-09 14:15:29+00:00</td>\n",
       "      <td>2022-07-10 12:12:21+00:00</td>\n",
       "      <td>Jovem de 21 anos é morto e mãe é baleada duran...</td>\n",
       "      <td>João Victor Queiroz Munai Dantas, de 21 anos, ...</td>\n",
       "      <td>Caso aconteceu na madrugada deste sábado (9) n...</td>\n",
       "    </tr>\n",
       "    <tr>\n",
       "      <th>3</th>\n",
       "      <td>17f1083e6079b0f28f7820a6803583d1c1b405c0718b11...</td>\n",
       "      <td>Non-Logged</td>\n",
       "      <td>e273dba4-136c-45fb-bdd6-0cc57b13aaf0</td>\n",
       "      <td>10-07-2022 19:28:29</td>\n",
       "      <td>12</td>\n",
       "      <td>1</td>\n",
       "      <td>http://g1.globo.com/mundo/noticia/2022/06/04/j...</td>\n",
       "      <td>2022-06-04 11:12:43+00:00</td>\n",
       "      <td>2022-06-04 11:18:12+00:00</td>\n",
       "      <td>Jubileu da rainha Elizabeth 2ª: como Harry e M...</td>\n",
       "      <td>Meghan Markle e Harry na chega à missa oficial...</td>\n",
       "      <td>O duque e a duquesa de Sussex sentaram do lado...</td>\n",
       "    </tr>\n",
       "    <tr>\n",
       "      <th>4</th>\n",
       "      <td>528a8d7a2af73101da8d6709c1ec875b449a5a58749a99...</td>\n",
       "      <td>Non-Logged</td>\n",
       "      <td>59a61a8a-cc52-453f-b1cd-2bd019e9d574</td>\n",
       "      <td>14-07-2022 18:38:10</td>\n",
       "      <td>55</td>\n",
       "      <td>1</td>\n",
       "      <td>http://g1.globo.com/pr/parana/noticia/2021/10/...</td>\n",
       "      <td>2021-10-20 11:17:14+00:00</td>\n",
       "      <td>2021-10-20 20:27:48+00:00</td>\n",
       "      <td>Taxa para emissão da 2ª via do RG pode ser pag...</td>\n",
       "      <td>Taxa para emissão do RG poderá ser paga por PI...</td>\n",
       "      <td>Guia de pagamento, de R$ 38,30, é gerada logo ...</td>\n",
       "    </tr>\n",
       "  </tbody>\n",
       "</table>\n",
       "</div>"
      ],
      "text/plain": [
       "                                              userId    userType  \\\n",
       "0  fbb963d61eb8149e7f43b1bd905457ba5e106a830ddc27...  Non-Logged   \n",
       "1  fbb963d61eb8149e7f43b1bd905457ba5e106a830ddc27...  Non-Logged   \n",
       "2  17f1083e6079b0f28f7820a6803583d1c1b405c0718b11...  Non-Logged   \n",
       "3  17f1083e6079b0f28f7820a6803583d1c1b405c0718b11...  Non-Logged   \n",
       "4  528a8d7a2af73101da8d6709c1ec875b449a5a58749a99...  Non-Logged   \n",
       "\n",
       "                                 itemId            timestamp  clicks  visits  \\\n",
       "0  80aa7bb2-adce-4a55-9711-912c407927a1  15-07-2022 18:01:25       0       1   \n",
       "1  d9e5f15d-b441-4d8b-bee4-462b106d3916  04-08-2022 17:30:03       0       1   \n",
       "2  19ba89fc-1e06-4c5d-9c57-4a3088dc0511  06-07-2022 12:45:08      68       1   \n",
       "3  e273dba4-136c-45fb-bdd6-0cc57b13aaf0  10-07-2022 19:28:29      12       1   \n",
       "4  59a61a8a-cc52-453f-b1cd-2bd019e9d574  14-07-2022 18:38:10      55       1   \n",
       "\n",
       "                                                 url  \\\n",
       "0  http://g1.globo.com/politica/noticia/2022/08/0...   \n",
       "1  http://g1.globo.com/sp/sao-paulo/noticia/2021/...   \n",
       "2  http://g1.globo.com/rn/rio-grande-do-norte/not...   \n",
       "3  http://g1.globo.com/mundo/noticia/2022/06/04/j...   \n",
       "4  http://g1.globo.com/pr/parana/noticia/2021/10/...   \n",
       "\n",
       "                     issued                  modified  \\\n",
       "0 2022-08-03 21:32:51+00:00 2022-09-19 19:58:15+00:00   \n",
       "1 2021-11-06 20:35:20+00:00 2021-11-06 23:23:25+00:00   \n",
       "2 2022-07-09 14:15:29+00:00 2022-07-10 12:12:21+00:00   \n",
       "3 2022-06-04 11:12:43+00:00 2022-06-04 11:18:12+00:00   \n",
       "4 2021-10-20 11:17:14+00:00 2021-10-20 20:27:48+00:00   \n",
       "\n",
       "                                               title  \\\n",
       "0  Câmara aprova projeto que acaba com saída temp...   \n",
       "1  Primeiro dia do Parque Augusta em SP tem 'cach...   \n",
       "2  Jovem de 21 anos é morto e mãe é baleada duran...   \n",
       "3  Jubileu da rainha Elizabeth 2ª: como Harry e M...   \n",
       "4  Taxa para emissão da 2ª via do RG pode ser pag...   \n",
       "\n",
       "                                                body  \\\n",
       "0  A Câmara dos Deputados aprovou nesta quarta-fe...   \n",
       "1  Cachorródromo na inauguração do Parque Augusta...   \n",
       "2  João Victor Queiroz Munai Dantas, de 21 anos, ...   \n",
       "3  Meghan Markle e Harry na chega à missa oficial...   \n",
       "4  Taxa para emissão do RG poderá ser paga por PI...   \n",
       "\n",
       "                                             caption  \n",
       "0  Relator defende que 'saidinhas' causam 'sentim...  \n",
       "1  Local foi inaugurado pelo prefeito Ricardo Nun...  \n",
       "2  Caso aconteceu na madrugada deste sábado (9) n...  \n",
       "3  O duque e a duquesa de Sussex sentaram do lado...  \n",
       "4  Guia de pagamento, de R$ 38,30, é gerada logo ...  "
      ]
     },
     "execution_count": 9,
     "metadata": {},
     "output_type": "execute_result"
    }
   ],
   "source": [
    "# Converter coluna \"timestamp\" para o tipo datetime\n",
    "df['timestamp'] = pd.to_datetime(df['timestamp'], unit='ms')\n",
    "df['timestamp'] = pd.to_datetime(df['timestamp']).dt.strftime('%d-%m-%Y %H:%M:%S')\n",
    "df['issued'] = pd.to_datetime(df['issued'])\n",
    "df['modified'] = pd.to_datetime(df['modified'])\n",
    "df.head()"
   ]
  },
  {
   "cell_type": "code",
   "execution_count": 10,
   "metadata": {},
   "outputs": [
    {
     "data": {
      "application/vnd.microsoft.datawrangler.viewer.v0+json": {
       "columns": [
        {
         "name": "index",
         "rawType": "int64",
         "type": "integer"
        },
        {
         "name": "userId",
         "rawType": "object",
         "type": "string"
        },
        {
         "name": "userType",
         "rawType": "object",
         "type": "string"
        },
        {
         "name": "itemId",
         "rawType": "object",
         "type": "string"
        },
        {
         "name": "timestamp",
         "rawType": "object",
         "type": "string"
        },
        {
         "name": "clicks",
         "rawType": "int64",
         "type": "integer"
        },
        {
         "name": "visits",
         "rawType": "int64",
         "type": "integer"
        },
        {
         "name": "url",
         "rawType": "object",
         "type": "string"
        },
        {
         "name": "issued",
         "rawType": "datetime64[ns, UTC]",
         "type": "unknown"
        },
        {
         "name": "modified",
         "rawType": "datetime64[ns, UTC]",
         "type": "unknown"
        },
        {
         "name": "title",
         "rawType": "object",
         "type": "string"
        },
        {
         "name": "body",
         "rawType": "object",
         "type": "string"
        },
        {
         "name": "caption",
         "rawType": "object",
         "type": "string"
        }
       ],
       "conversionMethod": "pd.DataFrame",
       "ref": "49710efa-3889-4967-b687-35c8393cb304",
       "rows": [
        [
         "0",
         "fbb963d61eb8149e7f43b1bd905457ba5e106a830ddc27288434101e7252ef57",
         "Non-Logged",
         "80aa7bb2-adce-4a55-9711-912c407927a1",
         "15-07-2022 18:01:25",
         "0",
         "1",
         "http://g1.globo.com/politica/noticia/2022/08/03/camara-aprova-projeto-que-acaba-com-saida-temporaria-de-presos-entidades-criticam.ghtml",
         "2022-08-03 21:32:51+00:00",
         "2022-09-19 19:58:15+00:00",
         "Câmara aprova projeto que acaba com saída temporária de presos; entidades criticam",
         "A Câmara dos Deputados aprovou nesta quarta-feira (3) um projeto de lei que acaba com a possibilidade de saída temporária de presos, conhecida popularmente como \"saidinha\". Organizações ligadas aos direitos humanos criticam a medida (veja mais abaixo). O texto retorna ao Senado, que aprovou outro conteúdo da proposta em 2013. \nA matéria foi analisada nesta quarta-feira após uma manobra do presidente da Câmara, Arthur Lira (PP-AL), que apensou o texto aprovado pelos senadores a um projeto do ano passado que exigia a realização de exame criminológico para a concessão da saída temporária. Esse texto já tinha a urgência aprovada e, por isso, a matéria pode ser levada diretamente ao plenário, encurtando os debates. \nA saída temporária é concedida pela Justiça como forma de ressocialização dos presos e manutenção de vínculo deles com o mundo fora do sistema prisional. \nHoje, a legislação permite o benefício a presos do regime semiaberto que já tenham cumprido o mínimo de 1/6 da pena, se for primário, e 1/4, se for reincidente. Além disso, é preciso apresentar comportamento adequado. \nPopulação carcerária diminui, mas Brasil ainda registra superlotação nos presídios\nA autorização tem prazo de até sete dias e pode ser concedida cinco vezes ao ano.\nQuando foi aprovado no Senado, em 2013, o projeto era bem mais enxuto e apenas restringia as possibilidades de saída temporária - que só poderia ser concedida uma vez ao ano e para presos primários. \nDesde a aprovação do pacote anticrime, em 2019, o preso condenado por crime hediondo com morte não tem mais direito à saída temporária. \nO relator da matéria, deputado Capitão Derrite (PL-SP), afirma em seu parecer que a saída temporária \"causa a todos um sentimento de impunidade diante da percepção de que as pessoas condenadas não cumprem suas penas, e o pior, de que o crime compensa\". \n\"A saída temporária não traz qualquer produto ou ganho efetivo à sociedade, além de que, na verdade, prejudica o combate ao crime, eis que grande parte dos condenados cometem novos crimes quando estão fora dos estabelecimentos penais desfrutando do benefício\", escreveu.\nEntidades criticam\nEntidades ligadas aos direitos humanos defendem o benefício. Segundo nota da Rede Justiça Criminal, a saída temporária \"é um importante instrumento para a manutenção de laços familiares, inserção e permanência no mercado de trabalho e acesso a outras oportunidades.\" \nA organização afirma que \"banir a saída temporária é uma resposta falaciosa e que se baseia apenas no sensacionalismo\".\n\"É falso dizer que as saídas temporárias propiciam fugas ou aumento da delinquência de forma massiva. Os dados comprovam que somente um número reduzido de apenados não retornam às suas atividades prisionais. Segundo Infopen de 2019, a taxa de fugas em geral no sistema prisional, sejam elas por saídas temporárias, transferências ou outras razões, corresponde a apenas 0,99%.\"\nAinda segundo a instituição, em 2019, apenas 20,17% da população prisional teve direito à saída temporária.\nA Rede Justiça Criminal relembra, ainda, a alteração aplicada após a aprovação do pacote anticrime, em 2019, que proibiu as saídas temporárias para condenados por crimes hediondos. \"A mudança é recente e não é urgente uma nova alteração em tão pouco tempo\". \nExame criminológico\nO texto também deixa explícito que o preso só terá direito à progressão de regime se tiver boa conduta carcerária, comprovada pelo diretor da prisão, e após o resultado de um \"exame criminológico\". \nPara entrar no regime aberto, seus antecedentes e o resultado do exame criminológico devem indicar que o preso irá \"ajustar-se, com autodisciplina, baixa periculosidade, e senso de responsabilidade, ao novo regime\". A lei atual não faz menção específica ao exame criminológico, nem a indícios de baixa periculosidade. \nTornozeleira eletrônica\nDerrite também incluiu em seu parecer três novas situações em que a Justiça pode determinar a fiscalização por meio de tornozeleira eletrônica:\nlivramento condicional; \nexecução da pena nos regimes aberto e semiaberto; e\nrestrição de direitos relativa à proibição de frequentar lugares específicos\nHoje, a tornozeleira eletrônica pode ser utilizada para monitoramento das saídas temporárias do regime semiaberto e durante a prisão domiciliar. \nCalamidade pública\nNa mesma sessão, os deputados também aprovaram um projeto que estabelece hipótese de aumento de pena para os crimes de furto e roubo e cria uma forma “qualificada” para os delitos de furto e peculato. O texto vai ao Senado. \nA forma qualificada de um crime é configurada quando um delito é cometido com a ocorrência de outros resultados alheios ao crime principal.\nO Código Penal já estabelece pena de 2 a 8 anos e multa para furtos em que o criminoso se utiliza de abuso de confiança, por exemplo. \nO texto inclui nesse rol quem comete furto em meio a incêndio, naufrágio, inundação, desastre, durante estado de calamidade pública, epidemia ou pandemia. \nSe o bem furtado for insumo ou equipamento médico, hospitalar, terapêutico, sanitário ou vacinal, durante estado de calamidade pública, epidemia ou pandemia, o projeto permite aumento de pena de um terço até a metade. \nSe em vez de furto houver roubo nas situações previstas acima, a pena poderá ser aumentada em um terço e poderá chegar a dois terços se a violência ou grave ameaça, que caracteriza o crime de roubo:\nfor exercida com emprego de arma de fogo de uso restrito ou proibido;\nse a subtração for de bem, insumo ou equipamento médico, hospitalar, terapêutico, sanitário ou vacinal, durante estado de calamidade pública, epidemia ou pandemia.\nNo caso do crime de peculato, definido como apropriação, por funcionário público, de dinheiro, valor ou qualquer outro bem móvel em proveito próprio ou de terceiros, a pena, que hoje varia de 2 a 12 anos, sobe para 3 a 13 anos se a apropriação, o desvio ou a subtração, durante estado de calamidade, epidemia ou pandemia, for insumos médicos e terapêuticos.",
         "Relator defende que 'saidinhas' causam 'sentimento de impunidade'; organizações ligadas aos direitos humanos dizem que medida é 'falaciosa e se baseia no sensacionalismo'. Texto volta ao Senado. "
        ],
        [
         "2",
         "17f1083e6079b0f28f7820a6803583d1c1b405c0718b11a18d30b1620f643b23",
         "Non-Logged",
         "19ba89fc-1e06-4c5d-9c57-4a3088dc0511",
         "06-07-2022 12:45:08",
         "68",
         "1",
         "http://g1.globo.com/rn/rio-grande-do-norte/noticia/2022/07/09/jovem-de-21-anos-e-morto-e-mae-e-baleada-durante-assalto-dentro-de-casa-em-natal.ghtml",
         "2022-07-09 14:15:29+00:00",
         "2022-07-10 12:12:21+00:00",
         "Jovem de 21 anos é morto e mãe é baleada durante assalto dentro de casa em Natal",
         "João Victor Queiroz Munai Dantas, de 21 anos, morreu após sofrer três tiros em assalto dentro de casa, em Natal\nCedida\nUm jovem de 21 anos morreu após ser atingido por três tiros no abdômem, durante um assalto dentro de casa, na madrugada deste sábado (9). O caso aconteceu Cidade Satélite, na Zona Sul de Natal. A mãe dele também foi baleada e está internada no Hospital Walfredo Gurgel, após passar por cirurgia.\nO rapaz foi identificada como João Victor Queiroz Munay Dantas, de 21 anos. Ele trabalhava como técnico em eletrotécnica e fazia especialização em em Energia Eólica. \nA morte foi confirmada ao g1 RN pelo próprio pai da vítima, o engenheiro elétrico e professor Silvano Munay. \n\"Era meu tudo\", diz pai de jovem assassinado\nSegundo a Polícia Militar, o criminoso é suspeito de outro assassinato que aconteceu minutos antes em Cidade da Esperança. Após o assassinato de João Victor, ele chegou a ser perseguido pela equipe do 9º Batalhão da PM, mas conseguiu fugir.\nO crime\nSegundo Munay, a polícia informou que um criminoso invadiu a casa onde o filho e a ex-esposa dele moravam para tentar roubar a moto de João Victor. \nSegundo informações da Polícia Militar repassadas ao g1, o bandido teria matado outra pessoa no bairro Cidade da Esperança, na Zona Oeste de Natal, estava em fuga em um carro modelo Ford Ka e resolveu rouar a moto para trocar de veículo. As circunstâncias desse primeiro homicídio não foram esclarecidas pela PM.\n\"Depois que ele entrou, o cachorro começou a latir e ele esfaqueou o cachorro. Com o barulho, o meu filho foi ver o que estava acontecendo e tentou proteger a mãe. Ele deu três tiros no abdômem do meu filho e também baleou a mãe dele no braço\", contou Munay. \nO jovem e a mãe foram socorrido para o Hospital Walfredo Gurgel, onde passaram por cirurgia, no entanto, a família recebeu a confirmação da morte do jovem ainda durante a manhã. Os médicos inforamaram aos familiares que ele teve uma parada cardíaca após a cirurgia e não resistiu. \nAlém de João Victor e da sua mãe, a avó dele e uma prima de 8 anos de idade estavam no imóvel e não ficaram feridas.\nPM diz que suspeito fugia de outro crime\nO comandante do 9º Batalhão da Polícia Militar,  coronel Givanildo Gomes, informou que as viaturas da unidade foram acionadas para atender uma ocorrência de disparos de arma de fogo no Conjunto Cidade Satélite e, ao chegar ao local, se depararam com um veículo Ford Ka de cor branca abandonado. Na revista, os militares encontraram uma pistola Cal. 380.\nAinda de acordo com a PM, os policiais foram informados por vizinhos que o homem que estava no carro invadiu a casa e atirou contra duas vítimas, usando a moto na fuga em direção ao bairro Planalto. As duas pessoas baleadas já tinham sido socorridas pelo Serviço de Atendimento Móvel de Urgência.\nO criminoso ainda chegou a abandonar a moto e roubar uma caminhonete. A Polícia Militar iniciou uma perseguição, mas o suspeito abandonou o veículo e conseguiu fugir a pé por uma área de morro e mata fechada.\nEle teria matado uma outra pessoa na proximidades da Rodoviária de Natal, retirando o corpo da vítima do carro e deixando na via, antes de seguir em direção à Cidade Satélite, onde abandonou o veículo.\nVeja os vídeos mais assistidos no g1 RN",
         "Caso aconteceu na madrugada deste sábado (9) no conjunto Cidade Satélite, na Zona Sul de Natal. Criminoso conseguiu fugir. "
        ],
        [
         "7",
         "2dd18b58a634a4e77181a202cf152df6169dfb3e4230ef4dc41ea9216be40698",
         "Non-Logged",
         "037155f4-4db8-4f07-8d0a-3e559605b8ad",
         "06-07-2022 07:18:08",
         "0",
         "1",
         "http://g1.globo.com/fantastico/noticia/2022/07/03/luva-de-pedreiro-sobre-a-polemica-com-o-antigo-empresario-ate-to-devendo-setenta-conto.ghtml",
         "2022-07-04 02:08:02+00:00",
         "2022-08-02 11:02:20+00:00",
         "Luva de Pedreiro sobre a polêmica com o antigo empresário: 'Até tô devendo setenta conto'",
         "'Eu não quero mal dele', diz Luva de Pedreiro sobre o primeiro empresário\nO desentendimento público entre o influenciador digital Iran Santana Alves, conhecido como Luva de Pedreiro, e seu ex-empresário Allan Silva Jesus repercutiu nas redes sociais nas últimas semanas. Para esclarecer o assunto, o repórter Mauricio Ferraz foi até Recife e gravou ao longo da semana com Iran, familiares e os seus novos empresários. \nCompartilhe no WhatsApp\nCompartilhe no Telegram \nNota: o influenciador digital Iran Santana Alves tem mais de 15 milhões de seguidores só no Instagram. Somando o TikTok, ele ultrapassa 33,5 milhões de seguidores. \nDepois disso, na sexta-feira, a TV Globo foi notificada de uma liminar concedida a Allan Silva Jesus. Na decisão, a juíza Maria Cristina de Brito Lima, do Rio de Janeiro, impede a divulgação de informações sigilosas do contrato entre os dois e proíbe que seja exibida qualquer manifestação que fomente discurso de ódio contra o ex-empresário, que vem sofrendo ameaças nas redes sociais.\nA TV Globo não compactua com discurso de ódio. Ameaças são inaceitáveis em qualquer situação e quem as pratica está sujeito às consequências legais. Divergências sobre questões contratuais devem ser decididas pelo Poder Judiciário, que é o responsável pela aplicação da lei às relações entre as partes.\nLEIA MAIS\nLuva de Pedreiro: entenda a polêmica envolvendo influenciador e empresário\nDe frente para o mar, longe do campinho: conheça a nova casa do influenciador\nO jornalismo apura - com isenção - todos os lados da notícia e produz conhecimento sobre os fatos. E é direito da sociedade ter acesso a todos os acontecimentos relevantes. \nA TV Globo entende que a liminar concedida viola a liberdade de imprensa e de expressão, pilares da democracia e protegidas pela Constituição brasileira. Por isso, vai recorrer da decisão.\nEm cumprimento à decisão judicial, a reportagem não terá as informações vetadas pela liminar. \nVocê vai ver como um jovem de 20 anos ficou famoso na internet por falar de futebol de um jeito simples e muito cativante. Veja a reportagem completa no vídeo acima.\nIran Santana Alves tem 20 anos e nasceu na pequena Quijingue, interior da Bahia. Ele ganhou mais de 15 milhões de seguidores na internet depois de fazer vídeos no campinho de casa. \nO garoto ganhou o apelido de Luva de Pedreiro depois que improvisou esse acessório para lembrar os jogadores europeus - que usam luvas nos períodos mais frios do ano. \nAssim que começou a fazer sucesso na internet, um empresário do Rio de Janeiro o procurou com uma proposta para cuidar de sua carreira.  Depois que o contrato foi assinado, o programa Esporte Espetacular gravou uma entrevista com esse empresário. Ele disse que times do mundo inteiro queriam conhecer o jovem.\n“Meu nome é Allan Jesus, conhecido como empresário do cara da Luva de Pedreiro. Hoje ele tem uma presença global, um alcance e visibilidade que poucas pessoas públicas no mundo têm. O meu telefone hoje, ele não para de tocar, a gente recebe e-mail do mundo todo”, disse.\nNa entrevista, o empresário afirmou que estava providenciando uma reforma na casa de Iran e que, em breve, o Luva de Pedreiro começaria a ser remunerado. \nQuatro meses depois da gravação, Iran disse que nada mudou em sua vida. Segundo ele, o principal problema não é o financeiro.\n“Não podia fazer nada que eu queria, não podia sair com meus amigos, não podia gravar minhas coisas, não podia postar as música que eu gosto”, lamentou.\nHá duas semanas, em uma live na internet, ele deixou seguidores preocupados. Iran sem mostrou irritado e disse que ficaria um tempo sem publicar vídeos.\nNa última semana, Iran deixou o interior da Bahia e foi até Recife, em Pernambuco, onde fechou um novo contrato com outros empresários. O problema é que o contrato antigo ainda não foi desfeito.\nO Fantástico apurou que existe uma multa bastante elevada só para Iran no acordo entre ele e seu ex-empresário, em caso de rescisão. Ele assinou o contrato sem a supervisão de um advogado. \nApesar de ter fechado negócio com grandes empresas, gigantes do mercado, Iran não movimentou mais do que 8 mil reais desde que abriu conta em banco, em abril.  \n\"Todo dinheiro que eu pedi, eu pedi emprestado. Até tô devendo setenta conto. Um cara lá que eu comprei uma bola, tá ligado? Não tinha, estou devendo. Ainda tenho que pagar o cara”, revelou.\nDepois que a polêmica entre o Luva de Pedreiro e Allan Jesus foi parar na internet, o empresário também fez uma publicação nas suas redes sociais. \n\"Eu venho aqui me pronunciar. Os nossos contratos de publicidade, todos eles, somam, aproximadamente, um pouco mais de R$ 2 milhões. E nenhum pagamento ainda foi feito. Todos os pagamentos serão feitos a partir de julho de 2022”, afirmou.\nO Fantástico procurou o empresário Allan Jesus, mas ele não quis gravar entrevista. Sua defesa atendeu por telefone e encaminhou prints dizendo que Allan e a família estão sendo ameaçados nas redes sociais.\nO advogado que representa os novos sócios de Iran também foi contatado. Ele disse que deve se reunir com a defesa de Allan para um acordo amigável.\nOuça os podcasts do Fantástico\nISSO É FANTÁSTICO\nO podcast Isso É Fantástico está disponível no g1, Globoplay, Deezer, Spotify, Google Podcasts, Apple Podcasts e Amazon Music trazendo grandes reportagens, investigações e histórias fascinantes em podcast com o selo de jornalismo do Fantástico: profundidade, contexto e informação. Siga, curta ou assine o Isso É Fantástico no seu tocador de podcasts favorito. Todo domingo tem um episódio novo. \nPRAZER, RENATA\nO podcast 'Prazer, Renata' está disponível no g1, no Globoplay, no Deezer, no Spotify, no Google Podcasts, no Apple Podcasts, na Amazon Music ou no seu aplicativo favorito. Siga, assine e curta o 'Prazer, Renata' na sua plataforma preferida. Toda segunda-feira tem episódio novo.\nBICHOS NA ESCUTA\nO podcast 'Bichos Na Escuta' está disponível no g1, no Globoplay, no Deezer, no Spotify, no Google Podcasts, no Apple Podcasts, na Amazon Music ou no seu aplicativo favorito. Siga, assine e curta o 'Bichos na Escuta' na sua plataforma preferida. Toda quinta-feira tem episódio novo.",
         "Influenciador digital possui mais de 15 milhões de seguidores só no Instagram e contratos de publicidade com grandes empresas, mas segue com pouco dinheiro no bolso. O Fantástico apurou o desentendimento entre Iran Santana Alves e seu ex-empresário, que passou a sofrer ameaças nas redes sociais."
        ],
        [
         "12",
         "fb345f6ed8cbda76989ef0833b8fae3bd45fef79f298176c5dbbdf7cabe46260",
         "Non-Logged",
         "93627535-13eb-4e00-a44e-93dfd85ad64f",
         "06-07-2022 16:27:29",
         "0",
         "1",
         "http://g1.globo.com/tecnologia/quiz/sabe-tudo-sobre-o-significado-dos-emojis-faca-o-teste-e-descubra.ghtml",
         "2022-07-23 09:00:33+00:00",
         "2022-07-23 09:00:33+00:00",
         "Sabe tudo sobre o significado dos emojis? Faça o teste e descubra",
         "Emojis podem ser interpretados de várias maneiras\nDomingo Alvarez E/Unsplash\nSabe tudo sobre o significado de emojis? Faça o teste e descubra ",
         "As carinhas usadas em mensagens na internet podem ser interpretadas de mais de uma maneira. Confira se você sabe o que algumas delas representam."
        ],
        [
         "17",
         "ca1b94bdaa439fbf9804ec591c1f8751d8fd83f5815a3783b5b724cc7864cc02",
         "Non-Logged",
         "7a19661e-9c1b-4bc0-837f-9eeba915916a",
         "01-08-2022 16:41:44",
         "12",
         "1",
         "http://g1.globo.com/loterias/noticia/2022/06/10/lotofacil-concurso-2544-4-apostas-acertam-os-15-numeros-e-faturam-r-2699-mil-cada-uma.ghtml",
         "2022-06-11 00:47:21+00:00",
         "2022-06-11 00:47:21+00:00",
         "Lotofácil, concurso 2.544: 4 apostas acertam os 15 números e faturam R$ 269,9 mil cada uma",
         "Lotofácil\nFoto: Marcelo Brandt/g1\nQuatro apostas acertaram os 15 números do concurso 2.544 da Lotofácil e receberão R$ 269.995,45 cada uma. As vencedoras são de Manaus (AM), Ipatinga (MG), Itapecerica (MG) e Araraquara (SP).\nVeja as dezenas sorteadas: 03 - 05 - 06 - 07 - 08 - 10 - 11 - 12 - 13 - 15 - 18 - 20 - 21 - 23 - 24.\nVeja as demais faixas premiadas\n14 acertos: 399 apostas ganhadoras; cada uma receberá R$ 810,76;\n13 acertos: 15.200 apostas ganhadoras; cada uma receberá R$ 25;\n12 acertos: 184.233 apostas ganhadoras; cada uma receberá R$ 10;\n11 acertos: 777.954 apostas ganhadoras; cada uma receberá R$ 5.\nO próximo sorteio será no sábado (11). O prêmio será de R$ 1,5 milhão.\nPara apostar na Lotofácil\nAs apostas podem ser feitas até as 19h (horário de Brasília), em qualquer lotérica do país ou pela internet, no site da Caixa Econômica Federal – acessível por celular, computador ou outros dispositivos. É necessário fazer um cadastro, ser maior de idade (18 anos ou mais) e preencher o número do cartão de crédito.\nComo jogar?\nNa Lotofácil, o apostador marca entre 15 e 20 números, dentre os 25 disponíveis no volante, e fatura prêmio se acertar 11, 12, 13, 14 ou 15 números.\nO apostador pode ainda deixar que o sistema escolha os números por meio da 'surpresinha', ou concorrer com a mesma aposta por 3, 6, 12, 18 ou 24 concursos consecutivos por meio da 'teimosinha'.\nA aposta mínima, de 15 números, custa R$ 2,50 e os sorteios são realizados de segunda-feira a sábado, às 20h.\nVÍDEOS: os vídeos mais assistidos do G1 nos últimos 7 dias",
         "Veja os números sorteados: 03 - 05 - 06 - 07 - 08 - 10 - 11 - 12 - 13 - 15 - 18 - 20 - 21 - 23 - 24."
        ]
       ],
       "shape": {
        "columns": 12,
        "rows": 5
       }
      },
      "text/html": [
       "<div>\n",
       "<style scoped>\n",
       "    .dataframe tbody tr th:only-of-type {\n",
       "        vertical-align: middle;\n",
       "    }\n",
       "\n",
       "    .dataframe tbody tr th {\n",
       "        vertical-align: top;\n",
       "    }\n",
       "\n",
       "    .dataframe thead th {\n",
       "        text-align: right;\n",
       "    }\n",
       "</style>\n",
       "<table border=\"1\" class=\"dataframe\">\n",
       "  <thead>\n",
       "    <tr style=\"text-align: right;\">\n",
       "      <th></th>\n",
       "      <th>userId</th>\n",
       "      <th>userType</th>\n",
       "      <th>itemId</th>\n",
       "      <th>timestamp</th>\n",
       "      <th>clicks</th>\n",
       "      <th>visits</th>\n",
       "      <th>url</th>\n",
       "      <th>issued</th>\n",
       "      <th>modified</th>\n",
       "      <th>title</th>\n",
       "      <th>body</th>\n",
       "      <th>caption</th>\n",
       "    </tr>\n",
       "  </thead>\n",
       "  <tbody>\n",
       "    <tr>\n",
       "      <th>0</th>\n",
       "      <td>fbb963d61eb8149e7f43b1bd905457ba5e106a830ddc27...</td>\n",
       "      <td>Non-Logged</td>\n",
       "      <td>80aa7bb2-adce-4a55-9711-912c407927a1</td>\n",
       "      <td>15-07-2022 18:01:25</td>\n",
       "      <td>0</td>\n",
       "      <td>1</td>\n",
       "      <td>http://g1.globo.com/politica/noticia/2022/08/0...</td>\n",
       "      <td>2022-08-03 21:32:51+00:00</td>\n",
       "      <td>2022-09-19 19:58:15+00:00</td>\n",
       "      <td>Câmara aprova projeto que acaba com saída temp...</td>\n",
       "      <td>A Câmara dos Deputados aprovou nesta quarta-fe...</td>\n",
       "      <td>Relator defende que 'saidinhas' causam 'sentim...</td>\n",
       "    </tr>\n",
       "    <tr>\n",
       "      <th>2</th>\n",
       "      <td>17f1083e6079b0f28f7820a6803583d1c1b405c0718b11...</td>\n",
       "      <td>Non-Logged</td>\n",
       "      <td>19ba89fc-1e06-4c5d-9c57-4a3088dc0511</td>\n",
       "      <td>06-07-2022 12:45:08</td>\n",
       "      <td>68</td>\n",
       "      <td>1</td>\n",
       "      <td>http://g1.globo.com/rn/rio-grande-do-norte/not...</td>\n",
       "      <td>2022-07-09 14:15:29+00:00</td>\n",
       "      <td>2022-07-10 12:12:21+00:00</td>\n",
       "      <td>Jovem de 21 anos é morto e mãe é baleada duran...</td>\n",
       "      <td>João Victor Queiroz Munai Dantas, de 21 anos, ...</td>\n",
       "      <td>Caso aconteceu na madrugada deste sábado (9) n...</td>\n",
       "    </tr>\n",
       "    <tr>\n",
       "      <th>7</th>\n",
       "      <td>2dd18b58a634a4e77181a202cf152df6169dfb3e4230ef...</td>\n",
       "      <td>Non-Logged</td>\n",
       "      <td>037155f4-4db8-4f07-8d0a-3e559605b8ad</td>\n",
       "      <td>06-07-2022 07:18:08</td>\n",
       "      <td>0</td>\n",
       "      <td>1</td>\n",
       "      <td>http://g1.globo.com/fantastico/noticia/2022/07...</td>\n",
       "      <td>2022-07-04 02:08:02+00:00</td>\n",
       "      <td>2022-08-02 11:02:20+00:00</td>\n",
       "      <td>Luva de Pedreiro sobre a polêmica com o antigo...</td>\n",
       "      <td>'Eu não quero mal dele', diz Luva de Pedreiro ...</td>\n",
       "      <td>Influenciador digital possui mais de 15 milhõe...</td>\n",
       "    </tr>\n",
       "    <tr>\n",
       "      <th>12</th>\n",
       "      <td>fb345f6ed8cbda76989ef0833b8fae3bd45fef79f29817...</td>\n",
       "      <td>Non-Logged</td>\n",
       "      <td>93627535-13eb-4e00-a44e-93dfd85ad64f</td>\n",
       "      <td>06-07-2022 16:27:29</td>\n",
       "      <td>0</td>\n",
       "      <td>1</td>\n",
       "      <td>http://g1.globo.com/tecnologia/quiz/sabe-tudo-...</td>\n",
       "      <td>2022-07-23 09:00:33+00:00</td>\n",
       "      <td>2022-07-23 09:00:33+00:00</td>\n",
       "      <td>Sabe tudo sobre o significado dos emojis? Faça...</td>\n",
       "      <td>Emojis podem ser interpretados de várias manei...</td>\n",
       "      <td>As carinhas usadas em mensagens na internet po...</td>\n",
       "    </tr>\n",
       "    <tr>\n",
       "      <th>17</th>\n",
       "      <td>ca1b94bdaa439fbf9804ec591c1f8751d8fd83f5815a37...</td>\n",
       "      <td>Non-Logged</td>\n",
       "      <td>7a19661e-9c1b-4bc0-837f-9eeba915916a</td>\n",
       "      <td>01-08-2022 16:41:44</td>\n",
       "      <td>12</td>\n",
       "      <td>1</td>\n",
       "      <td>http://g1.globo.com/loterias/noticia/2022/06/1...</td>\n",
       "      <td>2022-06-11 00:47:21+00:00</td>\n",
       "      <td>2022-06-11 00:47:21+00:00</td>\n",
       "      <td>Lotofácil, concurso 2.544: 4 apostas acertam o...</td>\n",
       "      <td>Lotofácil\\nFoto: Marcelo Brandt/g1\\nQuatro apo...</td>\n",
       "      <td>Veja os números sorteados: 03 - 05 - 06 - 07 -...</td>\n",
       "    </tr>\n",
       "  </tbody>\n",
       "</table>\n",
       "</div>"
      ],
      "text/plain": [
       "                                               userId    userType  \\\n",
       "0   fbb963d61eb8149e7f43b1bd905457ba5e106a830ddc27...  Non-Logged   \n",
       "2   17f1083e6079b0f28f7820a6803583d1c1b405c0718b11...  Non-Logged   \n",
       "7   2dd18b58a634a4e77181a202cf152df6169dfb3e4230ef...  Non-Logged   \n",
       "12  fb345f6ed8cbda76989ef0833b8fae3bd45fef79f29817...  Non-Logged   \n",
       "17  ca1b94bdaa439fbf9804ec591c1f8751d8fd83f5815a37...  Non-Logged   \n",
       "\n",
       "                                  itemId            timestamp  clicks  visits  \\\n",
       "0   80aa7bb2-adce-4a55-9711-912c407927a1  15-07-2022 18:01:25       0       1   \n",
       "2   19ba89fc-1e06-4c5d-9c57-4a3088dc0511  06-07-2022 12:45:08      68       1   \n",
       "7   037155f4-4db8-4f07-8d0a-3e559605b8ad  06-07-2022 07:18:08       0       1   \n",
       "12  93627535-13eb-4e00-a44e-93dfd85ad64f  06-07-2022 16:27:29       0       1   \n",
       "17  7a19661e-9c1b-4bc0-837f-9eeba915916a  01-08-2022 16:41:44      12       1   \n",
       "\n",
       "                                                  url  \\\n",
       "0   http://g1.globo.com/politica/noticia/2022/08/0...   \n",
       "2   http://g1.globo.com/rn/rio-grande-do-norte/not...   \n",
       "7   http://g1.globo.com/fantastico/noticia/2022/07...   \n",
       "12  http://g1.globo.com/tecnologia/quiz/sabe-tudo-...   \n",
       "17  http://g1.globo.com/loterias/noticia/2022/06/1...   \n",
       "\n",
       "                      issued                  modified  \\\n",
       "0  2022-08-03 21:32:51+00:00 2022-09-19 19:58:15+00:00   \n",
       "2  2022-07-09 14:15:29+00:00 2022-07-10 12:12:21+00:00   \n",
       "7  2022-07-04 02:08:02+00:00 2022-08-02 11:02:20+00:00   \n",
       "12 2022-07-23 09:00:33+00:00 2022-07-23 09:00:33+00:00   \n",
       "17 2022-06-11 00:47:21+00:00 2022-06-11 00:47:21+00:00   \n",
       "\n",
       "                                                title  \\\n",
       "0   Câmara aprova projeto que acaba com saída temp...   \n",
       "2   Jovem de 21 anos é morto e mãe é baleada duran...   \n",
       "7   Luva de Pedreiro sobre a polêmica com o antigo...   \n",
       "12  Sabe tudo sobre o significado dos emojis? Faça...   \n",
       "17  Lotofácil, concurso 2.544: 4 apostas acertam o...   \n",
       "\n",
       "                                                 body  \\\n",
       "0   A Câmara dos Deputados aprovou nesta quarta-fe...   \n",
       "2   João Victor Queiroz Munai Dantas, de 21 anos, ...   \n",
       "7   'Eu não quero mal dele', diz Luva de Pedreiro ...   \n",
       "12  Emojis podem ser interpretados de várias manei...   \n",
       "17  Lotofácil\\nFoto: Marcelo Brandt/g1\\nQuatro apo...   \n",
       "\n",
       "                                              caption  \n",
       "0   Relator defende que 'saidinhas' causam 'sentim...  \n",
       "2   Caso aconteceu na madrugada deste sábado (9) n...  \n",
       "7   Influenciador digital possui mais de 15 milhõe...  \n",
       "12  As carinhas usadas em mensagens na internet po...  \n",
       "17  Veja os números sorteados: 03 - 05 - 06 - 07 -...  "
      ]
     },
     "execution_count": 10,
     "metadata": {},
     "output_type": "execute_result"
    }
   ],
   "source": [
    "# Encontrar items cujo \"timestamp\" seja menor que \"issued\"\n",
    "df_interaction_before_issued = df[df['timestamp'] < df['issued']]\n",
    "df_interaction_before_issued.head()"
   ]
  },
  {
   "cell_type": "code",
   "execution_count": 62,
   "metadata": {},
   "outputs": [
    {
     "data": {
      "text/plain": [
       "(3865086, 12)"
      ]
     },
     "execution_count": 62,
     "metadata": {},
     "output_type": "execute_result"
    }
   ],
   "source": [
    "df_interaction_before_issued.shape"
   ]
  },
  {
   "cell_type": "code",
   "execution_count": 63,
   "metadata": {},
   "outputs": [
    {
     "data": {
      "text/html": [
       "<div>\n",
       "<style scoped>\n",
       "    .dataframe tbody tr th:only-of-type {\n",
       "        vertical-align: middle;\n",
       "    }\n",
       "\n",
       "    .dataframe tbody tr th {\n",
       "        vertical-align: top;\n",
       "    }\n",
       "\n",
       "    .dataframe thead th {\n",
       "        text-align: right;\n",
       "    }\n",
       "</style>\n",
       "<table border=\"1\" class=\"dataframe\">\n",
       "  <thead>\n",
       "    <tr style=\"text-align: right;\">\n",
       "      <th></th>\n",
       "      <th>userId</th>\n",
       "      <th>userType</th>\n",
       "      <th>itemId</th>\n",
       "      <th>timestamp</th>\n",
       "      <th>clicks</th>\n",
       "      <th>visits</th>\n",
       "      <th>url</th>\n",
       "      <th>issued</th>\n",
       "      <th>modified</th>\n",
       "      <th>title</th>\n",
       "      <th>body</th>\n",
       "      <th>caption</th>\n",
       "    </tr>\n",
       "  </thead>\n",
       "  <tbody>\n",
       "    <tr>\n",
       "      <th>1</th>\n",
       "      <td>fbb963d61eb8149e7f43b1bd905457ba5e106a830ddc27...</td>\n",
       "      <td>Non-Logged</td>\n",
       "      <td>d9e5f15d-b441-4d8b-bee4-462b106d3916</td>\n",
       "      <td>04-08-2022 17:30:03</td>\n",
       "      <td>0</td>\n",
       "      <td>1</td>\n",
       "      <td>http://g1.globo.com/sp/sao-paulo/noticia/2021/...</td>\n",
       "      <td>2021-11-06 20:35:20+00:00</td>\n",
       "      <td>2021-11-06 23:23:25+00:00</td>\n",
       "      <td>Primeiro dia do Parque Augusta em SP tem 'cach...</td>\n",
       "      <td>Cachorródromo na inauguração do Parque Augusta...</td>\n",
       "      <td>Local foi inaugurado pelo prefeito Ricardo Nun...</td>\n",
       "    </tr>\n",
       "    <tr>\n",
       "      <th>3</th>\n",
       "      <td>17f1083e6079b0f28f7820a6803583d1c1b405c0718b11...</td>\n",
       "      <td>Non-Logged</td>\n",
       "      <td>e273dba4-136c-45fb-bdd6-0cc57b13aaf0</td>\n",
       "      <td>10-07-2022 19:28:29</td>\n",
       "      <td>12</td>\n",
       "      <td>1</td>\n",
       "      <td>http://g1.globo.com/mundo/noticia/2022/06/04/j...</td>\n",
       "      <td>2022-06-04 11:12:43+00:00</td>\n",
       "      <td>2022-06-04 11:18:12+00:00</td>\n",
       "      <td>Jubileu da rainha Elizabeth 2ª: como Harry e M...</td>\n",
       "      <td>Meghan Markle e Harry na chega à missa oficial...</td>\n",
       "      <td>O duque e a duquesa de Sussex sentaram do lado...</td>\n",
       "    </tr>\n",
       "    <tr>\n",
       "      <th>4</th>\n",
       "      <td>528a8d7a2af73101da8d6709c1ec875b449a5a58749a99...</td>\n",
       "      <td>Non-Logged</td>\n",
       "      <td>59a61a8a-cc52-453f-b1cd-2bd019e9d574</td>\n",
       "      <td>14-07-2022 18:38:10</td>\n",
       "      <td>55</td>\n",
       "      <td>1</td>\n",
       "      <td>http://g1.globo.com/pr/parana/noticia/2021/10/...</td>\n",
       "      <td>2021-10-20 11:17:14+00:00</td>\n",
       "      <td>2021-10-20 20:27:48+00:00</td>\n",
       "      <td>Taxa para emissão da 2ª via do RG pode ser pag...</td>\n",
       "      <td>Taxa para emissão do RG poderá ser paga por PI...</td>\n",
       "      <td>Guia de pagamento, de R$ 38,30, é gerada logo ...</td>\n",
       "    </tr>\n",
       "    <tr>\n",
       "      <th>5</th>\n",
       "      <td>528a8d7a2af73101da8d6709c1ec875b449a5a58749a99...</td>\n",
       "      <td>Non-Logged</td>\n",
       "      <td>a0562805-c7d1-4ffd-b622-87c50ae006f4</td>\n",
       "      <td>10-08-2022 14:24:04</td>\n",
       "      <td>9</td>\n",
       "      <td>1</td>\n",
       "      <td>http://g1.globo.com/go/goias/noticia/2022/07/1...</td>\n",
       "      <td>2022-07-14 14:28:35+00:00</td>\n",
       "      <td>2022-07-14 14:29:47+00:00</td>\n",
       "      <td>\\nMais de 6 mil classificados em processo sele...</td>\n",
       "      <td>Mais de 6 mil classificados em processo selet...</td>\n",
       "      <td>Convocação é para cargo de recenseador do Cens...</td>\n",
       "    </tr>\n",
       "    <tr>\n",
       "      <th>6</th>\n",
       "      <td>2dd18b58a634a4e77181a202cf152df6169dfb3e4230ef...</td>\n",
       "      <td>Non-Logged</td>\n",
       "      <td>233f8238-2ce0-470f-a9d5-0e0ac530382a</td>\n",
       "      <td>04-07-2022 19:36:13</td>\n",
       "      <td>0</td>\n",
       "      <td>1</td>\n",
       "      <td>http://g1.globo.com/pop-arte/noticia/jim-carre...</td>\n",
       "      <td>2018-02-02 09:50:34+00:00</td>\n",
       "      <td>2018-02-02 09:50:35+00:00</td>\n",
       "      <td>Jim Carrey não será julgado pela morte da namo...</td>\n",
       "      <td>Jim Carrey carrega caixão da ex-namorada Cathr...</td>\n",
       "      <td>Ex-marido e mãe de Cathriona White haviam denu...</td>\n",
       "    </tr>\n",
       "  </tbody>\n",
       "</table>\n",
       "</div>"
      ],
      "text/plain": [
       "                                              userId    userType  \\\n",
       "1  fbb963d61eb8149e7f43b1bd905457ba5e106a830ddc27...  Non-Logged   \n",
       "3  17f1083e6079b0f28f7820a6803583d1c1b405c0718b11...  Non-Logged   \n",
       "4  528a8d7a2af73101da8d6709c1ec875b449a5a58749a99...  Non-Logged   \n",
       "5  528a8d7a2af73101da8d6709c1ec875b449a5a58749a99...  Non-Logged   \n",
       "6  2dd18b58a634a4e77181a202cf152df6169dfb3e4230ef...  Non-Logged   \n",
       "\n",
       "                                 itemId            timestamp  clicks  visits  \\\n",
       "1  d9e5f15d-b441-4d8b-bee4-462b106d3916  04-08-2022 17:30:03       0       1   \n",
       "3  e273dba4-136c-45fb-bdd6-0cc57b13aaf0  10-07-2022 19:28:29      12       1   \n",
       "4  59a61a8a-cc52-453f-b1cd-2bd019e9d574  14-07-2022 18:38:10      55       1   \n",
       "5  a0562805-c7d1-4ffd-b622-87c50ae006f4  10-08-2022 14:24:04       9       1   \n",
       "6  233f8238-2ce0-470f-a9d5-0e0ac530382a  04-07-2022 19:36:13       0       1   \n",
       "\n",
       "                                                 url  \\\n",
       "1  http://g1.globo.com/sp/sao-paulo/noticia/2021/...   \n",
       "3  http://g1.globo.com/mundo/noticia/2022/06/04/j...   \n",
       "4  http://g1.globo.com/pr/parana/noticia/2021/10/...   \n",
       "5  http://g1.globo.com/go/goias/noticia/2022/07/1...   \n",
       "6  http://g1.globo.com/pop-arte/noticia/jim-carre...   \n",
       "\n",
       "                     issued                  modified  \\\n",
       "1 2021-11-06 20:35:20+00:00 2021-11-06 23:23:25+00:00   \n",
       "3 2022-06-04 11:12:43+00:00 2022-06-04 11:18:12+00:00   \n",
       "4 2021-10-20 11:17:14+00:00 2021-10-20 20:27:48+00:00   \n",
       "5 2022-07-14 14:28:35+00:00 2022-07-14 14:29:47+00:00   \n",
       "6 2018-02-02 09:50:34+00:00 2018-02-02 09:50:35+00:00   \n",
       "\n",
       "                                               title  \\\n",
       "1  Primeiro dia do Parque Augusta em SP tem 'cach...   \n",
       "3  Jubileu da rainha Elizabeth 2ª: como Harry e M...   \n",
       "4  Taxa para emissão da 2ª via do RG pode ser pag...   \n",
       "5  \\nMais de 6 mil classificados em processo sele...   \n",
       "6  Jim Carrey não será julgado pela morte da namo...   \n",
       "\n",
       "                                                body  \\\n",
       "1  Cachorródromo na inauguração do Parque Augusta...   \n",
       "3  Meghan Markle e Harry na chega à missa oficial...   \n",
       "4  Taxa para emissão do RG poderá ser paga por PI...   \n",
       "5   Mais de 6 mil classificados em processo selet...   \n",
       "6  Jim Carrey carrega caixão da ex-namorada Cathr...   \n",
       "\n",
       "                                             caption  \n",
       "1  Local foi inaugurado pelo prefeito Ricardo Nun...  \n",
       "3  O duque e a duquesa de Sussex sentaram do lado...  \n",
       "4  Guia de pagamento, de R$ 38,30, é gerada logo ...  \n",
       "5  Convocação é para cargo de recenseador do Cens...  \n",
       "6  Ex-marido e mãe de Cathriona White haviam denu...  "
      ]
     },
     "execution_count": 63,
     "metadata": {},
     "output_type": "execute_result"
    }
   ],
   "source": [
    "# Encontrar items cujo \"timestamp\" seja maior que \"issued\"\n",
    "df_interaction_after_issued = df[df['timestamp'] >= df['issued']]\n",
    "df_interaction_after_issued.head()"
   ]
  },
  {
   "cell_type": "code",
   "execution_count": 64,
   "metadata": {},
   "outputs": [
    {
     "data": {
      "text/plain": [
       "(4258865, 12)"
      ]
     },
     "execution_count": 64,
     "metadata": {},
     "output_type": "execute_result"
    }
   ],
   "source": [
    "df_interaction_after_issued.shape"
   ]
  },
  {
   "cell_type": "code",
   "execution_count": 9,
   "metadata": {},
   "outputs": [
    {
     "data": {
      "text/plain": [
       "(8123951, 6)"
      ]
     },
     "execution_count": 9,
     "metadata": {},
     "output_type": "execute_result"
    }
   ],
   "source": [
    "df_interactions.shape"
   ]
  },
  {
   "cell_type": "markdown",
   "metadata": {},
   "source": [
    "# Treinar modelo usando o Implicit"
   ]
  },
  {
   "cell_type": "markdown",
   "metadata": {},
   "source": [
    "### Mapear `userId` e `itemId` para índices"
   ]
  },
  {
   "cell_type": "code",
   "execution_count": 15,
   "metadata": {},
   "outputs": [],
   "source": [
    "# Vamos usar \"visits\" como sinal de feedback\n",
    "df_interactions['visits'] = df_interactions['visits'].fillna(0).astype(float)\n",
    "\n",
    "# Coletar todos os usuários e itens\n",
    "unique_users = df_interactions['userId'].unique()\n",
    "unique_items = df_interactions['itemId'].unique()\n",
    "\n",
    "# Criar dicionários: user -> index e item -> index\n",
    "user_to_idx = {user_id: idx for idx, user_id in enumerate(unique_users)}\n",
    "item_to_idx = {item_id: idx for idx, item_id in enumerate(unique_items)}\n",
    "\n",
    "# Inverso, se quisermos recuperar IDs originais\n",
    "idx_to_user = {v: k for k, v in user_to_idx.items()}\n",
    "idx_to_item = {v: k for k, v in item_to_idx.items()}"
   ]
  },
  {
   "cell_type": "markdown",
   "metadata": {},
   "source": [
    "### Montar a matriz esparsa"
   ]
  },
  {
   "cell_type": "code",
   "execution_count": 16,
   "metadata": {},
   "outputs": [],
   "source": [
    "rows = []\n",
    "cols = []\n",
    "vals = []\n",
    "\n",
    "for _, row in df_interactions.iterrows():\n",
    "    u = user_to_idx[row['userId']]\n",
    "    i = item_to_idx[row['itemId']]\n",
    "    v = row['visits']  # feedback implícito (pode ser visits ou clicks)\n",
    "    rows.append(u)\n",
    "    cols.append(i)\n",
    "    vals.append(v)\n",
    "\n",
    "num_users = len(unique_users)\n",
    "num_items = len(unique_items)\n",
    "\n",
    "# Cria uma matriz esparsa no formato COO\n",
    "user_item_matrix = coo_matrix((vals, (rows, cols)), shape=(num_users, num_items))"
   ]
  },
  {
   "cell_type": "code",
   "execution_count": 17,
   "metadata": {},
   "outputs": [
    {
     "data": {
      "text/plain": [
       "<COOrdinate sparse matrix of dtype 'float64'\n",
       "\twith 8123951 stored elements and shape (577942, 255603)>"
      ]
     },
     "execution_count": 17,
     "metadata": {},
     "output_type": "execute_result"
    }
   ],
   "source": [
    "user_item_matrix"
   ]
  },
  {
   "cell_type": "markdown",
   "metadata": {},
   "source": [
    "### Treinando o modelo com Implicit"
   ]
  },
  {
   "cell_type": "code",
   "execution_count": 18,
   "metadata": {},
   "outputs": [
    {
     "name": "stderr",
     "output_type": "stream",
     "text": [
      "/Users/lucassantos/Dev/python/recommendation-system/lib/python3.13/site-packages/tqdm/auto.py:21: TqdmWarning: IProgress not found. Please update jupyter and ipywidgets. See https://ipywidgets.readthedocs.io/en/stable/user_install.html\n",
      "  from .autonotebook import tqdm as notebook_tqdm\n"
     ]
    }
   ],
   "source": [
    "import implicit"
   ]
  },
  {
   "cell_type": "code",
   "execution_count": null,
   "metadata": {},
   "outputs": [
    {
     "name": "stderr",
     "output_type": "stream",
     "text": [
      "100%|██████████| 15/15 [00:31<00:00,  2.11s/it]\n"
     ]
    }
   ],
   "source": [
    "# Converte a matriz para formato CSR (recomendado para o treino)\n",
    "user_item_csr = user_item_matrix.tocsr()\n",
    "\n",
    "# Cria o modelo\n",
    "model = implicit.als.AlternatingLeastSquares(\n",
    "    factors=50,        # número de fatores latentes\n",
    "    regularization=0.01,\n",
    "    iterations=15,\n",
    "    random_state=42\n",
    ")\n",
    "\n",
    "# Treina o modelo\n",
    "# Observe que para feedback implícito, a biblioteca implicit recomenda\n",
    "# que a matriz de \"confiança\" seja = alpha * user_item_matrix.\n",
    "# Mas como simplificação, podemos chamar 'model.fit' direto.\n",
    "model.fit(user_item_csr)"
   ]
  },
  {
   "cell_type": "code",
   "execution_count": null,
   "metadata": {},
   "outputs": [
    {
     "name": "stdout",
     "output_type": "stream",
     "text": [
      "Recomendações para o usuário fbb963d61eb8149e7f43b1bd905457ba5e106a830ddc27288434101e7252ef57: ['f0a78e58-ec7e-494c-9462-fbd6446a9a89', 'd8e96969-c9d9-4c28-a9a8-403abc1e784a', 'bf257382-74fb-4392-ad6a-143240e39f81', 'b0803304-62b4-4428-a333-e9bf623c8a98', '8c246d2b-81bd-4c1f-b563-2c905675f984']\n"
     ]
    }
   ],
   "source": [
    "def recomendar_para_usuario(model, user_item_csr, user_id, N=5):\n",
    "    # Converte ID externo do usuário para índice interno\n",
    "    if user_id not in user_to_idx:\n",
    "        print(f\"Usuário {user_id} não encontrado. Usar fallback...\")\n",
    "        return []\n",
    "\n",
    "    user_idx = user_to_idx[user_id]\n",
    "\n",
    "    # Extrair a linha correspondente ao usuário específico\n",
    "    user_interactions = user_item_csr[user_idx]\n",
    "\n",
    "    # O método recommend retorna pares (item_idx, score)\n",
    "    # Precisamos passar a matriz de interações para calcular a filtragem de itens já consumidos\n",
    "    recommended, scores = model.recommend(\n",
    "        userid=user_idx,\n",
    "        user_items=user_interactions,  # matriz do histórico do usuário\n",
    "        N=N\n",
    "    )\n",
    "\n",
    "    # Converte índices internos de item para IDs originais\n",
    "    recommended_items = [idx_to_item[i] for i in recommended]\n",
    "\n",
    "    return recommended_items\n",
    "\n",
    "user_id_exemplo = df_interactions['userId'].iloc[0]  # Pega primeiro userId do dataset, por exemplo\n",
    "\n",
    "recs = recomendar_para_usuario(model, user_item_csr, user_id_exemplo, N=5)\n",
    "print(f\"Recomendações para o usuário {user_id_exemplo}: {recs}\")"
   ]
  },
  {
   "cell_type": "code",
   "execution_count": null,
   "metadata": {},
   "outputs": [],
   "source": []
  }
 ],
 "metadata": {
  "kernelspec": {
   "display_name": "recommendation-system",
   "language": "python",
   "name": "python3"
  },
  "language_info": {
   "codemirror_mode": {
    "name": "ipython",
    "version": 3
   },
   "file_extension": ".py",
   "mimetype": "text/x-python",
   "name": "python",
   "nbconvert_exporter": "python",
   "pygments_lexer": "ipython3",
   "version": "3.13.2"
  }
 },
 "nbformat": 4,
 "nbformat_minor": 2
}
